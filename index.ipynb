{
 "cells": [
  {
   "cell_type": "code",
   "execution_count": null,
   "metadata": {},
   "outputs": [
    {
     "name": "stderr",
     "output_type": "stream",
     "text": [
      "/home/ds/anaconda3/envs/DCLwidgets/lib/python3.7/site-packages/outdated/utils.py:18: OutdatedPackageWarning: The package pingouin is out of date. Your version is 0.3.12, the latest is 0.4.0.\n",
      "Set the environment variable OUTDATED_IGNORE=1 to disable these warnings.\n",
      "  **kwargs\n"
     ]
    }
   ],
   "source": [
    "#hide\n",
    "from dcl_stats_n_plots.stats import *"
   ]
  },
  {
   "cell_type": "markdown",
   "metadata": {},
   "source": [
    "# dcl_stats_n_plots\n",
    "\n",
    "> An interactive widget to compute statistics and plot your data"
   ]
  },
  {
   "cell_type": "markdown",
   "metadata": {},
   "source": [
    "This repository is part of the **DCLwidgets** series. \n",
    "These repositories are dedicated to foster the joint development of tools and resources by the [Defense Circuits Lab](https://www.defense-circuits-lab.com/). \n",
    "The intended use of each tool may vary greatly from very lab- and/or analysis-specific problems, to tools and resources that may be of use also for other researchers.\n",
    "The common goal for each repository, however, is to provide the tool as an interactive, userfriendly, and intuitive GUI so that the user needs little to no coding expertise.\n",
    "\n",
    "List of all repositories of the DCLwidgets series:\n",
    "- [dcl_stats_n_plots](https://github.com/DSegebarth/dcl_stats_n_plots/): A widget to compute statistics and plot the data with several options to customize the plot\n",
    "- [DCL_to_NWB](https://github.com/DSegebarth/DCL_to_NWB/): A widget to convert datasets acquired in the DCL into the NWB file format\n",
    "- [BSc_MS](https://github.com/DSegebarth/BSc_MS/): A widget to annotate the corners of a maze within video files and save the corresponding x- and y-coordinates\n",
    "\n",
    "---"
   ]
  },
  {
   "cell_type": "markdown",
   "metadata": {},
   "source": [
    "## About this widget"
   ]
  },
  {
   "cell_type": "markdown",
   "metadata": {},
   "source": [
    "The purpose of this widget is to make everyday life in the lab a little easier, as it helps you to compute statistical tests and to create\n",
    "highly customizable plots that visualize your data. The widget also enables you to select exactly which statistical results you would like to annotate \n",
    "within the plots, so that you are directly ready to go for your next presentation!\n",
    "\n",
    "Please get in touch if you have any feedback, questions, or feature requests for us!\n",
    "\n",
    "---"
   ]
  },
  {
   "cell_type": "markdown",
   "metadata": {},
   "source": [
    "## Install"
   ]
  },
  {
   "cell_type": "markdown",
   "metadata": {},
   "source": [
    "`pip install dcl-stats-n-plots`"
   ]
  },
  {
   "cell_type": "markdown",
   "metadata": {},
   "source": [
    "## How to use"
   ]
  },
  {
   "cell_type": "markdown",
   "metadata": {},
   "source": [
    "Examples and tutorials will be provided soon.\n",
    "\n",
    "---"
   ]
  },
  {
   "cell_type": "markdown",
   "metadata": {},
   "source": [
    "## Next steps"
   ]
  },
  {
   "cell_type": "markdown",
   "metadata": {},
   "source": [
    "This repository is currently rebuild from an [earlier version](https://github.com/DSegebarth/DCL_stats_and_plots/) to enable the use of [nbdev](https://nbdev.fast.ai/).\n",
    "Alongside this rebuild, the code will be re-organized to foster the use of `dcl-stats-n-plots` also outside of the designated GUI.\n",
    "\n",
    "The next steps include:\n",
    "\n",
    "* finish rebuild to cover all functionalities of the [earlier version](https://github.com/DSegebarth/DCL_stats_and_plots/) \n",
    "* implement tests & plots for repeated measurements\n",
    "* create tutorials & extend documentation"
   ]
  }
 ],
 "metadata": {
  "kernelspec": {
   "display_name": "Python 3 (ipykernel)",
   "language": "python",
   "name": "python3"
  }
 },
 "nbformat": 4,
 "nbformat_minor": 4
}
