{
 "cells": [
  {
   "cell_type": "code",
   "execution_count": null,
   "metadata": {},
   "outputs": [],
   "source": [
    "# default_exp stats"
   ]
  },
  {
   "cell_type": "code",
   "execution_count": null,
   "metadata": {},
   "outputs": [],
   "source": [
    "#hide\n",
    "from nbdev.showdoc import *"
   ]
  },
  {
   "cell_type": "markdown",
   "metadata": {},
   "source": [
    "# stats\n",
    "\n",
    "> This module contains all functions to compute the relevant statistics."
   ]
  },
  {
   "cell_type": "code",
   "execution_count": null,
   "metadata": {},
   "outputs": [],
   "source": [
    "#export\n",
    "import pandas as pd\n",
    "import numpy as np\n",
    "import pingouin as pg\n",
    "import itertools"
   ]
  },
  {
   "cell_type": "code",
   "execution_count": null,
   "metadata": {},
   "outputs": [],
   "source": [
    "#export\n",
    "def independent_samples(df):\n",
    "    \"Compare two or more independent samples\"\n",
    "    data_col = df.columns[0]\n",
    "    group_col = df.columns[1]\n",
    "\n",
    "    d_main = {}\n",
    "    l_groups = list(df[group_col].unique())\n",
    "    for group_id in l_groups:\n",
    "        d_main[group_id] = {'data': df.loc[df[group_col] == group_id, data_col].values,\n",
    "                            'normality_full': pg.normality(df.loc[df[group_col] == group_id, data_col].values),\n",
    "                            'normality_bool': pg.normality(df.loc[df[group_col] == group_id, data_col].values)['normal'][0]}\n",
    "\n",
    "    n_groups = len(l_groups)\n",
    "\n",
    "    d_main['summary'] = {'normality': all([d_main[elem]['normality_bool'] for elem in l_groups]),\n",
    "                         'homoscedasticity': pg.homoscedasticity([d_main[elem]['data'] for elem in l_groups])['equal_var'][0]}\n",
    "\n",
    "    parametric = all([d_main['summary']['normality'], d_main['summary']['homoscedasticity']])\n",
    "\n",
    "    if len(l_groups) > 2:\n",
    "        if parametric:\n",
    "            d_main['summary']['group_level_statistic'] = pg.anova(data=df, dv=data_col, between=group_col)\n",
    "            performed_test = 'One-way ANOVA'\n",
    "        else:\n",
    "            d_main['summary']['group_level_statistic'] = pg.kruskal(data=df, dv=data_col, between=group_col)\n",
    "            performed_test = 'Kruskal-Wallis-ANOVA'\n",
    "\n",
    "    if len(l_groups) > 1:\n",
    "        d_main['summary']['pairwise_comparisons'] = pg.pairwise_ttests(data=df, dv=data_col, between=group_col, parametric=parametric, padjust='holm')\n",
    "\n",
    "    else:\n",
    "        print('Error: The group_id column has to contain at least two different group_ids for this selection.\\\n",
    "        \\nDid you mean to perform a one-sample test?')\n",
    "\n",
    "    return data_col, group_col, d_main, l_groups, performed_test"
   ]
  },
  {
   "cell_type": "code",
   "execution_count": null,
   "metadata": {},
   "outputs": [
    {
     "name": "stderr",
     "output_type": "stream",
     "text": [
      "/home/ds/anaconda3/envs/DCLwidgets/lib/python3.7/site-packages/outdated/utils.py:18: OutdatedPackageWarning: The package pingouin is out of date. Your version is 0.3.12, the latest is 0.4.0.\n",
      "Set the environment variable OUTDATED_IGNORE=1 to disable these warnings.\n",
      "  **kwargs\n"
     ]
    }
   ],
   "source": [
    "#export\n",
    "def one_sample(df):\n",
    "    data_col = df.columns[0]\n",
    "    group_col = df.columns[1]\n",
    "    fixed_val_col = df.columns[2]\n",
    "\n",
    "    d_main = {}\n",
    "    fixed_value = df[fixed_val_col].values[0]\n",
    "    l_groups = list(df[group_col].unique())\n",
    "\n",
    "    group_id = l_groups[0]\n",
    "    d_main[group_id] = {'data': df.loc[df[group_col] == group_id, data_col].values,\n",
    "                        'normality_full': pg.normality(df.loc[df[group_col] == group_id, data_col].values),\n",
    "                        'normality_bool': pg.normality(df.loc[df[group_col] == group_id, data_col].values)['normal'][0]}\n",
    "    parametric = d_main[group_id]['normality_bool']\n",
    "\n",
    "    d_main['summary'] = {'normality_full': pg.normality(df.loc[df[group_col] == group_id, data_col].values),\n",
    "                         'normality_bool': pg.normality(df.loc[df[group_col] == group_id, data_col].values)['normal'][0]}\n",
    "\n",
    "    if parametric == True:\n",
    "        d_main['summary']['pairwise_comparisons'] = pg.ttest(df[data_col].values, fixed_value)\n",
    "        performed_test = 'one sample t-test'\n",
    "    else:\n",
    "        d_main['summary']['pairwise_comparisons'] = pg.wilcoxon(df[data_col].values - fixed_value, correction='auto')\n",
    "        performed_test = 'one sample wilcoxon rank-sum test'\n",
    "\n",
    "    return data_col, group_col, d_main, l_groups, performed_test, fixed_val_col, fixed_value"
   ]
  },
  {
   "cell_type": "code",
   "execution_count": null,
   "metadata": {},
   "outputs": [],
   "source": [
    "#export\n",
    "def mixed_model_ANOVA(df):\n",
    "    data_col = df.columns[0]\n",
    "    group_col = df.columns[1]\n",
    "    subject_col = df.columns[2]\n",
    "    session_col = df.columns[3]\n",
    "\n",
    "    d_main = {}\n",
    "    l_groups = list(df[group_col].unique())\n",
    "    l_sessions = list(df[session_col].unique())\n",
    "\n",
    "    for group_id in l_groups:\n",
    "        for session_id in l_sessions:\n",
    "            d_main[group_id, session_id] = {'data': df.loc[(df[group_col] == group_id) & (df[session_col] == session_id), data_col].values,\n",
    "                                            'mean': df.loc[(df[group_col] == group_id) & (df[session_col] == session_id), data_col].mean(),\n",
    "                                            'normality_full': pg.normality(df.loc[(df[group_col] == group_id)\n",
    "                                                                                  & (df[session_col] == session_id), data_col].values),\n",
    "                                            'normality_bool': pg.normality(df.loc[(df[group_col] == group_id)\n",
    "                                                                                  & (df[session_col] == session_id), data_col].values)['normal'][0]}\n",
    "\n",
    "    n_groups = len(l_groups)*len(l_sessions)\n",
    "    d_main['summary'] = {}\n",
    "\n",
    "    d_main['summary'] = {'normality': all([d_main[key]['normality_bool'] for key in d_main.keys() if key != 'summary']),\n",
    "                         'homoscedasticity': pg.homoscedasticity([d_main[key]['data'] for key in d_main.keys() if key != 'summary'])['equal_var'][0]}\n",
    "\n",
    "    parametric = all([d_main['summary']['normality'], d_main['summary']['homoscedasticity']])\n",
    "\n",
    "    d_main['summary']['group_level_statistic'] = pg.mixed_anova(data=df, dv=data_col, within=session_col, subject=subject_col, between=group_col)\n",
    "    performed_test = 'Mixed-model ANOVA'\n",
    "    # If we found some non-parametric alternative this could be implemented here\n",
    "    if parametric == False:\n",
    "        print (\"Please be aware that the data require non-parametric testing.\\n\\\n",
    "        However, this is not implemented yet and a parametric test is computed instead.\")\n",
    "\n",
    "    d_main['summary']['pairwise_comparisons'] = pg.pairwise_ttests(data=df, dv=data_col,\n",
    "                                                                   within=session_col, subject=subject_col,\n",
    "                                                                   between=group_col, padjust='holm')\n",
    "\n",
    "    return d_main, data_col, group_col, subject_col, session_col, l_groups, l_sessions, performed_test"
   ]
  }
 ],
 "metadata": {
  "kernelspec": {
   "display_name": "Python 3 (ipykernel)",
   "language": "python",
   "name": "python3"
  }
 },
 "nbformat": 4,
 "nbformat_minor": 4
}
