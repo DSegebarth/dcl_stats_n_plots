{
 "cells": [
  {
   "cell_type": "code",
   "execution_count": null,
   "metadata": {},
   "outputs": [],
   "source": [
    "# default_exp stats"
   ]
  },
  {
   "cell_type": "code",
   "execution_count": null,
   "metadata": {},
   "outputs": [
    {
     "name": "stderr",
     "output_type": "stream",
     "text": [
      "/home/ds/anaconda3/envs/DCLwidgets/lib/python3.7/site-packages/outdated/utils.py:18: OutdatedPackageWarning: The package pingouin is out of date. Your version is 0.3.12, the latest is 0.4.0.\n",
      "Set the environment variable OUTDATED_IGNORE=1 to disable these warnings.\n",
      "  **kwargs\n"
     ]
    }
   ],
   "source": [
    "#hide\n",
    "from nbdev.showdoc import *\n",
    "\n",
    "import pandas as pd\n",
    "import numpy as np\n",
    "import pingouin as pg\n",
    "\n",
    "import itertools\n",
    "import statistics as stats\n",
    "import math"
   ]
  },
  {
   "cell_type": "markdown",
   "metadata": {},
   "source": [
    "# stats\n",
    "\n",
    "> This module contains all functions to compute the relevant statistics."
   ]
  },
  {
   "cell_type": "code",
   "execution_count": null,
   "metadata": {},
   "outputs": [],
   "source": [
    "#export\n",
    "def independent_samples(df):\n",
    "    \"Compare two or more independent samples\"\n",
    "    data_col = df.columns[0]\n",
    "    group_col = df.columns[1]\n",
    "\n",
    "    d_main = {}\n",
    "    l_groups = list(df[group_col].unique())\n",
    "    for group_id in l_groups:\n",
    "        d_main[group_id] = {'data': df.loc[df[group_col] == group_id, data_col].values,\n",
    "                            'normality_full': pg.normality(df.loc[df[group_col] == group_id, data_col].values),\n",
    "                            'normality_bool': pg.normality(df.loc[df[group_col] == group_id, data_col].values)['normal'][0]}\n",
    "\n",
    "    n_groups = len(l_groups)\n",
    "\n",
    "    d_main['summary'] = {'normality': all([d_main[elem]['normality_bool'] for elem in l_groups]),\n",
    "                         'homoscedasticity': pg.homoscedasticity([d_main[elem]['data'] for elem in l_groups])['equal_var'][0]}\n",
    "\n",
    "    parametric = all([d_main['summary']['normality'], d_main['summary']['homoscedasticity']])\n",
    "\n",
    "    if len(l_groups) > 2:\n",
    "        if parametric:\n",
    "            d_main['summary']['group_level_statistic'] = pg.anova(data=df, dv=data_col, between=group_col)\n",
    "            performed_test = 'One-way ANOVA'\n",
    "        else:\n",
    "            d_main['summary']['group_level_statistic'] = pg.kruskal(data=df, dv=data_col, between=group_col)\n",
    "            performed_test = 'Kruskal-Wallis-ANOVA'\n",
    "\n",
    "    if len(l_groups) > 1:\n",
    "        d_main['summary']['pairwise_comparisons'] = pg.pairwise_ttests(data=df, dv=data_col, between=group_col, parametric=parametric, padjust='holm')\n",
    "\n",
    "    else:\n",
    "        print('Error: The group_id column has to contain at least two different group_ids for this selection.\\\n",
    "        \\nDid you mean to perform a one-sample test?')\n",
    "        \n",
    "    return data_col, group_col, d_main, l_groups, performed_test"
   ]
  },
  {
   "cell_type": "code",
   "execution_count": null,
   "metadata": {},
   "outputs": [],
   "source": []
  }
 ],
 "metadata": {
  "kernelspec": {
   "display_name": "Python 3 (ipykernel)",
   "language": "python",
   "name": "python3"
  }
 },
 "nbformat": 4,
 "nbformat_minor": 4
}
