{
 "cells": [
  {
   "cell_type": "code",
   "execution_count": null,
   "id": "9244a97c-c702-491a-b086-dcb0b20b1365",
   "metadata": {},
   "outputs": [],
   "source": [
    "from typing import Tuple, Dict, List, Optional, Union\n",
    "from abc import ABC, abstractmethod\n",
    "\n"
   ]
  },
  {
   "cell_type": "code",
   "execution_count": null,
   "id": "38d3e8cf-ea96-4bca-96e6-a18e471c5dd8",
   "metadata": {},
   "outputs": [],
   "source": [
    "class Plot(ABC):\n",
    "    \n",
    "    @property\n",
    "    @abstractmethod\n",
    "    def name_displayed_in_gui(self):\n",
    "        pass\n",
    "    \n",
    "    \n",
    "    @abstractmethod\n",
    "    def plot_data(self, configs: Configs, show: bool, save: bool) -> None:\n",
    "        pass\n",
    "    "
   ]
  },
  {
   "cell_type": "code",
   "execution_count": null,
   "id": "f151a5be-f2a4-48b1-9859-7b484dc9f2d5",
   "metadata": {},
   "outputs": [],
   "source": []
  }
 ],
 "metadata": {
  "kernelspec": {
   "display_name": "Python 3 (ipykernel)",
   "language": "python",
   "name": "python3"
  }
 },
 "nbformat": 4,
 "nbformat_minor": 5
}
