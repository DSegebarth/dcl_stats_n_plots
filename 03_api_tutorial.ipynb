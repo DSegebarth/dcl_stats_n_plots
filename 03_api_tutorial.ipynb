{
 "cells": [
  {
   "cell_type": "markdown",
   "id": "5a2b98a6-dd1e-4aeb-9291-869da9dcad98",
   "metadata": {},
   "source": [
    "# API tutorial\n",
    "\n",
    "> Turorial on how to interact with the dcl_stats_n_plots API"
   ]
  },
  {
   "cell_type": "markdown",
   "id": "ec72d2a8-dac0-4f2a-a1f0-4b6b6fab544d",
   "metadata": {},
   "source": [
    "## Getting started\n",
    "\n",
    "dcl_stats_n_plots is available from PyPi, so just run:\n",
    "\n",
    "> `pip install dcl-stats-n-plots`\n",
    "\n",
    "for installation. If you want a more detailed guide, please have a look at our [installation guide](https://dsegebarth.github.io/dcl_stats_n_plots/gui_tutorial.html#Getting-started). For this tutorial, we will use some demo files with dummy data, which are available [here](https://github.com/DSegebarth/dcl_stats_n_plots/tree/master/test_data).\n",
    "\n",
    "In the following, you will find some examples for each type of implemented statistical analysis, including the corresponding plotting and annotation functions. Currently, the implemented analyses are:\n",
    "\n",
    "1. Comparison of two or more independent samples\n",
    "2. Comparison of one group to a reference value\n",
    "3. Mixed-Model ANOVA (comparison of two or more groups with repeated measures)\n",
    "\n",
    "> Note: This package relies heavily on the correct design of the input data. Therefore, please take some time before using one of the implemented functionalities and make sure you got the input data organized in the right way. In general, this packages requires the input data to be organized in the so-called \"long format\" with a fixed column order. Please check out the \"Expected input data format\" section for the respective test for detailed information."
   ]
  },
  {
   "cell_type": "markdown",
   "id": "b0733bbc-6737-437e-98aa-d1af1c115fbe",
   "metadata": {},
   "source": [
    "## Comparison of two of more independent samples"
   ]
  },
  {
   "cell_type": "markdown",
   "id": "a27dbf4f-26c5-4d58-9c6c-7d7ddb2c8482",
   "metadata": {},
   "source": [
    "### Expected input data format\n",
    "\n",
    "For this analysis, you only have to provide two columns. The first one that contains the actual data values, and the second column that specifies to which group the respective data value belongs. In Microsoft Excel, this might look like the following:"
   ]
  },
  {
   "cell_type": "markdown",
   "id": "945993b7-c99c-4e96-b4b1-bc6bafee73a6",
   "metadata": {},
   "source": [
    "![api_tutorial_01](https://raw.githubusercontent.com/DSegebarth/dcl_stats_n_plots/master/media/api_tutorial_01.png)"
   ]
  },
  {
   "cell_type": "markdown",
   "id": "f2229bbf-6fc2-4e27-9907-6fa25a73ca22",
   "metadata": {},
   "source": [
    "Where the first two data values belong to the group called \"group_a\", the third and fourth to a second group called \"group_b\", and the sixth and seventh value belong to a third group called \"group_c\". You probably got the idea ;-)\n",
    "\n",
    "You are entirely free to choose any column names (for instance \"distance \\[cm\\]\" instead of \"data\", or \"genotype\" instead of \"group_id\") and also to provide your favorite group names (e.g. \"wildtype\" instead of \"group_a\" and \"knockout\" for \"group_b\"). \n",
    "\n",
    "> Note: The column name of your data column will be used as the default y-axis label, but you will still be able to modify that on demand.\n",
    "\n",
    "> Note: The order of appearance of the groups in the group column (top to bottom) will be used as the default x-axis order, but you will still be able to modify that on demand."
   ]
  },
  {
   "cell_type": "markdown",
   "id": "50a59997-9e6c-4549-9565-71513aa7518f",
   "metadata": {},
   "source": [
    "### Compute the stats"
   ]
  },
  {
   "cell_type": "markdown",
   "id": "9c34480e-1242-4427-8b9f-ef6a829c9486",
   "metadata": {},
   "source": [
    "Now that we know how the input data has to be organized, let´s start with the statistical analysis of our dataset, using one of our dummy data test files, which are available [here](https://github.com/DSegebarth/dcl_stats_n_plots/tree/master/test_data). This dataset contains a total of 60 data values from five different groups (group_a - group_e, 12 values per group). For reasons of clarity, only the first 5 rows will be displayed."
   ]
  },
  {
   "cell_type": "code",
   "execution_count": null,
   "id": "275c0c48-deb7-4e68-a610-73eae3c930ba",
   "metadata": {},
   "outputs": [
    {
     "data": {
      "text/html": [
       "<div>\n",
       "<style scoped>\n",
       "    .dataframe tbody tr th:only-of-type {\n",
       "        vertical-align: middle;\n",
       "    }\n",
       "\n",
       "    .dataframe tbody tr th {\n",
       "        vertical-align: top;\n",
       "    }\n",
       "\n",
       "    .dataframe thead th {\n",
       "        text-align: right;\n",
       "    }\n",
       "</style>\n",
       "<table border=\"1\" class=\"dataframe\">\n",
       "  <thead>\n",
       "    <tr style=\"text-align: right;\">\n",
       "      <th></th>\n",
       "      <th>data</th>\n",
       "      <th>group_id</th>\n",
       "    </tr>\n",
       "  </thead>\n",
       "  <tbody>\n",
       "    <tr>\n",
       "      <th>0</th>\n",
       "      <td>49.777617</td>\n",
       "      <td>group_a</td>\n",
       "    </tr>\n",
       "    <tr>\n",
       "      <th>1</th>\n",
       "      <td>89.128475</td>\n",
       "      <td>group_a</td>\n",
       "    </tr>\n",
       "    <tr>\n",
       "      <th>2</th>\n",
       "      <td>30.198986</td>\n",
       "      <td>group_a</td>\n",
       "    </tr>\n",
       "    <tr>\n",
       "      <th>3</th>\n",
       "      <td>19.939498</td>\n",
       "      <td>group_a</td>\n",
       "    </tr>\n",
       "    <tr>\n",
       "      <th>4</th>\n",
       "      <td>51.822569</td>\n",
       "      <td>group_a</td>\n",
       "    </tr>\n",
       "  </tbody>\n",
       "</table>\n",
       "</div>"
      ],
      "text/plain": [
       "        data group_id\n",
       "0  49.777617  group_a\n",
       "1  89.128475  group_a\n",
       "2  30.198986  group_a\n",
       "3  19.939498  group_a\n",
       "4  51.822569  group_a"
      ]
     },
     "execution_count": null,
     "metadata": {},
     "output_type": "execute_result"
    }
   ],
   "source": [
    "import pandas as pd\n",
    "\n",
    "df = pd.read_excel('test_data/independent_samples.xlsx')\n",
    "df.head()"
   ]
  },
  {
   "cell_type": "markdown",
   "id": "b5787ae1-ab4a-49b6-b131-5ae754271f0d",
   "metadata": {},
   "source": [
    "To perform the statistical analysis, all we now have to do is pass this data as Pandas DataFrame to the `independent_samples` function of the stats module.\n",
    "This will return a dictionary containing the results of the statistical analysis, but also some automatically extracted parameters that will be of use for both plotting and annotation of the data later on. For the exact details of which statistical tests are performed, please head over to the documentation of the `independent_samples` function. In brief: \n",
    "\n",
    "1. The prerequisites for parametric testing (normal distribution and equality of variances) are assessed\n",
    "2. Parametric or non-parametric tests are used accordingly\n",
    "3. If the dataset contains more than two groups, pairwise comparisons of all possible combinations are performed and the results are corrected for multiple comparisons\n",
    "\n",
    "The results of the pairwise comparisons can be accessed as follows:"
   ]
  },
  {
   "cell_type": "code",
   "execution_count": null,
   "id": "1adae558-3dc0-4ab6-a547-d17ff227c788",
   "metadata": {},
   "outputs": [
    {
     "data": {
      "text/html": [
       "<div>\n",
       "<style scoped>\n",
       "    .dataframe tbody tr th:only-of-type {\n",
       "        vertical-align: middle;\n",
       "    }\n",
       "\n",
       "    .dataframe tbody tr th {\n",
       "        vertical-align: top;\n",
       "    }\n",
       "\n",
       "    .dataframe thead th {\n",
       "        text-align: right;\n",
       "    }\n",
       "</style>\n",
       "<table border=\"1\" class=\"dataframe\">\n",
       "  <thead>\n",
       "    <tr style=\"text-align: right;\">\n",
       "      <th></th>\n",
       "      <th>Contrast</th>\n",
       "      <th>A</th>\n",
       "      <th>B</th>\n",
       "      <th>Paired</th>\n",
       "      <th>Parametric</th>\n",
       "      <th>U-val</th>\n",
       "      <th>alternative</th>\n",
       "      <th>p-unc</th>\n",
       "      <th>p-corr</th>\n",
       "      <th>p-adjust</th>\n",
       "      <th>hedges</th>\n",
       "    </tr>\n",
       "  </thead>\n",
       "  <tbody>\n",
       "    <tr>\n",
       "      <th>0</th>\n",
       "      <td>group_id</td>\n",
       "      <td>group_a</td>\n",
       "      <td>group_b</td>\n",
       "      <td>False</td>\n",
       "      <td>False</td>\n",
       "      <td>93.0</td>\n",
       "      <td>two-sided</td>\n",
       "      <td>0.236584</td>\n",
       "      <td>0.236584</td>\n",
       "      <td>holm</td>\n",
       "      <td>0.716468</td>\n",
       "    </tr>\n",
       "    <tr>\n",
       "      <th>1</th>\n",
       "      <td>group_id</td>\n",
       "      <td>group_a</td>\n",
       "      <td>group_c</td>\n",
       "      <td>False</td>\n",
       "      <td>False</td>\n",
       "      <td>136.0</td>\n",
       "      <td>two-sided</td>\n",
       "      <td>0.000246</td>\n",
       "      <td>0.000985</td>\n",
       "      <td>holm</td>\n",
       "      <td>1.780161</td>\n",
       "    </tr>\n",
       "    <tr>\n",
       "      <th>2</th>\n",
       "      <td>group_id</td>\n",
       "      <td>group_a</td>\n",
       "      <td>group_d</td>\n",
       "      <td>False</td>\n",
       "      <td>False</td>\n",
       "      <td>144.0</td>\n",
       "      <td>two-sided</td>\n",
       "      <td>0.000037</td>\n",
       "      <td>0.000366</td>\n",
       "      <td>holm</td>\n",
       "      <td>2.582727</td>\n",
       "    </tr>\n",
       "    <tr>\n",
       "      <th>3</th>\n",
       "      <td>group_id</td>\n",
       "      <td>group_a</td>\n",
       "      <td>group_e</td>\n",
       "      <td>False</td>\n",
       "      <td>False</td>\n",
       "      <td>144.0</td>\n",
       "      <td>two-sided</td>\n",
       "      <td>0.000037</td>\n",
       "      <td>0.000366</td>\n",
       "      <td>holm</td>\n",
       "      <td>3.060401</td>\n",
       "    </tr>\n",
       "    <tr>\n",
       "      <th>4</th>\n",
       "      <td>group_id</td>\n",
       "      <td>group_b</td>\n",
       "      <td>group_c</td>\n",
       "      <td>False</td>\n",
       "      <td>False</td>\n",
       "      <td>133.0</td>\n",
       "      <td>two-sided</td>\n",
       "      <td>0.000478</td>\n",
       "      <td>0.001433</td>\n",
       "      <td>holm</td>\n",
       "      <td>1.853544</td>\n",
       "    </tr>\n",
       "    <tr>\n",
       "      <th>5</th>\n",
       "      <td>group_id</td>\n",
       "      <td>group_b</td>\n",
       "      <td>group_d</td>\n",
       "      <td>False</td>\n",
       "      <td>False</td>\n",
       "      <td>144.0</td>\n",
       "      <td>two-sided</td>\n",
       "      <td>0.000037</td>\n",
       "      <td>0.000366</td>\n",
       "      <td>holm</td>\n",
       "      <td>3.318169</td>\n",
       "    </tr>\n",
       "    <tr>\n",
       "      <th>6</th>\n",
       "      <td>group_id</td>\n",
       "      <td>group_b</td>\n",
       "      <td>group_e</td>\n",
       "      <td>False</td>\n",
       "      <td>False</td>\n",
       "      <td>144.0</td>\n",
       "      <td>two-sided</td>\n",
       "      <td>0.000037</td>\n",
       "      <td>0.000366</td>\n",
       "      <td>holm</td>\n",
       "      <td>3.397118</td>\n",
       "    </tr>\n",
       "    <tr>\n",
       "      <th>7</th>\n",
       "      <td>group_id</td>\n",
       "      <td>group_c</td>\n",
       "      <td>group_d</td>\n",
       "      <td>False</td>\n",
       "      <td>False</td>\n",
       "      <td>144.0</td>\n",
       "      <td>two-sided</td>\n",
       "      <td>0.000037</td>\n",
       "      <td>0.000366</td>\n",
       "      <td>holm</td>\n",
       "      <td>2.755793</td>\n",
       "    </tr>\n",
       "    <tr>\n",
       "      <th>8</th>\n",
       "      <td>group_id</td>\n",
       "      <td>group_c</td>\n",
       "      <td>group_e</td>\n",
       "      <td>False</td>\n",
       "      <td>False</td>\n",
       "      <td>144.0</td>\n",
       "      <td>two-sided</td>\n",
       "      <td>0.000037</td>\n",
       "      <td>0.000366</td>\n",
       "      <td>holm</td>\n",
       "      <td>2.643251</td>\n",
       "    </tr>\n",
       "    <tr>\n",
       "      <th>9</th>\n",
       "      <td>group_id</td>\n",
       "      <td>group_d</td>\n",
       "      <td>group_e</td>\n",
       "      <td>False</td>\n",
       "      <td>False</td>\n",
       "      <td>117.0</td>\n",
       "      <td>two-sided</td>\n",
       "      <td>0.010193</td>\n",
       "      <td>0.020386</td>\n",
       "      <td>holm</td>\n",
       "      <td>1.476439</td>\n",
       "    </tr>\n",
       "  </tbody>\n",
       "</table>\n",
       "</div>"
      ],
      "text/plain": [
       "   Contrast        A        B  Paired  Parametric  U-val alternative  \\\n",
       "0  group_id  group_a  group_b   False       False   93.0   two-sided   \n",
       "1  group_id  group_a  group_c   False       False  136.0   two-sided   \n",
       "2  group_id  group_a  group_d   False       False  144.0   two-sided   \n",
       "3  group_id  group_a  group_e   False       False  144.0   two-sided   \n",
       "4  group_id  group_b  group_c   False       False  133.0   two-sided   \n",
       "5  group_id  group_b  group_d   False       False  144.0   two-sided   \n",
       "6  group_id  group_b  group_e   False       False  144.0   two-sided   \n",
       "7  group_id  group_c  group_d   False       False  144.0   two-sided   \n",
       "8  group_id  group_c  group_e   False       False  144.0   two-sided   \n",
       "9  group_id  group_d  group_e   False       False  117.0   two-sided   \n",
       "\n",
       "      p-unc    p-corr p-adjust    hedges  \n",
       "0  0.236584  0.236584     holm  0.716468  \n",
       "1  0.000246  0.000985     holm  1.780161  \n",
       "2  0.000037  0.000366     holm  2.582727  \n",
       "3  0.000037  0.000366     holm  3.060401  \n",
       "4  0.000478  0.001433     holm  1.853544  \n",
       "5  0.000037  0.000366     holm  3.318169  \n",
       "6  0.000037  0.000366     holm  3.397118  \n",
       "7  0.000037  0.000366     holm  2.755793  \n",
       "8  0.000037  0.000366     holm  2.643251  \n",
       "9  0.010193  0.020386     holm  1.476439  "
      ]
     },
     "execution_count": null,
     "metadata": {},
     "output_type": "execute_result"
    }
   ],
   "source": [
    "from dcl_stats_n_plots import stats\n",
    "\n",
    "results = stats.independent_samples(df)\n",
    "\n",
    "results['summary']['pairwise_comparisons']"
   ]
  },
  {
   "cell_type": "markdown",
   "id": "682bac58-190f-421e-868d-240a24ac22f4",
   "metadata": {},
   "source": [
    "If there were more than two groups present, the results of the group level statistical test can be accessed as:"
   ]
  },
  {
   "cell_type": "code",
   "execution_count": null,
   "id": "00f01f9d-b2be-4f66-b37e-974280119b2a",
   "metadata": {},
   "outputs": [
    {
     "data": {
      "text/html": [
       "<div>\n",
       "<style scoped>\n",
       "    .dataframe tbody tr th:only-of-type {\n",
       "        vertical-align: middle;\n",
       "    }\n",
       "\n",
       "    .dataframe tbody tr th {\n",
       "        vertical-align: top;\n",
       "    }\n",
       "\n",
       "    .dataframe thead th {\n",
       "        text-align: right;\n",
       "    }\n",
       "</style>\n",
       "<table border=\"1\" class=\"dataframe\">\n",
       "  <thead>\n",
       "    <tr style=\"text-align: right;\">\n",
       "      <th></th>\n",
       "      <th>Source</th>\n",
       "      <th>ddof1</th>\n",
       "      <th>H</th>\n",
       "      <th>p-unc</th>\n",
       "    </tr>\n",
       "  </thead>\n",
       "  <tbody>\n",
       "    <tr>\n",
       "      <th>Kruskal</th>\n",
       "      <td>group_id</td>\n",
       "      <td>4</td>\n",
       "      <td>50.278689</td>\n",
       "      <td>3.158030e-10</td>\n",
       "    </tr>\n",
       "  </tbody>\n",
       "</table>\n",
       "</div>"
      ],
      "text/plain": [
       "           Source  ddof1          H         p-unc\n",
       "Kruskal  group_id      4  50.278689  3.158030e-10"
      ]
     },
     "execution_count": null,
     "metadata": {},
     "output_type": "execute_result"
    }
   ],
   "source": [
    "results['summary']['group_level_statistic']"
   ]
  },
  {
   "cell_type": "markdown",
   "id": "c706d1b4-209a-43b7-b4bd-d98fbb372437",
   "metadata": {},
   "source": [
    "> Note: Again, for more detailed information about the statistical tests, as well as the generated output, please have a look at the documentation of the `independent_samples` function. Here you will also find links to the corresponding functions of the python package \"pingouin\", which is used for statistical testing."
   ]
  },
  {
   "cell_type": "markdown",
   "id": "6d65f4b9-aaf9-4f38-a6db-eef2d383907b",
   "metadata": {},
   "source": [
    "### Plot the data and annotate the stats:"
   ]
  },
  {
   "cell_type": "markdown",
   "id": "34f41f5c-a4d1-425a-92f7-f6308d426f3b",
   "metadata": {},
   "source": [
    "With the `results` dictionary and our dataset as Pandas DataFrame, we have everything we need to plot the data and annotate the stats in one go."
   ]
  },
  {
   "cell_type": "code",
   "execution_count": null,
   "id": "749d8479-c2c7-4d97-92b8-55e9bb489d25",
   "metadata": {},
   "outputs": [
    {
     "data": {
      "image/png": "[encoded data removed]",
      "text/plain": [
       "<Figure size 793.701x453.543 with 1 Axes>"
      ]
     },
     "metadata": {},
     "output_type": "display_data"
    }
   ],
   "source": [
    "from dcl_stats_n_plots import plots\n",
    "\n",
    "params = {'set_marker_size': 20,\n",
    "          'color_palette': 'viridis',\n",
    "          'set_xaxis_label_text': 'hund'}\n",
    "\n",
    "plots.plot_independent_samples(df, plot_type = 'stripplot')"
   ]
  },
  {
   "cell_type": "markdown",
   "id": "1c9dc45a-06fb-47f6-ba8a-b5d2c9d1cdd2",
   "metadata": {},
   "source": [
    "> Warning: To be continued..."
   ]
  }
 ],
 "metadata": {
  "kernelspec": {
   "display_name": "Python 3 (ipykernel)",
   "language": "python",
   "name": "python3"
  }
 },
 "nbformat": 4,
 "nbformat_minor": 5
}
