{
 "cells": [
  {
   "cell_type": "markdown",
   "id": "5a2b98a6-dd1e-4aeb-9291-869da9dcad98",
   "metadata": {},
   "source": [
    "# API tutorial\n",
    "\n",
    "> Turorial on how to interact with the dcl_stats_n_plots API"
   ]
  },
  {
   "cell_type": "markdown",
   "id": "ec72d2a8-dac0-4f2a-a1f0-4b6b6fab544d",
   "metadata": {},
   "source": [
    "## Getting started\n",
    "\n",
    "dcl_stats_n_plots is available from PyPi, so just run:\n",
    "\n",
    "> `pip install dcl-stats-n-plots`\n",
    "\n",
    "for installation. If you want a more detailed guide, please have a look at our [installation guide](https://dsegebarth.github.io/dcl_stats_n_plots/gui_tutorial.html#Getting-started). For this tutorial, we will use some demo files with dummy data, which are available [here](https://github.com/DSegebarth/dcl_stats_n_plots/tree/master/test_data).\n",
    "\n",
    "In the following, you will find some examples for each type of implemented statistical analysis, including the corresponding plotting and annotation functions. Currently, the implemented analyses are:\n",
    "\n",
    "1. Comparison of two or more independent samples\n",
    "2. Comparison of one group to a reference value\n",
    "3. Mixed-Model ANOVA (comparison of two or more groups with repeated measures)\n",
    "\n",
    "> Note: This package relies heavily on the correct design of the input data. Therefore, please take some time before using one of the implemented functionalities and make sure you got the input data organized in the right way. In general, this packages requires the input data to be organized in the so-called \"long format\" with a fixed column order. Please check out the \"Expected input data format\" section for the respective test for detailed information."
   ]
  },
  {
   "cell_type": "markdown",
   "id": "b0733bbc-6737-437e-98aa-d1af1c115fbe",
   "metadata": {},
   "source": [
    "## Comparison of two or more independent samples"
   ]
  },
  {
   "cell_type": "markdown",
   "id": "cfcc174f-fa6e-4327-af39-12a295c77aea",
   "metadata": {},
   "source": [
    "### Representative experiment"
   ]
  },
  {
   "cell_type": "markdown",
   "id": "0a450bd0-2940-4fbb-a65b-1c8f5df95f60",
   "metadata": {},
   "source": [
    "The comparison of two or more independent samples is probably one of the most frequently performed analyses in the lab. You can use this type of analysis if you:\n",
    "\n",
    "- have multiple experimental subjects (>3) \n",
    "- that belong to at least two different groups\n",
    "- and the given experiment is perfomed only once with each experimental subject (no repeated measurements)\n",
    "\n",
    "For instance, if you record a single open field session with mice of three different genotypes:\n",
    "1) Twelve homozygous transgenic mice (tg / tg)\n",
    "2) Twelve heterozygous transgenic mice (tg / +)\n",
    "3) Twelve wildtype mice (+ / +)"
   ]
  },
  {
   "cell_type": "markdown",
   "id": "cc598c11-82d6-448e-be56-3c3c528ee157",
   "metadata": {},
   "source": [
    "> Note: Equal samples sizes per group would be ideal, yet are no prerequisite for this analysis."
   ]
  },
  {
   "cell_type": "markdown",
   "id": "a27dbf4f-26c5-4d58-9c6c-7d7ddb2c8482",
   "metadata": {},
   "source": [
    "### Expected input data format\n",
    "\n",
    "For this analysis, you only have to provide two columns. The first one that contains the actual data values, and the second column that specifies to which group the respective data value belongs. In Microsoft Excel, this might look like the following:"
   ]
  },
  {
   "cell_type": "markdown",
   "id": "945993b7-c99c-4e96-b4b1-bc6bafee73a6",
   "metadata": {},
   "source": [
    "![api_tutorial_01](https://raw.githubusercontent.com/DSegebarth/dcl_stats_n_plots/master/media/api_tutorial_01.png)"
   ]
  },
  {
   "cell_type": "markdown",
   "id": "f2229bbf-6fc2-4e27-9907-6fa25a73ca22",
   "metadata": {},
   "source": [
    "Where the first two data values belong to the group called \"group_a\", the third and fourth to a second group called \"group_b\", and the sixth and seventh value belong to a third group called \"group_c\". You probably got the idea ;-)\n",
    "\n",
    "You are entirely free to choose any column names (for instance \"distance \\[cm\\]\" instead of \"data\", or \"genotype\" instead of \"group_id\") and also to provide your favorite group names (e.g. \"wildtype\" instead of \"group_a\" and \"knockout\" for \"group_b\"). \n",
    "\n",
    "> Note: The column name of your data column will be used as the default y-axis label, but you will still be able to modify that on demand.\n",
    "\n",
    "> Note: The order of appearance of the groups in the group column (top to bottom) will be used as the default x-axis order, but you will still be able to modify that on demand."
   ]
  },
  {
   "cell_type": "markdown",
   "id": "50a59997-9e6c-4549-9565-71513aa7518f",
   "metadata": {},
   "source": [
    "### Compute the stats"
   ]
  },
  {
   "cell_type": "markdown",
   "id": "9c34480e-1242-4427-8b9f-ef6a829c9486",
   "metadata": {},
   "source": [
    "Now that we know how the input data has to be organized, let´s start with the statistical analysis of our dataset, using one of our dummy data test files, which are available [here](https://github.com/DSegebarth/dcl_stats_n_plots/tree/master/test_data). This dataset contains a total of 60 data values from five different groups (group_a - group_e, 12 values per group). For reasons of clarity, only the first 5 rows will be displayed."
   ]
  },
  {
   "cell_type": "markdown",
   "id": "5b9be218-9997-4f02-9fef-1bba2e82cb30",
   "metadata": {},
   "source": [
    "import pandas as pd\n",
    "\n",
    "file_url = 'https://github.com/DSegebarth/dcl_stats_n_plots/raw/a4037a716556cf1080a1cb83e40130727a3e103b/test_data/independent_samples.xlsx'\n",
    "\n",
    "df = pd.read_excel(file_url)\n",
    "df.head()"
   ]
  },
  {
   "cell_type": "markdown",
   "id": "b5787ae1-ab4a-49b6-b131-5ae754271f0d",
   "metadata": {},
   "source": [
    "To perform the statistical analysis, all we now have to do is pass this data as Pandas DataFrame to the `independent_samples` function of the stats module.\n",
    "This will return a dictionary containing the results of the statistical analysis, but also some automatically extracted parameters that will be of use for both plotting and annotation of the data later on. For the exact details of which statistical tests are performed, please head over to the documentation of the `independent_samples` function. In brief: \n",
    "\n",
    "1. The prerequisites for parametric testing (normal distribution and equality of variances) are assessed\n",
    "2. Parametric or non-parametric tests are used accordingly\n",
    "3. If the dataset contains more than two groups, pairwise comparisons of all possible combinations are performed and the results are corrected for multiple comparisons\n",
    "\n",
    "The results of the pairwise comparisons can be accessed as follows:"
   ]
  },
  {
   "cell_type": "markdown",
   "id": "9bd73c0f-c1bb-42b7-b282-de2c82db70be",
   "metadata": {},
   "source": [
    "from dcl_stats_n_plots import stats\n",
    "\n",
    "results = stats.independent_samples(df)\n",
    "\n",
    "results['summary']['pairwise_comparisons']"
   ]
  },
  {
   "cell_type": "markdown",
   "id": "682bac58-190f-421e-868d-240a24ac22f4",
   "metadata": {},
   "source": [
    "If there were more than two groups present, the results of the group level statistical test can be accessed as:"
   ]
  },
  {
   "cell_type": "markdown",
   "id": "9246283a-ed51-4c91-a258-6e1abca53e62",
   "metadata": {},
   "source": [
    "results['summary']['group_level_statistic']"
   ]
  },
  {
   "cell_type": "markdown",
   "id": "c706d1b4-209a-43b7-b4bd-d98fbb372437",
   "metadata": {},
   "source": [
    "> Note: Again, for more detailed information about the statistical tests, as well as the generated output, please have a look at the documentation of the `independent_samples` function. Here you will also find links to the corresponding functions of the python package \"pingouin\", which is used for statistical testing."
   ]
  },
  {
   "cell_type": "markdown",
   "id": "6d65f4b9-aaf9-4f38-a6db-eef2d383907b",
   "metadata": {},
   "source": [
    "### Plot the data and annotate the stats:"
   ]
  },
  {
   "cell_type": "markdown",
   "id": "34f41f5c-a4d1-425a-92f7-f6308d426f3b",
   "metadata": {},
   "source": [
    "With the `results` dictionary and our dataset as Pandas DataFrame, we have everything we need to plot the data and annotate the stats in one go."
   ]
  },
  {
   "cell_type": "markdown",
   "id": "30ac4bfe-80d0-4b15-bb1b-46a0a536b1e4",
   "metadata": {},
   "source": [
    "from dcl_stats_n_plots import plots\n",
    "\n",
    "plots.plot_independent_samples(df, plot_type = 'stripplot')"
   ]
  },
  {
   "cell_type": "markdown",
   "id": "6d9d42f3-925a-40d5-85b8-b4ae277508d4",
   "metadata": {},
   "source": [
    "For all types of statistical analyses that are implemented in dcl_stats_n_plots, we also provide several options of how to visualize your data. In order to change the type of plot, simply choose from the range of currently supported plots (see `plot_independent_samples`) and change the string you pass to the function accordingly:"
   ]
  },
  {
   "cell_type": "markdown",
   "id": "913e3949-538d-42b2-994e-a06ca458dd2f",
   "metadata": {},
   "source": [
    "plots.plot_independent_samples(df, plot_type = 'violinplot with stripplot overlay')"
   ]
  },
  {
   "cell_type": "markdown",
   "id": "d86d4a7f-1077-4944-96d7-27dc2b901aa5",
   "metadata": {},
   "source": [
    "> Error: The annotation of the statistical results via the API is not yet implemented. This is one of the next features that will be added within one of the following patch releases - if not *the* next."
   ]
  },
  {
   "cell_type": "markdown",
   "id": "80d7ef2b-3c64-48eb-af75-0c1b0a306bf1",
   "metadata": {},
   "source": [
    "### Customize the plot"
   ]
  },
  {
   "cell_type": "markdown",
   "id": "6b737d8a-971f-4059-b903-d196034a8d1a",
   "metadata": {},
   "source": [
    "dcl_stats_n_plots provides you with a bunch of customization options. A comprehensive list will be made available [here](https://dsegebarth.github.io/dcl_stats_n_plots/plots.html) shortly. Probably the easiest way to explore them all is by using our GUI, where you can play arround with all parameters and interactively change them back and forth until you found the perfect settings for your plot. Since the customization parameters work in the same manner for all types of analyses and plots, you can also have a look at the other provided customization examples.\n",
    "\n",
    "In order to customize your plots using our API, you have to pass a dictionary to the plotting function, which contains all parameters that you would like to change. We designed our API in such a way, that you only have to pass those parameters to the function, which you want to customize. The default settings will be used for all remaining parameters.\n",
    "\n",
    "For instance, you can specify the exact label of the y-axis, change its fontsize, increase the marker size of the stripplot overlay, and use a different color palette for the violin plots"
   ]
  },
  {
   "cell_type": "markdown",
   "id": "4968b174-0223-4e81-af26-d9fa758f04da",
   "metadata": {},
   "source": [
    "params = {'yaxis_label_text': 'delta heart rate',\n",
    "          'yaxis_label_fontsize': 25,\n",
    "          'marker_size': 12,\n",
    "          'color_palette': 'rocket'}\n",
    "          \n",
    "\n",
    "plots.plot_independent_samples(df, plot_type = 'violinplot with stripplot overlay', params = params)"
   ]
  },
  {
   "cell_type": "markdown",
   "id": "df272397-45f1-49df-978e-ec44f8f11eff",
   "metadata": {},
   "source": [
    "## Comparison of a single group to a fixed value"
   ]
  },
  {
   "cell_type": "markdown",
   "id": "97413367-1e2c-42df-b0a7-41f8c5071ee3",
   "metadata": {},
   "source": [
    "### Representative experiment"
   ]
  },
  {
   "cell_type": "markdown",
   "id": "7728c8ef-0932-4c0b-ae7b-9dcc805bd9d9",
   "metadata": {},
   "source": [
    "> Note: will be added soon."
   ]
  },
  {
   "cell_type": "markdown",
   "id": "d6b4b7c3-d6c5-4a63-94d6-a2795a7dd7b9",
   "metadata": {},
   "source": [
    "### Expected input data format\n",
    "\n",
    "For this analysis, you have to provide three columns. The first column must contain the data, the second column provides the corresponding group_id (see note below the image), and the third column provides the fixed value against which the group shall be compared.\n",
    "\n",
    "In Microsoft Excel, this might look like the following:"
   ]
  },
  {
   "cell_type": "markdown",
   "id": "02fd7a72-f2af-4b3f-9fee-8525d145464c",
   "metadata": {},
   "source": [
    "> Note: Of course, the second column ('group column') will only contain one group_id, since this is a _one sample_ analysis. However, keeping the expected input data structure consistent across functions (data, group, ..) is supposed to make the use of dcl_stats_n_plots a little easier for the user. On top, it allows the user to provide the x-axis-label (= group column header) and the corresponding x-axis-tick-label (= the group_id that is provided in the group column)."
   ]
  },
  {
   "cell_type": "markdown",
   "id": "7c44f7d7-9b65-4716-8b4e-94496cc20376",
   "metadata": {},
   "source": [
    "### Compute the stats"
   ]
  },
  {
   "cell_type": "code",
   "execution_count": null,
   "id": "28aa5242-5db1-45c6-ad6a-22c15afcdcf0",
   "metadata": {},
   "outputs": [
    {
     "data": {
      "text/html": [
       "<div>\n",
       "<style scoped>\n",
       "    .dataframe tbody tr th:only-of-type {\n",
       "        vertical-align: middle;\n",
       "    }\n",
       "\n",
       "    .dataframe tbody tr th {\n",
       "        vertical-align: top;\n",
       "    }\n",
       "\n",
       "    .dataframe thead th {\n",
       "        text-align: right;\n",
       "    }\n",
       "</style>\n",
       "<table border=\"1\" class=\"dataframe\">\n",
       "  <thead>\n",
       "    <tr style=\"text-align: right;\">\n",
       "      <th></th>\n",
       "      <th>data</th>\n",
       "      <th>group_id</th>\n",
       "      <th>fixed_value</th>\n",
       "    </tr>\n",
       "  </thead>\n",
       "  <tbody>\n",
       "    <tr>\n",
       "      <th>0</th>\n",
       "      <td>20.803300</td>\n",
       "      <td>group_a</td>\n",
       "      <td>50.0</td>\n",
       "    </tr>\n",
       "    <tr>\n",
       "      <th>1</th>\n",
       "      <td>38.016262</td>\n",
       "      <td>group_a</td>\n",
       "      <td>NaN</td>\n",
       "    </tr>\n",
       "    <tr>\n",
       "      <th>2</th>\n",
       "      <td>49.724380</td>\n",
       "      <td>group_a</td>\n",
       "      <td>NaN</td>\n",
       "    </tr>\n",
       "    <tr>\n",
       "      <th>3</th>\n",
       "      <td>35.418847</td>\n",
       "      <td>group_a</td>\n",
       "      <td>NaN</td>\n",
       "    </tr>\n",
       "    <tr>\n",
       "      <th>4</th>\n",
       "      <td>36.050618</td>\n",
       "      <td>group_a</td>\n",
       "      <td>NaN</td>\n",
       "    </tr>\n",
       "  </tbody>\n",
       "</table>\n",
       "</div>"
      ],
      "text/plain": [
       "        data group_id  fixed_value\n",
       "0  20.803300  group_a         50.0\n",
       "1  38.016262  group_a          NaN\n",
       "2  49.724380  group_a          NaN\n",
       "3  35.418847  group_a          NaN\n",
       "4  36.050618  group_a          NaN"
      ]
     },
     "execution_count": null,
     "metadata": {},
     "output_type": "execute_result"
    }
   ],
   "source": [
    "import pandas as pd\n",
    "\n",
    "file_url = 'https://raw.githubusercontent.com/DSegebarth/dcl_stats_n_plots/master/test_data/one_sample_significant.csv'\n",
    "\n",
    "df = pd.read_csv(file_url)\n",
    "df.head()"
   ]
  },
  {
   "cell_type": "code",
   "execution_count": null,
   "id": "79cf8150-c37c-4772-b7d3-1ea3fe1f22a8",
   "metadata": {},
   "outputs": [
    {
     "data": {
      "text/html": [
       "<div>\n",
       "<style scoped>\n",
       "    .dataframe tbody tr th:only-of-type {\n",
       "        vertical-align: middle;\n",
       "    }\n",
       "\n",
       "    .dataframe tbody tr th {\n",
       "        vertical-align: top;\n",
       "    }\n",
       "\n",
       "    .dataframe thead th {\n",
       "        text-align: right;\n",
       "    }\n",
       "</style>\n",
       "<table border=\"1\" class=\"dataframe\">\n",
       "  <thead>\n",
       "    <tr style=\"text-align: right;\">\n",
       "      <th></th>\n",
       "      <th>T</th>\n",
       "      <th>dof</th>\n",
       "      <th>alternative</th>\n",
       "      <th>p-val</th>\n",
       "      <th>CI95%</th>\n",
       "      <th>cohen-d</th>\n",
       "      <th>BF10</th>\n",
       "      <th>power</th>\n",
       "    </tr>\n",
       "  </thead>\n",
       "  <tbody>\n",
       "    <tr>\n",
       "      <th>T-test</th>\n",
       "      <td>-2.692558</td>\n",
       "      <td>9</td>\n",
       "      <td>two-sided</td>\n",
       "      <td>0.024693</td>\n",
       "      <td>[24.34, 47.77]</td>\n",
       "      <td>0.851462</td>\n",
       "      <td>3.032</td>\n",
       "      <td>0.669742</td>\n",
       "    </tr>\n",
       "  </tbody>\n",
       "</table>\n",
       "</div>"
      ],
      "text/plain": [
       "               T  dof alternative     p-val           CI95%   cohen-d   BF10  \\\n",
       "T-test -2.692558    9   two-sided  0.024693  [24.34, 47.77]  0.851462  3.032   \n",
       "\n",
       "           power  \n",
       "T-test  0.669742  "
      ]
     },
     "execution_count": null,
     "metadata": {},
     "output_type": "execute_result"
    }
   ],
   "source": [
    "from dcl_stats_n_plots import stats\n",
    "\n",
    "results = stats.one_sample(df)\n",
    "\n",
    "results['summary']['pairwise_comparisons']"
   ]
  },
  {
   "cell_type": "markdown",
   "id": "d9908869-fa5c-4e6e-839d-bacb33f9c666",
   "metadata": {},
   "source": [
    "### Plot the data and annotate the stats:"
   ]
  },
  {
   "cell_type": "code",
   "execution_count": null,
   "id": "7dd7a8a9-210f-4d2d-9e87-6b25628680d8",
   "metadata": {},
   "outputs": [
    {
     "data": {
      "image/png": "[encoded data removed]",
      "text/plain": [
       "<Figure size 793.701x453.543 with 1 Axes>"
      ]
     },
     "metadata": {},
     "output_type": "display_data"
    }
   ],
   "source": [
    "from dcl_stats_n_plots import plots\n",
    "\n",
    "plots.plot_one_sample(df, plot_type = 'stripplot')"
   ]
  },
  {
   "cell_type": "code",
   "execution_count": null,
   "id": "248e1e64-1705-4eae-b526-8c51907da1d2",
   "metadata": {},
   "outputs": [
    {
     "data": {
      "image/png": "[encoded data removed]",
      "text/plain": [
       "<Figure size 396.85x453.543 with 1 Axes>"
      ]
     },
     "metadata": {},
     "output_type": "display_data"
    }
   ],
   "source": [
    "params = {'color_palette': {'group_a': 'forestgreen'},\n",
    "          'marker_size': 7,\n",
    "          'fig_width': 14,\n",
    "          'yaxis_scaling_mode': 'manual',\n",
    "          'yaxis_lower_lim_value': 0,\n",
    "          'yaxis_upper_lim_value': 100,\n",
    "          'yaxis_label_text': 'time spent in target half [%]',\n",
    "          'xaxis_label_text': ''}\n",
    "\n",
    "plots.plot_one_sample(df, plot_type = 'boxplot with stripplot overlay', params = params)"
   ]
  },
  {
   "cell_type": "code",
   "execution_count": null,
   "id": "f564891f-ef67-4811-b864-57bd75548b61",
   "metadata": {},
   "outputs": [],
   "source": []
  },
  {
   "cell_type": "code",
   "execution_count": null,
   "id": "e2acad1e-8708-4bf5-9f43-5f5ee497293f",
   "metadata": {},
   "outputs": [],
   "source": []
  },
  {
   "cell_type": "code",
   "execution_count": null,
   "id": "abb947cd-0278-4cd5-80fa-d3b0bebb7a84",
   "metadata": {},
   "outputs": [],
   "source": []
  },
  {
   "cell_type": "code",
   "execution_count": null,
   "id": "25be5934-2770-4a09-aa7e-d56969c298fd",
   "metadata": {},
   "outputs": [],
   "source": []
  },
  {
   "cell_type": "markdown",
   "id": "75e43ff9-4742-4a2a-83d9-738a43192b18",
   "metadata": {},
   "source": [
    "df"
   ]
  },
  {
   "cell_type": "markdown",
   "id": "9a38befc-7f64-4a72-a29c-3d454bb36191",
   "metadata": {},
   "source": [
    "### Customize the plot"
   ]
  },
  {
   "cell_type": "code",
   "execution_count": null,
   "id": "e4dc294c-15d3-4831-8e99-6b3dacef67b4",
   "metadata": {},
   "outputs": [],
   "source": []
  },
  {
   "cell_type": "markdown",
   "id": "af89c3d7-1897-4eb9-bd08-07e2127ea78a",
   "metadata": {},
   "source": []
  },
  {
   "cell_type": "markdown",
   "id": "8704d2ec-ca64-4ee8-86f5-e9808fe5cff0",
   "metadata": {},
   "source": [
    "## Mixed-Model ANOVA"
   ]
  },
  {
   "cell_type": "markdown",
   "id": "90a8aada-4955-4fb0-82a2-56607ae1d73c",
   "metadata": {},
   "source": [
    "> Warning: This function is currently only implemented in a parametric variant (there is no non-parametric equivalent available via pingouin). This affects only the group level statistics (main effects), while pairwise comparisons are again performed either using parametric or non-parametric tests, depending on the respective data."
   ]
  },
  {
   "cell_type": "markdown",
   "id": "cbca38d6-f34e-4508-9f5d-1c562a155eeb",
   "metadata": {},
   "source": [
    "### Representative experiment"
   ]
  },
  {
   "cell_type": "markdown",
   "id": "59cfaf6d-dc1b-43bb-af8f-8340b51d3a1c",
   "metadata": {},
   "source": []
  },
  {
   "cell_type": "markdown",
   "id": "947e5631-85f3-4b3e-87a5-3bf3cdbc7270",
   "metadata": {},
   "source": [
    "### Expected input data format\n",
    "\n",
    "For this analysis, you only have to provide two columns. The first one that contains the actual data values, and the second column that specifies to which group the respective data value belongs. In Microsoft Excel, this might look like the following:"
   ]
  },
  {
   "cell_type": "markdown",
   "id": "5f87f6f1-da0a-459c-a7ea-22a1e8f98891",
   "metadata": {},
   "source": []
  },
  {
   "cell_type": "markdown",
   "id": "1a600ed0-a1eb-48f4-a166-56ae0d752466",
   "metadata": {},
   "source": []
  },
  {
   "cell_type": "markdown",
   "id": "faaad2db-9caa-438f-bf64-dcba21bc48f6",
   "metadata": {},
   "source": [
    "### Compute the stats"
   ]
  },
  {
   "cell_type": "markdown",
   "id": "08bfaa22-3e8e-4b12-93b4-e01554eb23e4",
   "metadata": {},
   "source": []
  },
  {
   "cell_type": "markdown",
   "id": "23ef492d-3f7e-412c-a7d7-3d559b4c2d3a",
   "metadata": {},
   "source": []
  },
  {
   "cell_type": "markdown",
   "id": "770bb0b2-72ee-4246-87c6-54b000f67ef5",
   "metadata": {},
   "source": [
    "### Plot the data and annotate the stats:"
   ]
  },
  {
   "cell_type": "markdown",
   "id": "ddf53f93-ef5f-485c-843f-fac95b62e62b",
   "metadata": {},
   "source": []
  },
  {
   "cell_type": "markdown",
   "id": "793499db-379f-4159-8fd7-38900f5d3b68",
   "metadata": {},
   "source": []
  },
  {
   "cell_type": "markdown",
   "id": "be04bca4-3522-44aa-8985-9e137e00df70",
   "metadata": {},
   "source": [
    "### Customize the plot"
   ]
  },
  {
   "cell_type": "markdown",
   "id": "93d932be-230b-4aea-bc83-cfe65471ad17",
   "metadata": {},
   "source": []
  },
  {
   "cell_type": "markdown",
   "id": "ba5b99c6-8e72-4d95-a8e8-6de813d42551",
   "metadata": {},
   "source": []
  },
  {
   "cell_type": "markdown",
   "id": "0c33d094-0b78-4f13-bde3-454583206e87",
   "metadata": {},
   "source": []
  },
  {
   "cell_type": "markdown",
   "id": "1c9dc45a-06fb-47f6-ba8a-b5d2c9d1cdd2",
   "metadata": {},
   "source": [
    "> Warning: To be continued..."
   ]
  }
 ],
 "metadata": {
  "kernelspec": {
   "display_name": "Python 3 (ipykernel)",
   "language": "python",
   "name": "python3"
  }
 },
 "nbformat": 4,
 "nbformat_minor": 5
}
