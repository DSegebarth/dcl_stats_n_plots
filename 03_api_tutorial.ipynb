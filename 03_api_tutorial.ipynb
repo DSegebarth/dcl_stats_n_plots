{
 "cells": [
  {
   "cell_type": "markdown",
   "id": "5a2b98a6-dd1e-4aeb-9291-869da9dcad98",
   "metadata": {},
   "source": [
    "# API tutorial\n",
    "\n",
    "> Turorial on how to interact with the dcl_stats_n_plots API"
   ]
  },
  {
   "cell_type": "markdown",
   "id": "ec72d2a8-dac0-4f2a-a1f0-4b6b6fab544d",
   "metadata": {},
   "source": [
    "## Getting started\n",
    "\n",
    "dcl_stats_n_plots is available from PyPi, so just run:\n",
    "\n",
    "> `pip install dcl-stats-n-plots`\n",
    "\n",
    "for installation. If you are new to python and/or the jupyter interface and want a more detailed guide, please have a look at our [installation guide](https://dsegebarth.github.io/dcl_stats_n_plots/gui_tutorial.html#Getting-started). For this tutorial, we will use some demo files with dummy data, which are available [here](https://github.com/DSegebarth/dcl_stats_n_plots/tree/master/test_data).\n",
    "\n",
    "In the following, you will find some examples for each type of implemented statistical analysis, including the corresponding plotting and annotation functions. Currently, the implemented analyses are:\n",
    "\n",
    "1. Comparison of two or more independent samples\n",
    "2. Comparison of one group to a reference value\n",
    "3. Mixed-Model ANOVA (comparison of two or more groups with repeated measures)\n",
    "\n",
    "You will find the most detailed description of how to use our API in the [first section](https://dsegebarth.github.io/dcl_stats_n_plots/api_tutorial.html#Comparison-of-two-or-more-independent-samples). Thus, you might want to go through this section to get the most in-depth intro to our API, even though you want to perform a different kind of analysis in the end. \n",
    "\n",
    "> Note: This package relies heavily on the correct design of the input data. Therefore, please take some time before using one of the implemented functionalities and make sure you got the input data organized in the right way. In general, this packages requires the input data to be organized in the so-called \"long format\" with a fixed column order. Please check out the \"Expected input data format\" section for the respective test for detailed information."
   ]
  },
  {
   "cell_type": "markdown",
   "id": "b0733bbc-6737-437e-98aa-d1af1c115fbe",
   "metadata": {},
   "source": [
    "## Comparison of two or more independent samples"
   ]
  },
  {
   "cell_type": "markdown",
   "id": "cfcc174f-fa6e-4327-af39-12a295c77aea",
   "metadata": {},
   "source": [
    "### Representative experiment"
   ]
  },
  {
   "cell_type": "markdown",
   "id": "0a450bd0-2940-4fbb-a65b-1c8f5df95f60",
   "metadata": {},
   "source": [
    "The comparison of two or more independent samples is probably one of the most frequently performed analyses in the lab. You can use this type of analysis if you:\n",
    "\n",
    "- have multiple experimental subjects (>3) \n",
    "- that belong to at least two different groups\n",
    "- and the given experiment is perfomed only once with each experimental subject (no repeated measurements)\n",
    "\n",
    "For instance, if you recorded a single open field session of each mouse in a experimental cohort of 36 mice, which represent three different genotypes (12 homozygous transgenic mice \\[tg/tg\\], 12 heterozygous transgenic mice \\[tg/+\\], and 12 wildtype mice \\[+/+\\]). After you analyzed the videos, you now want to test for significant differences in the time the mice spent in the center of the open field - based on their genotype."
   ]
  },
  {
   "cell_type": "markdown",
   "id": "cc598c11-82d6-448e-be56-3c3c528ee157",
   "metadata": {},
   "source": [
    "> Note: Equal samples sizes per group is ideal, yet no prerequisite for this analysis."
   ]
  },
  {
   "cell_type": "markdown",
   "id": "a27dbf4f-26c5-4d58-9c6c-7d7ddb2c8482",
   "metadata": {},
   "source": [
    "### Expected input data format\n",
    "\n",
    "For this analysis, you only have to provide two columns. The first one that contains the actual data values, and the second column that specifies to which group the respective data value belongs. In Microsoft Excel, this might look like the following:"
   ]
  },
  {
   "cell_type": "markdown",
   "id": "945993b7-c99c-4e96-b4b1-bc6bafee73a6",
   "metadata": {},
   "source": [
    "![independent_samples_input_schema.png](https://raw.githubusercontent.com/DSegebarth/dcl_stats_n_plots/master/media/independent_samples_input_schema.png)"
   ]
  },
  {
   "cell_type": "markdown",
   "id": "f2229bbf-6fc2-4e27-9907-6fa25a73ca22",
   "metadata": {},
   "source": [
    "Where the first two data values belong to the group called \"group_a\", the third and fourth to a second group called \"group_b\", and the sixth and seventh value belong to a third group called \"group_c\". You probably got the idea ;-)\n",
    "\n",
    "You are entirely free to choose any column names (for instance \"time spent in center \\[s\\]\" instead of \"data\", or \"genotype\" instead of \"group_id\") and also to provide your favorite group names (e.g. \"+/+\" instead of \"group_a\" and \"tg/+\" for \"group_b\"). \n",
    "\n",
    "> Note: The column name of your data column will be used as the default y-axis label, but you will still be able to modify that on demand.\n",
    "\n",
    "> Note: The order of appearance of the groups in the group column (top to bottom) will be used as the default x-axis order, but you will still be able to modify that on demand."
   ]
  },
  {
   "cell_type": "markdown",
   "id": "50a59997-9e6c-4549-9565-71513aa7518f",
   "metadata": {},
   "source": [
    "### Compute the stats"
   ]
  },
  {
   "cell_type": "markdown",
   "id": "9c34480e-1242-4427-8b9f-ef6a829c9486",
   "metadata": {},
   "source": [
    "Now that we know how the input data has to be organized, let´s start with the statistical analysis of our dataset, using one of our dummy data test files, which are available [here](https://github.com/DSegebarth/dcl_stats_n_plots/tree/master/test_data). This dataset contains a total of 36 data values from three different groups ('tg/tg', 'tg/+', '+/+' - 12 values per group). For reasons of clarity, only the first 5 rows will be displayed."
   ]
  },
  {
   "cell_type": "code",
   "execution_count": null,
   "id": "380cbc4d-2eb6-4b9d-ad06-8e0427f6a87c",
   "metadata": {},
   "outputs": [
    {
     "data": {
      "text/html": [
       "<div>\n",
       "<style scoped>\n",
       "    .dataframe tbody tr th:only-of-type {\n",
       "        vertical-align: middle;\n",
       "    }\n",
       "\n",
       "    .dataframe tbody tr th {\n",
       "        vertical-align: top;\n",
       "    }\n",
       "\n",
       "    .dataframe thead th {\n",
       "        text-align: right;\n",
       "    }\n",
       "</style>\n",
       "<table border=\"1\" class=\"dataframe\">\n",
       "  <thead>\n",
       "    <tr style=\"text-align: right;\">\n",
       "      <th></th>\n",
       "      <th>data</th>\n",
       "      <th>group_id</th>\n",
       "    </tr>\n",
       "  </thead>\n",
       "  <tbody>\n",
       "    <tr>\n",
       "      <th>0</th>\n",
       "      <td>49.777617</td>\n",
       "      <td>tg/tg</td>\n",
       "    </tr>\n",
       "    <tr>\n",
       "      <th>1</th>\n",
       "      <td>89.128475</td>\n",
       "      <td>tg/tg</td>\n",
       "    </tr>\n",
       "    <tr>\n",
       "      <th>2</th>\n",
       "      <td>30.198986</td>\n",
       "      <td>tg/tg</td>\n",
       "    </tr>\n",
       "    <tr>\n",
       "      <th>3</th>\n",
       "      <td>19.939498</td>\n",
       "      <td>tg/tg</td>\n",
       "    </tr>\n",
       "    <tr>\n",
       "      <th>4</th>\n",
       "      <td>51.822569</td>\n",
       "      <td>tg/tg</td>\n",
       "    </tr>\n",
       "  </tbody>\n",
       "</table>\n",
       "</div>"
      ],
      "text/plain": [
       "        data group_id\n",
       "0  49.777617    tg/tg\n",
       "1  89.128475    tg/tg\n",
       "2  30.198986    tg/tg\n",
       "3  19.939498    tg/tg\n",
       "4  51.822569    tg/tg"
      ]
     },
     "execution_count": null,
     "metadata": {},
     "output_type": "execute_result"
    }
   ],
   "source": [
    "import pandas as pd\n",
    "\n",
    "file_url = 'https://raw.githubusercontent.com/DSegebarth/dcl_stats_n_plots/master/test_data/independent_samples_3groups.csv'\n",
    "\n",
    "\n",
    "\n",
    "df = pd.read_csv(file_url)\n",
    "df.head()"
   ]
  },
  {
   "cell_type": "markdown",
   "id": "b5787ae1-ab4a-49b6-b131-5ae754271f0d",
   "metadata": {},
   "source": [
    "To perform the statistical analysis, all we now have to do is pass this data as Pandas DataFrame to the `independent_samples` function of the stats module.\n",
    "This will return a dictionary containing the results of the statistical analysis, but also some automatically extracted parameters that will be of use for both plotting and annotation of the data later on. For the exact details of which statistical tests are performed, please head over to the documentation of the `independent_samples` function. In brief: \n",
    "\n",
    "1. The prerequisites for parametric testing (normal distribution and equality of variances) are assessed\n",
    "2. Parametric or non-parametric tests are used accordingly\n",
    "3. If the dataset contains more than two groups, pairwise comparisons of all possible combinations are performed and the results are corrected for multiple comparisons\n",
    "\n",
    "The results of the pairwise comparisons can be accessed as follows:"
   ]
  },
  {
   "cell_type": "code",
   "execution_count": null,
   "id": "ef4f46e6-8722-4abb-a31f-874c312a8418",
   "metadata": {},
   "outputs": [
    {
     "data": {
      "text/html": [
       "<div>\n",
       "<style scoped>\n",
       "    .dataframe tbody tr th:only-of-type {\n",
       "        vertical-align: middle;\n",
       "    }\n",
       "\n",
       "    .dataframe tbody tr th {\n",
       "        vertical-align: top;\n",
       "    }\n",
       "\n",
       "    .dataframe thead th {\n",
       "        text-align: right;\n",
       "    }\n",
       "</style>\n",
       "<table border=\"1\" class=\"dataframe\">\n",
       "  <thead>\n",
       "    <tr style=\"text-align: right;\">\n",
       "      <th></th>\n",
       "      <th>Contrast</th>\n",
       "      <th>A</th>\n",
       "      <th>B</th>\n",
       "      <th>Paired</th>\n",
       "      <th>Parametric</th>\n",
       "      <th>U-val</th>\n",
       "      <th>alternative</th>\n",
       "      <th>p-unc</th>\n",
       "      <th>p-corr</th>\n",
       "      <th>p-adjust</th>\n",
       "      <th>hedges</th>\n",
       "    </tr>\n",
       "  </thead>\n",
       "  <tbody>\n",
       "    <tr>\n",
       "      <th>0</th>\n",
       "      <td>group_id</td>\n",
       "      <td>+/+</td>\n",
       "      <td>tg/+</td>\n",
       "      <td>False</td>\n",
       "      <td>False</td>\n",
       "      <td>11.0</td>\n",
       "      <td>two-sided</td>\n",
       "      <td>0.000478</td>\n",
       "      <td>0.000955</td>\n",
       "      <td>holm</td>\n",
       "      <td>-1.853544</td>\n",
       "    </tr>\n",
       "    <tr>\n",
       "      <th>1</th>\n",
       "      <td>group_id</td>\n",
       "      <td>+/+</td>\n",
       "      <td>tg/tg</td>\n",
       "      <td>False</td>\n",
       "      <td>False</td>\n",
       "      <td>8.0</td>\n",
       "      <td>two-sided</td>\n",
       "      <td>0.000246</td>\n",
       "      <td>0.000739</td>\n",
       "      <td>holm</td>\n",
       "      <td>-1.780161</td>\n",
       "    </tr>\n",
       "    <tr>\n",
       "      <th>2</th>\n",
       "      <td>group_id</td>\n",
       "      <td>tg/+</td>\n",
       "      <td>tg/tg</td>\n",
       "      <td>False</td>\n",
       "      <td>False</td>\n",
       "      <td>51.0</td>\n",
       "      <td>two-sided</td>\n",
       "      <td>0.236584</td>\n",
       "      <td>0.236584</td>\n",
       "      <td>holm</td>\n",
       "      <td>-0.716468</td>\n",
       "    </tr>\n",
       "  </tbody>\n",
       "</table>\n",
       "</div>"
      ],
      "text/plain": [
       "   Contrast     A      B  Paired  Parametric  U-val alternative     p-unc  \\\n",
       "0  group_id   +/+   tg/+   False       False   11.0   two-sided  0.000478   \n",
       "1  group_id   +/+  tg/tg   False       False    8.0   two-sided  0.000246   \n",
       "2  group_id  tg/+  tg/tg   False       False   51.0   two-sided  0.236584   \n",
       "\n",
       "     p-corr p-adjust    hedges  \n",
       "0  0.000955     holm -1.853544  \n",
       "1  0.000739     holm -1.780161  \n",
       "2  0.236584     holm -0.716468  "
      ]
     },
     "execution_count": null,
     "metadata": {},
     "output_type": "execute_result"
    }
   ],
   "source": [
    "from dcl_stats_n_plots import stats\n",
    "\n",
    "results = stats.independent_samples(df)\n",
    "\n",
    "results['summary']['pairwise_comparisons']"
   ]
  },
  {
   "cell_type": "markdown",
   "id": "682bac58-190f-421e-868d-240a24ac22f4",
   "metadata": {},
   "source": [
    "If there were more than two groups present, the results of the group level statistical test can be accessed as:"
   ]
  },
  {
   "cell_type": "code",
   "execution_count": null,
   "id": "e2e20552-f243-4e3d-bb02-37e07bf96ae2",
   "metadata": {},
   "outputs": [
    {
     "data": {
      "text/html": [
       "<div>\n",
       "<style scoped>\n",
       "    .dataframe tbody tr th:only-of-type {\n",
       "        vertical-align: middle;\n",
       "    }\n",
       "\n",
       "    .dataframe tbody tr th {\n",
       "        vertical-align: top;\n",
       "    }\n",
       "\n",
       "    .dataframe thead th {\n",
       "        text-align: right;\n",
       "    }\n",
       "</style>\n",
       "<table border=\"1\" class=\"dataframe\">\n",
       "  <thead>\n",
       "    <tr style=\"text-align: right;\">\n",
       "      <th></th>\n",
       "      <th>Source</th>\n",
       "      <th>ddof1</th>\n",
       "      <th>H</th>\n",
       "      <th>p-unc</th>\n",
       "    </tr>\n",
       "  </thead>\n",
       "  <tbody>\n",
       "    <tr>\n",
       "      <th>Kruskal</th>\n",
       "      <td>group_id</td>\n",
       "      <td>2</td>\n",
       "      <td>18.355856</td>\n",
       "      <td>0.000103</td>\n",
       "    </tr>\n",
       "  </tbody>\n",
       "</table>\n",
       "</div>"
      ],
      "text/plain": [
       "           Source  ddof1          H     p-unc\n",
       "Kruskal  group_id      2  18.355856  0.000103"
      ]
     },
     "execution_count": null,
     "metadata": {},
     "output_type": "execute_result"
    }
   ],
   "source": [
    "results['summary']['group_level_statistic']"
   ]
  },
  {
   "cell_type": "markdown",
   "id": "c706d1b4-209a-43b7-b4bd-d98fbb372437",
   "metadata": {},
   "source": [
    "> Note: Again, for more detailed information about the statistical tests, as well as the generated output, please have a look at the documentation of the `independent_samples` function. Here you will also find links to the corresponding functions of the python package \"pingouin\", which is used for statistical testing."
   ]
  },
  {
   "cell_type": "markdown",
   "id": "6d65f4b9-aaf9-4f38-a6db-eef2d383907b",
   "metadata": {},
   "source": [
    "### Plot the data and annotate the stats:"
   ]
  },
  {
   "cell_type": "markdown",
   "id": "34f41f5c-a4d1-425a-92f7-f6308d426f3b",
   "metadata": {},
   "source": [
    "With the `results` dictionary and our dataset as Pandas DataFrame, we have everything we need to plot the data and annotate the stats in one go."
   ]
  },
  {
   "cell_type": "code",
   "execution_count": null,
   "id": "c75ea34a-cc87-443f-b2ac-9d45e6532b1f",
   "metadata": {},
   "outputs": [
    {
     "data": {
      "image/png": "[encoded data removed]",
      "text/plain": [
       "<Figure size 793.701x453.543 with 1 Axes>"
      ]
     },
     "metadata": {},
     "output_type": "display_data"
    }
   ],
   "source": [
    "from dcl_stats_n_plots import plots\n",
    "\n",
    "plots.plot_independent_samples(df, plot_type = 'stripplot')"
   ]
  },
  {
   "cell_type": "markdown",
   "id": "6d9d42f3-925a-40d5-85b8-b4ae277508d4",
   "metadata": {},
   "source": [
    "For all types of statistical analyses that are implemented in dcl_stats_n_plots, we also provide several options of how to visualize your data. In order to change the type of plot, simply choose from the range of currently supported plots (see `plot_independent_samples`) and change the string you pass to the function accordingly:"
   ]
  },
  {
   "cell_type": "code",
   "execution_count": null,
   "id": "6302a539-53bd-4a67-8c20-c4782bc228c9",
   "metadata": {},
   "outputs": [
    {
     "data": {
      "image/png": "[encoded data removed]",
      "text/plain": [
       "<Figure size 793.701x453.543 with 1 Axes>"
      ]
     },
     "metadata": {},
     "output_type": "display_data"
    }
   ],
   "source": [
    "plots.plot_independent_samples(df, plot_type = 'violinplot with stripplot overlay')"
   ]
  },
  {
   "cell_type": "markdown",
   "id": "d86d4a7f-1077-4944-96d7-27dc2b901aa5",
   "metadata": {},
   "source": [
    "> Warning: The annotation of the statistical results via the API is not yet implemented. This is one of the next features that will be added within one of the following patch releases - if not *the* next."
   ]
  },
  {
   "cell_type": "markdown",
   "id": "80d7ef2b-3c64-48eb-af75-0c1b0a306bf1",
   "metadata": {},
   "source": [
    "### Customize the plot"
   ]
  },
  {
   "cell_type": "markdown",
   "id": "6b737d8a-971f-4059-b903-d196034a8d1a",
   "metadata": {},
   "source": [
    "dcl_stats_n_plots provides you with a bunch of customization options. You can find a comprehensive list [here](https://dsegebarth.github.io/dcl_stats_n_plots/plots.html#Customizable-features). Probably the easiest way to explore them all is by using our GUI, where you can play arround with all parameters and interactively change them back and forth until you found the perfect settings for your plot. Since the customization parameters work in the same manner for all types of analyses and plots, feel free to also have a look at the customization examples that are provided for the other types of analyses in this tutorial.\n",
    "\n",
    "To customize an individual feature, you simply have to pass it when calling the plotting function. For instance, to change the marker size (i.e. the size of the individual data points):"
   ]
  },
  {
   "cell_type": "code",
   "execution_count": null,
   "id": "f4ac660c-822f-4b74-8c98-a5ba3b48b4c8",
   "metadata": {},
   "outputs": [
    {
     "data": {
      "image/png": "[encoded data removed]",
      "text/plain": [
       "<Figure size 793.701x453.543 with 1 Axes>"
      ]
     },
     "metadata": {},
     "output_type": "display_data"
    }
   ],
   "source": [
    "plots.plot_independent_samples(df, plot_type = 'violinplot with stripplot overlay', marker_size=10)"
   ]
  },
  {
   "cell_type": "markdown",
   "id": "ca293501-0b6b-4aa9-93d1-94ce07e5b010",
   "metadata": {},
   "source": [
    "> Note: As long as you don´t pass information regarding a customizable feature along when calling the plotting functions, the default values will be used. You can find a list of all default values [here](https://dsegebarth.github.io/dcl_stats_n_plots/plots.html#Customizable-features)."
   ]
  },
  {
   "cell_type": "markdown",
   "id": "157a179b-c56b-4c74-bac2-5c4ea1117653",
   "metadata": {},
   "source": [
    "Whenever you would like to customize multiple features, we recommend passing a dictionary with all the features you would like to change as key-value-pairs. For instance, you can specify the exact label of the x- and y-axis, change their fontsize, increase the marker size of the stripplot overlay, use a different color palette for the violin plots, and finally adjust the figure size, like this:"
   ]
  },
  {
   "cell_type": "code",
   "execution_count": null,
   "id": "96e7575c-d2c0-41f3-ac74-18bfa3731008",
   "metadata": {},
   "outputs": [
    {
     "data": {
      "image/png": "[encoded data removed]",
      "text/plain": [
       "<Figure size 566.929x425.197 with 1 Axes>"
      ]
     },
     "metadata": {},
     "output_type": "display_data"
    }
   ],
   "source": [
    "# Specify the parameters you would like to customize:\n",
    "params = {'yaxis_label_text': 'time spent in center [s]',\n",
    "          'yaxis_label_fontsize': 15,\n",
    "          'xaxis_label_text': 'genotype',\n",
    "          'xaxis_label_fontsize': 15,\n",
    "          'marker_size': 8,\n",
    "          'color_palette': 'rocket',\n",
    "          'fig_width': 20,\n",
    "          'fig_height': 15}\n",
    "          \n",
    "# Pass the dictionary as 'params' when calling the plotting function\n",
    "plots.plot_independent_samples(df, plot_type = 'violinplot with stripplot overlay', **params)"
   ]
  },
  {
   "cell_type": "markdown",
   "id": "df272397-45f1-49df-978e-ec44f8f11eff",
   "metadata": {},
   "source": [
    "## Comparison of a single group to a fixed value"
   ]
  },
  {
   "cell_type": "markdown",
   "id": "97413367-1e2c-42df-b0a7-41f8c5071ee3",
   "metadata": {},
   "source": [
    "### Representative experiment"
   ]
  },
  {
   "cell_type": "markdown",
   "id": "7728c8ef-0932-4c0b-ae7b-9dcc805bd9d9",
   "metadata": {},
   "source": [
    "> Note: will be added soon."
   ]
  },
  {
   "cell_type": "markdown",
   "id": "d6b4b7c3-d6c5-4a63-94d6-a2795a7dd7b9",
   "metadata": {},
   "source": [
    "### Expected input data format\n",
    "\n",
    "For this analysis, you have to provide three columns. The first column must contain the data, the second column provides the corresponding group_id (see note below the image), and the third column provides the fixed value against which the group shall be compared.\n",
    "\n",
    "In Microsoft Excel, this might look like the following:\n",
    "\n",
    "![one_sample_input_schema.png](https://raw.githubusercontent.com/DSegebarth/dcl_stats_n_plots/master/media/one_sample_input_schema.png)"
   ]
  },
  {
   "cell_type": "markdown",
   "id": "02fd7a72-f2af-4b3f-9fee-8525d145464c",
   "metadata": {},
   "source": [
    "> Note: Of course, the second column ('group column') will only contain one group_id, since this is a _one sample_ analysis. However, keeping the expected input data structure consistent across functions (data, group, ..) is supposed to make the use of dcl_stats_n_plots a little easier for the user. On top, it allows the user to provide the x-axis-label (= group column header) and the corresponding x-axis-tick-label (= the group_id that is provided in the group column)."
   ]
  },
  {
   "cell_type": "markdown",
   "id": "7c44f7d7-9b65-4716-8b4e-94496cc20376",
   "metadata": {},
   "source": [
    "### Compute the stats"
   ]
  },
  {
   "cell_type": "markdown",
   "id": "3af6f42c-7393-4079-8527-894e2eebd7ca",
   "metadata": {},
   "source": [
    "In order to perform the statistical analysis, simply pass the data in a correctly structured pandas DataFrame to our `one_sample` function of the stats module. Please also check out the documentation there for more detailed information about what statistical tests are run."
   ]
  },
  {
   "cell_type": "code",
   "execution_count": null,
   "id": "28aa5242-5db1-45c6-ad6a-22c15afcdcf0",
   "metadata": {},
   "outputs": [
    {
     "data": {
      "text/html": [
       "<div>\n",
       "<style scoped>\n",
       "    .dataframe tbody tr th:only-of-type {\n",
       "        vertical-align: middle;\n",
       "    }\n",
       "\n",
       "    .dataframe tbody tr th {\n",
       "        vertical-align: top;\n",
       "    }\n",
       "\n",
       "    .dataframe thead th {\n",
       "        text-align: right;\n",
       "    }\n",
       "</style>\n",
       "<table border=\"1\" class=\"dataframe\">\n",
       "  <thead>\n",
       "    <tr style=\"text-align: right;\">\n",
       "      <th></th>\n",
       "      <th>data</th>\n",
       "      <th>group_id</th>\n",
       "      <th>fixed_value</th>\n",
       "    </tr>\n",
       "  </thead>\n",
       "  <tbody>\n",
       "    <tr>\n",
       "      <th>0</th>\n",
       "      <td>20.803300</td>\n",
       "      <td>group_a</td>\n",
       "      <td>50.0</td>\n",
       "    </tr>\n",
       "    <tr>\n",
       "      <th>1</th>\n",
       "      <td>38.016262</td>\n",
       "      <td>group_a</td>\n",
       "      <td>NaN</td>\n",
       "    </tr>\n",
       "    <tr>\n",
       "      <th>2</th>\n",
       "      <td>49.724380</td>\n",
       "      <td>group_a</td>\n",
       "      <td>NaN</td>\n",
       "    </tr>\n",
       "    <tr>\n",
       "      <th>3</th>\n",
       "      <td>35.418847</td>\n",
       "      <td>group_a</td>\n",
       "      <td>NaN</td>\n",
       "    </tr>\n",
       "    <tr>\n",
       "      <th>4</th>\n",
       "      <td>36.050618</td>\n",
       "      <td>group_a</td>\n",
       "      <td>NaN</td>\n",
       "    </tr>\n",
       "  </tbody>\n",
       "</table>\n",
       "</div>"
      ],
      "text/plain": [
       "        data group_id  fixed_value\n",
       "0  20.803300  group_a         50.0\n",
       "1  38.016262  group_a          NaN\n",
       "2  49.724380  group_a          NaN\n",
       "3  35.418847  group_a          NaN\n",
       "4  36.050618  group_a          NaN"
      ]
     },
     "execution_count": null,
     "metadata": {},
     "output_type": "execute_result"
    }
   ],
   "source": [
    "import pandas as pd\n",
    "\n",
    "file_url = 'https://raw.githubusercontent.com/DSegebarth/dcl_stats_n_plots/master/test_data/one_sample_significant.csv'\n",
    "\n",
    "df = pd.read_csv(file_url)\n",
    "df.head()"
   ]
  },
  {
   "cell_type": "code",
   "execution_count": null,
   "id": "79cf8150-c37c-4772-b7d3-1ea3fe1f22a8",
   "metadata": {},
   "outputs": [
    {
     "data": {
      "text/html": [
       "<div>\n",
       "<style scoped>\n",
       "    .dataframe tbody tr th:only-of-type {\n",
       "        vertical-align: middle;\n",
       "    }\n",
       "\n",
       "    .dataframe tbody tr th {\n",
       "        vertical-align: top;\n",
       "    }\n",
       "\n",
       "    .dataframe thead th {\n",
       "        text-align: right;\n",
       "    }\n",
       "</style>\n",
       "<table border=\"1\" class=\"dataframe\">\n",
       "  <thead>\n",
       "    <tr style=\"text-align: right;\">\n",
       "      <th></th>\n",
       "      <th>T</th>\n",
       "      <th>dof</th>\n",
       "      <th>alternative</th>\n",
       "      <th>p-val</th>\n",
       "      <th>CI95%</th>\n",
       "      <th>cohen-d</th>\n",
       "      <th>BF10</th>\n",
       "      <th>power</th>\n",
       "    </tr>\n",
       "  </thead>\n",
       "  <tbody>\n",
       "    <tr>\n",
       "      <th>T-test</th>\n",
       "      <td>-2.692558</td>\n",
       "      <td>9</td>\n",
       "      <td>two-sided</td>\n",
       "      <td>0.024693</td>\n",
       "      <td>[24.34, 47.77]</td>\n",
       "      <td>0.851462</td>\n",
       "      <td>3.032</td>\n",
       "      <td>0.669742</td>\n",
       "    </tr>\n",
       "  </tbody>\n",
       "</table>\n",
       "</div>"
      ],
      "text/plain": [
       "               T  dof alternative     p-val           CI95%   cohen-d   BF10  \\\n",
       "T-test -2.692558    9   two-sided  0.024693  [24.34, 47.77]  0.851462  3.032   \n",
       "\n",
       "           power  \n",
       "T-test  0.669742  "
      ]
     },
     "execution_count": null,
     "metadata": {},
     "output_type": "execute_result"
    }
   ],
   "source": [
    "from dcl_stats_n_plots import stats\n",
    "\n",
    "results = stats.one_sample(df)\n",
    "\n",
    "results['summary']['pairwise_comparisons']"
   ]
  },
  {
   "cell_type": "markdown",
   "id": "d9908869-fa5c-4e6e-839d-bacb33f9c666",
   "metadata": {},
   "source": [
    "### Plot the data and annotate the stats:"
   ]
  },
  {
   "cell_type": "markdown",
   "id": "5d3d6ff4-0e39-4501-a0c1-3769ddb22068",
   "metadata": {},
   "source": [
    "Using the `results` dictionary, we now have the option plot our data and annotate the results of the statistical analysis in one go."
   ]
  },
  {
   "cell_type": "code",
   "execution_count": null,
   "id": "7dd7a8a9-210f-4d2d-9e87-6b25628680d8",
   "metadata": {},
   "outputs": [
    {
     "data": {
      "image/png": "[encoded data removed]",
      "text/plain": [
       "<Figure size 793.701x453.543 with 1 Axes>"
      ]
     },
     "metadata": {},
     "output_type": "display_data"
    }
   ],
   "source": [
    "from dcl_stats_n_plots import plots\n",
    "\n",
    "plots.plot_one_sample(df, plot_type = 'stripplot')"
   ]
  },
  {
   "cell_type": "markdown",
   "id": "2c3268de-7ce2-400a-bdaf-2a150f2c33a4",
   "metadata": {},
   "source": [
    "> Warning: The annotation of the statistical results via the API is not yet implemented. This is one of the next features that will be added within one of the following patch releases - if not *the* next."
   ]
  },
  {
   "cell_type": "markdown",
   "id": "960e166e-5c9c-45ee-b145-0feebd5ead50",
   "metadata": {},
   "source": [
    "### Customize the plot"
   ]
  },
  {
   "cell_type": "markdown",
   "id": "d328823a-b3cb-454f-9503-be91c115b869",
   "metadata": {},
   "source": [
    "You also have the chance to customize several features of the generated plot, simply by specifying the respective features in a dictionary and passing it along when you call the plotting function. Please find a comprehensive list of all customizable features [here](https://dsegebarth.github.io/dcl_stats_n_plots/plots.html#Customizable-features)."
   ]
  },
  {
   "cell_type": "code",
   "execution_count": null,
   "id": "248e1e64-1705-4eae-b526-8c51907da1d2",
   "metadata": {},
   "outputs": [
    {
     "data": {
      "image/png": "[encoded data removed]",
      "text/plain": [
       "<Figure size 396.85x453.543 with 1 Axes>"
      ]
     },
     "metadata": {},
     "output_type": "display_data"
    }
   ],
   "source": [
    "params = {'color_palette': {'group_a': 'forestgreen'},\n",
    "          'marker_size': 7,\n",
    "          'fig_width': 14,\n",
    "          'yaxis_scaling_mode': 'manual',\n",
    "          'yaxis_lower_lim_value': 0,\n",
    "          'yaxis_upper_lim_value': 100,\n",
    "          'yaxis_label_text': 'time spent in target half [%]',\n",
    "          'xaxis_label_text': ''}\n",
    "\n",
    "plots.plot_one_sample(df, plot_type = 'boxplot with stripplot overlay', **params)"
   ]
  },
  {
   "cell_type": "markdown",
   "id": "8704d2ec-ca64-4ee8-86f5-e9808fe5cff0",
   "metadata": {},
   "source": [
    "## Mixed-Model ANOVA"
   ]
  },
  {
   "cell_type": "markdown",
   "id": "90a8aada-4955-4fb0-82a2-56607ae1d73c",
   "metadata": {},
   "source": [
    "> Warning: This function is currently only implemented in a parametric variant (there is no non-parametric equivalent available via pingouin). This affects only the group level statistics (main effects), while pairwise comparisons are again performed either using parametric or non-parametric tests, depending on the respective data."
   ]
  },
  {
   "cell_type": "markdown",
   "id": "cbca38d6-f34e-4508-9f5d-1c562a155eeb",
   "metadata": {},
   "source": [
    "### Representative experiment"
   ]
  },
  {
   "cell_type": "markdown",
   "id": "59cfaf6d-dc1b-43bb-af8f-8340b51d3a1c",
   "metadata": {},
   "source": [
    "> Note: will be added soon."
   ]
  },
  {
   "cell_type": "markdown",
   "id": "947e5631-85f3-4b3e-87a5-3bf3cdbc7270",
   "metadata": {},
   "source": [
    "### Expected input data format\n",
    "\n",
    "Now, for this analysis, things get a little bit more complicated. In total, your input data has to be structured in four columns (also have a look at the image below). First and second column are again, as for the other analyses, the columns that provide the data values (1st) and group assignment (2nd). The third column has to provide unique subject identifiers for each experimental subject. The values of the fourth column reflect the corresponding recording sessions (i.e. an identifier for each part of your experiment, in which one of the repeated measurements took place).\n",
    "\n",
    "In Microsoft Excel, this might look like the following:\n",
    "\n",
    "![mma_input_schema.png](https://raw.githubusercontent.com/DSegebarth/dcl_stats_n_plots/master/media/mma_input_schema.png)"
   ]
  },
  {
   "cell_type": "markdown",
   "id": "faaad2db-9caa-438f-bf64-dcba21bc48f6",
   "metadata": {},
   "source": [
    "### Compute the stats"
   ]
  },
  {
   "cell_type": "markdown",
   "id": "03b17c73-d186-4a6a-8890-d9097a957bd8",
   "metadata": {},
   "source": [
    "In order to perform the statistical analysis, simply pass the data in a correctly structured pandas DataFrame to the `mixed_model_ANOVA` function of the stats module. Please also check out the documentation there for more detailed information about what statistical tests are run."
   ]
  },
  {
   "cell_type": "code",
   "execution_count": null,
   "id": "046faa4e-10ac-48c3-9b45-5bdbc14d00ff",
   "metadata": {},
   "outputs": [
    {
     "data": {
      "text/html": [
       "<div>\n",
       "<style scoped>\n",
       "    .dataframe tbody tr th:only-of-type {\n",
       "        vertical-align: middle;\n",
       "    }\n",
       "\n",
       "    .dataframe tbody tr th {\n",
       "        vertical-align: top;\n",
       "    }\n",
       "\n",
       "    .dataframe thead th {\n",
       "        text-align: right;\n",
       "    }\n",
       "</style>\n",
       "<table border=\"1\" class=\"dataframe\">\n",
       "  <thead>\n",
       "    <tr style=\"text-align: right;\">\n",
       "      <th></th>\n",
       "      <th>data</th>\n",
       "      <th>group_id</th>\n",
       "      <th>subject_id</th>\n",
       "      <th>session_id</th>\n",
       "    </tr>\n",
       "  </thead>\n",
       "  <tbody>\n",
       "    <tr>\n",
       "      <th>0</th>\n",
       "      <td>77.481552</td>\n",
       "      <td>group_a</td>\n",
       "      <td>mouse_0</td>\n",
       "      <td>session_0</td>\n",
       "    </tr>\n",
       "    <tr>\n",
       "      <th>1</th>\n",
       "      <td>65.852625</td>\n",
       "      <td>group_a</td>\n",
       "      <td>mouse_1</td>\n",
       "      <td>session_0</td>\n",
       "    </tr>\n",
       "    <tr>\n",
       "      <th>2</th>\n",
       "      <td>22.100638</td>\n",
       "      <td>group_a</td>\n",
       "      <td>mouse_2</td>\n",
       "      <td>session_0</td>\n",
       "    </tr>\n",
       "    <tr>\n",
       "      <th>3</th>\n",
       "      <td>81.969348</td>\n",
       "      <td>group_a</td>\n",
       "      <td>mouse_3</td>\n",
       "      <td>session_0</td>\n",
       "    </tr>\n",
       "    <tr>\n",
       "      <th>4</th>\n",
       "      <td>29.748256</td>\n",
       "      <td>group_a</td>\n",
       "      <td>mouse_4</td>\n",
       "      <td>session_0</td>\n",
       "    </tr>\n",
       "  </tbody>\n",
       "</table>\n",
       "</div>"
      ],
      "text/plain": [
       "        data group_id subject_id session_id\n",
       "0  77.481552  group_a    mouse_0  session_0\n",
       "1  65.852625  group_a    mouse_1  session_0\n",
       "2  22.100638  group_a    mouse_2  session_0\n",
       "3  81.969348  group_a    mouse_3  session_0\n",
       "4  29.748256  group_a    mouse_4  session_0"
      ]
     },
     "execution_count": null,
     "metadata": {},
     "output_type": "execute_result"
    }
   ],
   "source": [
    "import pandas as pd\n",
    "\n",
    "file_url = 'https://raw.githubusercontent.com/DSegebarth/dcl_stats_n_plots/master/test_data/mixed_model_anova_3groups.csv'\n",
    "\n",
    "df = pd.read_csv(file_url)\n",
    "df.head()"
   ]
  },
  {
   "cell_type": "markdown",
   "id": "bdf652ca-a0b5-4a6e-b211-116086a12a2e",
   "metadata": {},
   "source": [
    "Since this function is currently only implemented in a parametric variant, calling the function will prompt you with a warning about this if your data actually violate the pre-requisites for parametric testing."
   ]
  },
  {
   "cell_type": "code",
   "execution_count": null,
   "id": "6aa114e6-ef00-4d95-ab5f-6cf31dc15649",
   "metadata": {},
   "outputs": [
    {
     "name": "stdout",
     "output_type": "stream",
     "text": [
      "Please be aware that the data require non-parametric testing.\n",
      "        However, this is not implemented yet and a parametric test is computed instead.\n"
     ]
    }
   ],
   "source": [
    "from dcl_stats_n_plots import stats\n",
    "\n",
    "results = stats.mixed_model_ANOVA(df)"
   ]
  },
  {
   "cell_type": "markdown",
   "id": "b0013533-e6c5-4612-89bb-e238f0ee114d",
   "metadata": {},
   "source": [
    "To access the group level statistics of the Mixed-Model ANOVA:"
   ]
  },
  {
   "cell_type": "code",
   "execution_count": null,
   "id": "cc14e360-cce0-4446-b3f4-74c6c1ccba23",
   "metadata": {},
   "outputs": [
    {
     "data": {
      "text/html": [
       "<div>\n",
       "<style scoped>\n",
       "    .dataframe tbody tr th:only-of-type {\n",
       "        vertical-align: middle;\n",
       "    }\n",
       "\n",
       "    .dataframe tbody tr th {\n",
       "        vertical-align: top;\n",
       "    }\n",
       "\n",
       "    .dataframe thead th {\n",
       "        text-align: right;\n",
       "    }\n",
       "</style>\n",
       "<table border=\"1\" class=\"dataframe\">\n",
       "  <thead>\n",
       "    <tr style=\"text-align: right;\">\n",
       "      <th></th>\n",
       "      <th>Source</th>\n",
       "      <th>SS</th>\n",
       "      <th>DF1</th>\n",
       "      <th>DF2</th>\n",
       "      <th>MS</th>\n",
       "      <th>F</th>\n",
       "      <th>p-unc</th>\n",
       "      <th>p-GG-corr</th>\n",
       "      <th>np2</th>\n",
       "      <th>eps</th>\n",
       "      <th>sphericity</th>\n",
       "      <th>W-spher</th>\n",
       "      <th>p-spher</th>\n",
       "    </tr>\n",
       "  </thead>\n",
       "  <tbody>\n",
       "    <tr>\n",
       "      <th>0</th>\n",
       "      <td>group_id</td>\n",
       "      <td>35128.572732</td>\n",
       "      <td>2</td>\n",
       "      <td>33</td>\n",
       "      <td>17564.286366</td>\n",
       "      <td>142.14269</td>\n",
       "      <td>6.047196e-17</td>\n",
       "      <td>NaN</td>\n",
       "      <td>0.895993</td>\n",
       "      <td>NaN</td>\n",
       "      <td>NaN</td>\n",
       "      <td>NaN</td>\n",
       "      <td>NaN</td>\n",
       "    </tr>\n",
       "    <tr>\n",
       "      <th>1</th>\n",
       "      <td>session_id</td>\n",
       "      <td>8026.474691</td>\n",
       "      <td>3</td>\n",
       "      <td>99</td>\n",
       "      <td>2675.491564</td>\n",
       "      <td>9.50643</td>\n",
       "      <td>1.412453e-05</td>\n",
       "      <td>0.000075</td>\n",
       "      <td>0.223647</td>\n",
       "      <td>0.747473</td>\n",
       "      <td>False</td>\n",
       "      <td>0.595991</td>\n",
       "      <td>0.003733</td>\n",
       "    </tr>\n",
       "    <tr>\n",
       "      <th>2</th>\n",
       "      <td>Interaction</td>\n",
       "      <td>340.513938</td>\n",
       "      <td>6</td>\n",
       "      <td>99</td>\n",
       "      <td>56.752323</td>\n",
       "      <td>0.20165</td>\n",
       "      <td>9.755467e-01</td>\n",
       "      <td>NaN</td>\n",
       "      <td>0.012074</td>\n",
       "      <td>NaN</td>\n",
       "      <td>NaN</td>\n",
       "      <td>NaN</td>\n",
       "      <td>NaN</td>\n",
       "    </tr>\n",
       "  </tbody>\n",
       "</table>\n",
       "</div>"
      ],
      "text/plain": [
       "        Source            SS  DF1  DF2            MS          F         p-unc  \\\n",
       "0     group_id  35128.572732    2   33  17564.286366  142.14269  6.047196e-17   \n",
       "1   session_id   8026.474691    3   99   2675.491564    9.50643  1.412453e-05   \n",
       "2  Interaction    340.513938    6   99     56.752323    0.20165  9.755467e-01   \n",
       "\n",
       "   p-GG-corr       np2       eps sphericity   W-spher   p-spher  \n",
       "0        NaN  0.895993       NaN        NaN       NaN       NaN  \n",
       "1   0.000075  0.223647  0.747473      False  0.595991  0.003733  \n",
       "2        NaN  0.012074       NaN        NaN       NaN       NaN  "
      ]
     },
     "execution_count": null,
     "metadata": {},
     "output_type": "execute_result"
    }
   ],
   "source": [
    "results['summary']['group_level_statistic']"
   ]
  },
  {
   "cell_type": "markdown",
   "id": "81468fcc-f12a-45df-a07f-9a432529deb9",
   "metadata": {},
   "source": [
    "And to inspect the pairwise comparisons in detail:"
   ]
  },
  {
   "cell_type": "code",
   "execution_count": null,
   "id": "c6ad13bb-ec5d-4db9-9b4c-fea5f48f3f26",
   "metadata": {},
   "outputs": [
    {
     "data": {
      "text/html": [
       "<div>\n",
       "<style scoped>\n",
       "    .dataframe tbody tr th:only-of-type {\n",
       "        vertical-align: middle;\n",
       "    }\n",
       "\n",
       "    .dataframe tbody tr th {\n",
       "        vertical-align: top;\n",
       "    }\n",
       "\n",
       "    .dataframe thead th {\n",
       "        text-align: right;\n",
       "    }\n",
       "</style>\n",
       "<table border=\"1\" class=\"dataframe\">\n",
       "  <thead>\n",
       "    <tr style=\"text-align: right;\">\n",
       "      <th></th>\n",
       "      <th>Contrast</th>\n",
       "      <th>session_id</th>\n",
       "      <th>A</th>\n",
       "      <th>B</th>\n",
       "      <th>Paired</th>\n",
       "      <th>Parametric</th>\n",
       "      <th>T</th>\n",
       "      <th>dof</th>\n",
       "      <th>alternative</th>\n",
       "      <th>p-unc</th>\n",
       "      <th>p-corr</th>\n",
       "      <th>p-adjust</th>\n",
       "      <th>BF10</th>\n",
       "      <th>hedges</th>\n",
       "    </tr>\n",
       "  </thead>\n",
       "  <tbody>\n",
       "    <tr>\n",
       "      <th>0</th>\n",
       "      <td>session_id</td>\n",
       "      <td>-</td>\n",
       "      <td>session_0</td>\n",
       "      <td>session_1</td>\n",
       "      <td>True</td>\n",
       "      <td>True</td>\n",
       "      <td>1.713945</td>\n",
       "      <td>35.0</td>\n",
       "      <td>two-sided</td>\n",
       "      <td>9.538362e-02</td>\n",
       "      <td>1.907672e-01</td>\n",
       "      <td>holm</td>\n",
       "      <td>0.673</td>\n",
       "      <td>0.362020</td>\n",
       "    </tr>\n",
       "    <tr>\n",
       "      <th>1</th>\n",
       "      <td>session_id</td>\n",
       "      <td>-</td>\n",
       "      <td>session_0</td>\n",
       "      <td>session_2</td>\n",
       "      <td>True</td>\n",
       "      <td>True</td>\n",
       "      <td>4.167179</td>\n",
       "      <td>35.0</td>\n",
       "      <td>two-sided</td>\n",
       "      <td>1.919616e-04</td>\n",
       "      <td>9.598079e-04</td>\n",
       "      <td>holm</td>\n",
       "      <td>138.164</td>\n",
       "      <td>0.732097</td>\n",
       "    </tr>\n",
       "    <tr>\n",
       "      <th>2</th>\n",
       "      <td>session_id</td>\n",
       "      <td>-</td>\n",
       "      <td>session_0</td>\n",
       "      <td>session_3</td>\n",
       "      <td>True</td>\n",
       "      <td>True</td>\n",
       "      <td>4.843552</td>\n",
       "      <td>35.0</td>\n",
       "      <td>two-sided</td>\n",
       "      <td>2.571215e-05</td>\n",
       "      <td>1.542729e-04</td>\n",
       "      <td>holm</td>\n",
       "      <td>860.812</td>\n",
       "      <td>0.867332</td>\n",
       "    </tr>\n",
       "    <tr>\n",
       "      <th>3</th>\n",
       "      <td>session_id</td>\n",
       "      <td>-</td>\n",
       "      <td>session_1</td>\n",
       "      <td>session_2</td>\n",
       "      <td>True</td>\n",
       "      <td>True</td>\n",
       "      <td>2.072002</td>\n",
       "      <td>35.0</td>\n",
       "      <td>two-sided</td>\n",
       "      <td>4.569679e-02</td>\n",
       "      <td>1.370904e-01</td>\n",
       "      <td>holm</td>\n",
       "      <td>1.198</td>\n",
       "      <td>0.319271</td>\n",
       "    </tr>\n",
       "    <tr>\n",
       "      <th>4</th>\n",
       "      <td>session_id</td>\n",
       "      <td>-</td>\n",
       "      <td>session_1</td>\n",
       "      <td>session_3</td>\n",
       "      <td>True</td>\n",
       "      <td>True</td>\n",
       "      <td>2.891506</td>\n",
       "      <td>35.0</td>\n",
       "      <td>two-sided</td>\n",
       "      <td>6.548338e-03</td>\n",
       "      <td>2.619335e-02</td>\n",
       "      <td>holm</td>\n",
       "      <td>6.08</td>\n",
       "      <td>0.473527</td>\n",
       "    </tr>\n",
       "    <tr>\n",
       "      <th>5</th>\n",
       "      <td>session_id</td>\n",
       "      <td>-</td>\n",
       "      <td>session_2</td>\n",
       "      <td>session_3</td>\n",
       "      <td>True</td>\n",
       "      <td>True</td>\n",
       "      <td>1.454323</td>\n",
       "      <td>35.0</td>\n",
       "      <td>two-sided</td>\n",
       "      <td>1.547666e-01</td>\n",
       "      <td>1.907672e-01</td>\n",
       "      <td>holm</td>\n",
       "      <td>0.469</td>\n",
       "      <td>0.196162</td>\n",
       "    </tr>\n",
       "    <tr>\n",
       "      <th>6</th>\n",
       "      <td>group_id</td>\n",
       "      <td>-</td>\n",
       "      <td>group_a</td>\n",
       "      <td>group_b</td>\n",
       "      <td>False</td>\n",
       "      <td>True</td>\n",
       "      <td>7.571227</td>\n",
       "      <td>22.0</td>\n",
       "      <td>two-sided</td>\n",
       "      <td>1.454963e-07</td>\n",
       "      <td>1.454963e-07</td>\n",
       "      <td>holm</td>\n",
       "      <td>6.399e+04</td>\n",
       "      <td>2.984356</td>\n",
       "    </tr>\n",
       "    <tr>\n",
       "      <th>7</th>\n",
       "      <td>group_id</td>\n",
       "      <td>-</td>\n",
       "      <td>group_a</td>\n",
       "      <td>group_c</td>\n",
       "      <td>False</td>\n",
       "      <td>True</td>\n",
       "      <td>15.793020</td>\n",
       "      <td>22.0</td>\n",
       "      <td>two-sided</td>\n",
       "      <td>1.734467e-13</td>\n",
       "      <td>5.203400e-13</td>\n",
       "      <td>holm</td>\n",
       "      <td>2.054e+10</td>\n",
       "      <td>6.225147</td>\n",
       "    </tr>\n",
       "    <tr>\n",
       "      <th>8</th>\n",
       "      <td>group_id</td>\n",
       "      <td>-</td>\n",
       "      <td>group_b</td>\n",
       "      <td>group_c</td>\n",
       "      <td>False</td>\n",
       "      <td>True</td>\n",
       "      <td>11.376810</td>\n",
       "      <td>22.0</td>\n",
       "      <td>two-sided</td>\n",
       "      <td>1.099303e-10</td>\n",
       "      <td>2.198605e-10</td>\n",
       "      <td>holm</td>\n",
       "      <td>4.819e+07</td>\n",
       "      <td>4.484406</td>\n",
       "    </tr>\n",
       "    <tr>\n",
       "      <th>9</th>\n",
       "      <td>session_id * group_id</td>\n",
       "      <td>session_0</td>\n",
       "      <td>group_a</td>\n",
       "      <td>group_b</td>\n",
       "      <td>False</td>\n",
       "      <td>True</td>\n",
       "      <td>2.154283</td>\n",
       "      <td>22.0</td>\n",
       "      <td>two-sided</td>\n",
       "      <td>4.243233e-02</td>\n",
       "      <td>8.486465e-02</td>\n",
       "      <td>holm</td>\n",
       "      <td>1.848</td>\n",
       "      <td>0.849155</td>\n",
       "    </tr>\n",
       "    <tr>\n",
       "      <th>10</th>\n",
       "      <td>session_id * group_id</td>\n",
       "      <td>session_0</td>\n",
       "      <td>group_a</td>\n",
       "      <td>group_c</td>\n",
       "      <td>False</td>\n",
       "      <td>True</td>\n",
       "      <td>4.855940</td>\n",
       "      <td>22.0</td>\n",
       "      <td>two-sided</td>\n",
       "      <td>7.471945e-05</td>\n",
       "      <td>5.230361e-04</td>\n",
       "      <td>holm</td>\n",
       "      <td>260.131</td>\n",
       "      <td>1.914069</td>\n",
       "    </tr>\n",
       "    <tr>\n",
       "      <th>11</th>\n",
       "      <td>session_id * group_id</td>\n",
       "      <td>session_0</td>\n",
       "      <td>group_b</td>\n",
       "      <td>group_c</td>\n",
       "      <td>False</td>\n",
       "      <td>True</td>\n",
       "      <td>3.392986</td>\n",
       "      <td>22.0</td>\n",
       "      <td>two-sided</td>\n",
       "      <td>2.614707e-03</td>\n",
       "      <td>1.045883e-02</td>\n",
       "      <td>holm</td>\n",
       "      <td>14.256</td>\n",
       "      <td>1.337416</td>\n",
       "    </tr>\n",
       "    <tr>\n",
       "      <th>12</th>\n",
       "      <td>session_id * group_id</td>\n",
       "      <td>session_1</td>\n",
       "      <td>group_a</td>\n",
       "      <td>group_b</td>\n",
       "      <td>False</td>\n",
       "      <td>True</td>\n",
       "      <td>1.979208</td>\n",
       "      <td>22.0</td>\n",
       "      <td>two-sided</td>\n",
       "      <td>6.044235e-02</td>\n",
       "      <td>8.486465e-02</td>\n",
       "      <td>holm</td>\n",
       "      <td>1.459</td>\n",
       "      <td>0.780146</td>\n",
       "    </tr>\n",
       "    <tr>\n",
       "      <th>13</th>\n",
       "      <td>session_id * group_id</td>\n",
       "      <td>session_1</td>\n",
       "      <td>group_a</td>\n",
       "      <td>group_c</td>\n",
       "      <td>False</td>\n",
       "      <td>True</td>\n",
       "      <td>4.204398</td>\n",
       "      <td>22.0</td>\n",
       "      <td>two-sided</td>\n",
       "      <td>3.662433e-04</td>\n",
       "      <td>1.831217e-03</td>\n",
       "      <td>holm</td>\n",
       "      <td>68.883</td>\n",
       "      <td>1.657251</td>\n",
       "    </tr>\n",
       "    <tr>\n",
       "      <th>14</th>\n",
       "      <td>session_id * group_id</td>\n",
       "      <td>session_1</td>\n",
       "      <td>group_b</td>\n",
       "      <td>group_c</td>\n",
       "      <td>False</td>\n",
       "      <td>True</td>\n",
       "      <td>5.522610</td>\n",
       "      <td>22.0</td>\n",
       "      <td>two-sided</td>\n",
       "      <td>1.501195e-05</td>\n",
       "      <td>1.200956e-04</td>\n",
       "      <td>holm</td>\n",
       "      <td>1033.011</td>\n",
       "      <td>2.176851</td>\n",
       "    </tr>\n",
       "    <tr>\n",
       "      <th>15</th>\n",
       "      <td>session_id * group_id</td>\n",
       "      <td>session_2</td>\n",
       "      <td>group_a</td>\n",
       "      <td>group_b</td>\n",
       "      <td>False</td>\n",
       "      <td>True</td>\n",
       "      <td>2.887439</td>\n",
       "      <td>22.0</td>\n",
       "      <td>two-sided</td>\n",
       "      <td>8.548165e-03</td>\n",
       "      <td>2.564449e-02</td>\n",
       "      <td>holm</td>\n",
       "      <td>5.786</td>\n",
       "      <td>1.138144</td>\n",
       "    </tr>\n",
       "    <tr>\n",
       "      <th>16</th>\n",
       "      <td>session_id * group_id</td>\n",
       "      <td>session_2</td>\n",
       "      <td>group_a</td>\n",
       "      <td>group_c</td>\n",
       "      <td>False</td>\n",
       "      <td>True</td>\n",
       "      <td>7.334310</td>\n",
       "      <td>22.0</td>\n",
       "      <td>two-sided</td>\n",
       "      <td>2.420478e-07</td>\n",
       "      <td>2.420478e-06</td>\n",
       "      <td>holm</td>\n",
       "      <td>4.037e+04</td>\n",
       "      <td>2.890970</td>\n",
       "    </tr>\n",
       "    <tr>\n",
       "      <th>17</th>\n",
       "      <td>session_id * group_id</td>\n",
       "      <td>session_2</td>\n",
       "      <td>group_b</td>\n",
       "      <td>group_c</td>\n",
       "      <td>False</td>\n",
       "      <td>True</td>\n",
       "      <td>7.799484</td>\n",
       "      <td>22.0</td>\n",
       "      <td>two-sided</td>\n",
       "      <td>8.973615e-08</td>\n",
       "      <td>1.076834e-06</td>\n",
       "      <td>holm</td>\n",
       "      <td>9.923e+04</td>\n",
       "      <td>3.074329</td>\n",
       "    </tr>\n",
       "    <tr>\n",
       "      <th>18</th>\n",
       "      <td>session_id * group_id</td>\n",
       "      <td>session_3</td>\n",
       "      <td>group_a</td>\n",
       "      <td>group_b</td>\n",
       "      <td>False</td>\n",
       "      <td>True</td>\n",
       "      <td>4.773539</td>\n",
       "      <td>22.0</td>\n",
       "      <td>two-sided</td>\n",
       "      <td>9.129504e-05</td>\n",
       "      <td>5.477703e-04</td>\n",
       "      <td>holm</td>\n",
       "      <td>219.525</td>\n",
       "      <td>1.881589</td>\n",
       "    </tr>\n",
       "    <tr>\n",
       "      <th>19</th>\n",
       "      <td>session_id * group_id</td>\n",
       "      <td>session_3</td>\n",
       "      <td>group_a</td>\n",
       "      <td>group_c</td>\n",
       "      <td>False</td>\n",
       "      <td>True</td>\n",
       "      <td>7.400019</td>\n",
       "      <td>22.0</td>\n",
       "      <td>two-sided</td>\n",
       "      <td>2.100230e-07</td>\n",
       "      <td>2.310253e-06</td>\n",
       "      <td>holm</td>\n",
       "      <td>4.589e+04</td>\n",
       "      <td>2.916871</td>\n",
       "    </tr>\n",
       "    <tr>\n",
       "      <th>20</th>\n",
       "      <td>session_id * group_id</td>\n",
       "      <td>session_3</td>\n",
       "      <td>group_b</td>\n",
       "      <td>group_c</td>\n",
       "      <td>False</td>\n",
       "      <td>True</td>\n",
       "      <td>6.710534</td>\n",
       "      <td>22.0</td>\n",
       "      <td>two-sided</td>\n",
       "      <td>9.578800e-07</td>\n",
       "      <td>8.620920e-06</td>\n",
       "      <td>holm</td>\n",
       "      <td>1.172e+04</td>\n",
       "      <td>2.645096</td>\n",
       "    </tr>\n",
       "  </tbody>\n",
       "</table>\n",
       "</div>"
      ],
      "text/plain": [
       "                 Contrast session_id          A          B Paired  Parametric  \\\n",
       "0              session_id          -  session_0  session_1   True        True   \n",
       "1              session_id          -  session_0  session_2   True        True   \n",
       "2              session_id          -  session_0  session_3   True        True   \n",
       "3              session_id          -  session_1  session_2   True        True   \n",
       "4              session_id          -  session_1  session_3   True        True   \n",
       "5              session_id          -  session_2  session_3   True        True   \n",
       "6                group_id          -    group_a    group_b  False        True   \n",
       "7                group_id          -    group_a    group_c  False        True   \n",
       "8                group_id          -    group_b    group_c  False        True   \n",
       "9   session_id * group_id  session_0    group_a    group_b  False        True   \n",
       "10  session_id * group_id  session_0    group_a    group_c  False        True   \n",
       "11  session_id * group_id  session_0    group_b    group_c  False        True   \n",
       "12  session_id * group_id  session_1    group_a    group_b  False        True   \n",
       "13  session_id * group_id  session_1    group_a    group_c  False        True   \n",
       "14  session_id * group_id  session_1    group_b    group_c  False        True   \n",
       "15  session_id * group_id  session_2    group_a    group_b  False        True   \n",
       "16  session_id * group_id  session_2    group_a    group_c  False        True   \n",
       "17  session_id * group_id  session_2    group_b    group_c  False        True   \n",
       "18  session_id * group_id  session_3    group_a    group_b  False        True   \n",
       "19  session_id * group_id  session_3    group_a    group_c  False        True   \n",
       "20  session_id * group_id  session_3    group_b    group_c  False        True   \n",
       "\n",
       "            T   dof alternative         p-unc        p-corr p-adjust  \\\n",
       "0    1.713945  35.0   two-sided  9.538362e-02  1.907672e-01     holm   \n",
       "1    4.167179  35.0   two-sided  1.919616e-04  9.598079e-04     holm   \n",
       "2    4.843552  35.0   two-sided  2.571215e-05  1.542729e-04     holm   \n",
       "3    2.072002  35.0   two-sided  4.569679e-02  1.370904e-01     holm   \n",
       "4    2.891506  35.0   two-sided  6.548338e-03  2.619335e-02     holm   \n",
       "5    1.454323  35.0   two-sided  1.547666e-01  1.907672e-01     holm   \n",
       "6    7.571227  22.0   two-sided  1.454963e-07  1.454963e-07     holm   \n",
       "7   15.793020  22.0   two-sided  1.734467e-13  5.203400e-13     holm   \n",
       "8   11.376810  22.0   two-sided  1.099303e-10  2.198605e-10     holm   \n",
       "9    2.154283  22.0   two-sided  4.243233e-02  8.486465e-02     holm   \n",
       "10   4.855940  22.0   two-sided  7.471945e-05  5.230361e-04     holm   \n",
       "11   3.392986  22.0   two-sided  2.614707e-03  1.045883e-02     holm   \n",
       "12   1.979208  22.0   two-sided  6.044235e-02  8.486465e-02     holm   \n",
       "13   4.204398  22.0   two-sided  3.662433e-04  1.831217e-03     holm   \n",
       "14   5.522610  22.0   two-sided  1.501195e-05  1.200956e-04     holm   \n",
       "15   2.887439  22.0   two-sided  8.548165e-03  2.564449e-02     holm   \n",
       "16   7.334310  22.0   two-sided  2.420478e-07  2.420478e-06     holm   \n",
       "17   7.799484  22.0   two-sided  8.973615e-08  1.076834e-06     holm   \n",
       "18   4.773539  22.0   two-sided  9.129504e-05  5.477703e-04     holm   \n",
       "19   7.400019  22.0   two-sided  2.100230e-07  2.310253e-06     holm   \n",
       "20   6.710534  22.0   two-sided  9.578800e-07  8.620920e-06     holm   \n",
       "\n",
       "         BF10    hedges  \n",
       "0       0.673  0.362020  \n",
       "1     138.164  0.732097  \n",
       "2     860.812  0.867332  \n",
       "3       1.198  0.319271  \n",
       "4        6.08  0.473527  \n",
       "5       0.469  0.196162  \n",
       "6   6.399e+04  2.984356  \n",
       "7   2.054e+10  6.225147  \n",
       "8   4.819e+07  4.484406  \n",
       "9       1.848  0.849155  \n",
       "10    260.131  1.914069  \n",
       "11     14.256  1.337416  \n",
       "12      1.459  0.780146  \n",
       "13     68.883  1.657251  \n",
       "14   1033.011  2.176851  \n",
       "15      5.786  1.138144  \n",
       "16  4.037e+04  2.890970  \n",
       "17  9.923e+04  3.074329  \n",
       "18    219.525  1.881589  \n",
       "19  4.589e+04  2.916871  \n",
       "20  1.172e+04  2.645096  "
      ]
     },
     "execution_count": null,
     "metadata": {},
     "output_type": "execute_result"
    }
   ],
   "source": [
    "results['summary']['pairwise_comparisons']"
   ]
  },
  {
   "cell_type": "markdown",
   "id": "02e62be3-e9d7-4731-b93d-8fa62c06fffc",
   "metadata": {},
   "source": [
    "> Note: Please note, that even though the data violated the pre-requisites for parametric testing on the group-level, they were again met for all pairwise comparisons and, thus, parametric testing was used in all these cases. "
   ]
  },
  {
   "cell_type": "markdown",
   "id": "81ca1c36-f69a-4475-b381-096b43951a48",
   "metadata": {},
   "source": [
    "### Plot the data and annotate the stats:"
   ]
  },
  {
   "cell_type": "markdown",
   "id": "7ac4f90e-b254-437f-ab0c-4ef13718bcca",
   "metadata": {},
   "source": [
    "Using the `results` dictionary, we now have the option plot our data and annotate the results of the statistical analysis in one go. The 'pointplot' option is good to visualize the progression over the course of the recorded sessions:"
   ]
  },
  {
   "cell_type": "code",
   "execution_count": null,
   "id": "c05e6071-2be6-427b-95d5-f0eac79156c9",
   "metadata": {},
   "outputs": [
    {
     "data": {
      "image/png": "[encoded data removed]",
      "text/plain": [
       "<Figure size 793.701x453.543 with 1 Axes>"
      ]
     },
     "metadata": {},
     "output_type": "display_data"
    }
   ],
   "source": [
    "from dcl_stats_n_plots import plots\n",
    "\n",
    "plots.plot_mma(df, plot_type = 'pointplot')"
   ]
  },
  {
   "cell_type": "markdown",
   "id": "cbcc9a57-9c73-489f-b1dd-6ca5f22a371b",
   "metadata": {},
   "source": [
    "However, sometimes there may not be an immediate connection between the individual sessions (which is why the connecting lines should be avoided), or you simply want to show all individual data points, instead of the group mean with an error bar, like for the pointplot. For this, feel free to check out the other plotting options we implemented to visualize your Mixed-Model ANOVA data:"
   ]
  },
  {
   "cell_type": "code",
   "execution_count": null,
   "id": "37711310-3bae-4cd6-8381-ebbb995a9ff7",
   "metadata": {},
   "outputs": [
    {
     "data": {
      "image/png": "[encoded data removed]",
      "text/plain": [
       "<Figure size 793.701x453.543 with 1 Axes>"
      ]
     },
     "metadata": {},
     "output_type": "display_data"
    }
   ],
   "source": [
    "plots.plot_mma(df, plot_type = 'boxplot with stripplot overlay')"
   ]
  },
  {
   "cell_type": "markdown",
   "id": "3399d902-208d-4941-902d-fd2a5ad8ea18",
   "metadata": {},
   "source": [
    "> Warning: The annotation of the statistical results via the API is not yet implemented. This is one of the next features that will be added within one of the following patch releases - if not *the* next."
   ]
  },
  {
   "cell_type": "markdown",
   "id": "325b18a1-44cc-4ad0-bf7d-bdb4cade7279",
   "metadata": {},
   "source": [
    "### Customize the plot"
   ]
  },
  {
   "cell_type": "markdown",
   "id": "598b9f97-4b06-4c4c-bb71-8174e75b8f01",
   "metadata": {},
   "source": [
    "You also have the chance to customize several features of the generated plot, simply by specifying the respective features in a dictionary and passing it along when you call the plotting function. Please find a comprehensive list of all customizable features [here](https://dsegebarth.github.io/dcl_stats_n_plots/plots.html#Customizable-features).\n",
    "\n",
    "For instance, you can also re-arrange the order of the x-axis labels or of the groups. "
   ]
  },
  {
   "cell_type": "code",
   "execution_count": null,
   "id": "69a393f1-6c22-4d09-94c1-e96d6e394e4c",
   "metadata": {},
   "outputs": [
    {
     "data": {
      "image/png": "[encoded data removed]",
      "text/plain": [
       "<Figure size 793.701x453.543 with 1 Axes>"
      ]
     },
     "metadata": {},
     "output_type": "display_data"
    }
   ],
   "source": [
    "params = {'l_xlabel_order': ['session_3', 'session_2', 'session_1', 'session_0'],\n",
    "          'l_hue_order': ['group_b', 'group_c', 'group_a'],\n",
    "          'color_palette': 'viridis'}\n",
    "\n",
    "plots.plot_mma(df, plot_type = 'violinplot with stripplot overlay', **params)"
   ]
  },
  {
   "cell_type": "markdown",
   "id": "1c9dc45a-06fb-47f6-ba8a-b5d2c9d1cdd2",
   "metadata": {},
   "source": [
    "> Warning: To be continued..."
   ]
  }
 ],
 "metadata": {
  "kernelspec": {
   "display_name": "Python 3 (ipykernel)",
   "language": "python",
   "name": "python3"
  }
 },
 "nbformat": 4,
 "nbformat_minor": 5
}
