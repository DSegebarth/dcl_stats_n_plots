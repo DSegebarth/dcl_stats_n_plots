{
 "cells": [
  {
   "cell_type": "markdown",
   "id": "5a2b98a6-dd1e-4aeb-9291-869da9dcad98",
   "metadata": {},
   "source": [
    "# API tutorial\n",
    "\n",
    "> Turorial on how to interact with the dcl_stats_n_plots API"
   ]
  },
  {
   "cell_type": "markdown",
   "id": "ec72d2a8-dac0-4f2a-a1f0-4b6b6fab544d",
   "metadata": {},
   "source": [
    "## Getting started\n",
    "\n",
    "dcl_stats_n_plots is available from PyPi, so just run:\n",
    "\n",
    "> `pip install dcl-stats-n-plots`\n",
    "\n",
    "for installation. If you are new to python and/or the jupyter interface and want a more detailed guide, please have a look at our [installation guide](https://dsegebarth.github.io/dcl_stats_n_plots/gui_tutorial.html#Getting-started). For this tutorial, we will use some demo files with dummy data, which are available [here](https://github.com/DSegebarth/dcl_stats_n_plots/tree/master/test_data).\n",
    "\n",
    "In the following, you will find some examples for each type of implemented statistical analysis, including the corresponding plotting and annotation functions. Currently, the implemented analyses are:\n",
    "\n",
    "1. Comparison of two or more independent samples\n",
    "2. Comparison of one group to a reference value\n",
    "3. Mixed-Model ANOVA (comparison of two or more groups with repeated measures)\n",
    "\n",
    "You will find the most detailed description of how to use our API in the [first section](https://dsegebarth.github.io/dcl_stats_n_plots/api_tutorial.html#Comparison-of-two-or-more-independent-samples). Thus, you might want to go through this section to get the most in-depth intro to our API, even though you want to perform a different kind of analysis in the end. \n",
    "\n",
    "> Note: This package relies heavily on the correct design of the input data. Therefore, please take some time before using one of the implemented functionalities and make sure you got the input data organized in the right way. In general, this packages requires the input data to be organized in the so-called \"long format\" with a fixed column order. Please check out the \"Expected input data format\" section for the respective test for detailed information."
   ]
  },
  {
   "cell_type": "markdown",
   "id": "b0733bbc-6737-437e-98aa-d1af1c115fbe",
   "metadata": {},
   "source": [
    "## Comparison of two or more independent samples"
   ]
  },
  {
   "cell_type": "markdown",
   "id": "cfcc174f-fa6e-4327-af39-12a295c77aea",
   "metadata": {},
   "source": [
    "### Representative experiment"
   ]
  },
  {
   "cell_type": "markdown",
   "id": "0a450bd0-2940-4fbb-a65b-1c8f5df95f60",
   "metadata": {},
   "source": [
    "The comparison of two or more independent samples is probably one of the most frequently performed analyses in the lab. You can use this type of analysis if you:\n",
    "\n",
    "- have multiple experimental subjects (>3) \n",
    "- that belong to at least two different groups\n",
    "- and the given experiment is perfomed only once with each experimental subject (no repeated measurements)\n",
    "\n",
    "For instance, if you recorded a single open field session of each mouse in a experimental cohort of 36 mice, which represent three different genotypes (12 homozygous transgenic mice \\[tg/tg\\], 12 heterozygous transgenic mice \\[tg/+\\], and 12 wildtype mice \\[+/+\\]). After you analyzed the videos, you now want to test for significant differences in the time the mice spent in the center of the open field - based on their genotype."
   ]
  },
  {
   "cell_type": "markdown",
   "id": "cc598c11-82d6-448e-be56-3c3c528ee157",
   "metadata": {},
   "source": [
    "> Note: Equal samples sizes per group is ideal, yet no prerequisite for this analysis."
   ]
  },
  {
   "cell_type": "markdown",
   "id": "a27dbf4f-26c5-4d58-9c6c-7d7ddb2c8482",
   "metadata": {},
   "source": [
    "### Expected input data format\n",
    "\n",
    "For this analysis, you only have to provide two columns. The first one that contains the actual data values, and the second column that specifies to which group the respective data value belongs. In Microsoft Excel, this might look like the following:"
   ]
  },
  {
   "cell_type": "markdown",
   "id": "945993b7-c99c-4e96-b4b1-bc6bafee73a6",
   "metadata": {},
   "source": [
    "![api_tutorial_01](https://raw.githubusercontent.com/DSegebarth/dcl_stats_n_plots/master/media/independent_samples_input_schema.png)"
   ]
  },
  {
   "cell_type": "markdown",
   "id": "f2229bbf-6fc2-4e27-9907-6fa25a73ca22",
   "metadata": {},
   "source": [
    "Where the first two data values belong to the group called \"group_a\", the third and fourth to a second group called \"group_b\", and the sixth and seventh value belong to a third group called \"group_c\". You probably got the idea ;-)\n",
    "\n",
    "You are entirely free to choose any column names (for instance \"time spent in center \\[s\\]\" instead of \"data\", or \"genotype\" instead of \"group_id\") and also to provide your favorite group names (e.g. \"+/+\" instead of \"group_a\" and \"tg/+\" for \"group_b\"). \n",
    "\n",
    "> Note: The column name of your data column will be used as the default y-axis label, but you will still be able to modify that on demand.\n",
    "\n",
    "> Note: The order of appearance of the groups in the group column (top to bottom) will be used as the default x-axis order, but you will still be able to modify that on demand."
   ]
  },
  {
   "cell_type": "markdown",
   "id": "50a59997-9e6c-4549-9565-71513aa7518f",
   "metadata": {},
   "source": [
    "### Compute the stats"
   ]
  },
  {
   "cell_type": "markdown",
   "id": "9c34480e-1242-4427-8b9f-ef6a829c9486",
   "metadata": {},
   "source": [
    "Now that we know how the input data has to be organized, let´s start with the statistical analysis of our dataset, using one of our dummy data test files, which are available [here](https://github.com/DSegebarth/dcl_stats_n_plots/tree/master/test_data). This dataset contains a total of 36 data values from three different groups ('tg/tg', 'tg/+', '+/+' - 12 values per group). For reasons of clarity, only the first 5 rows will be displayed."
   ]
  },
  {
   "cell_type": "code",
   "execution_count": null,
   "id": "380cbc4d-2eb6-4b9d-ad06-8e0427f6a87c",
   "metadata": {},
   "outputs": [
    {
     "ename": "HTTPError",
     "evalue": "HTTP Error 404: Not Found",
     "output_type": "error",
     "traceback": [
      "\u001b[0;31m---------------------------------------------------------------------------\u001b[0m",
      "\u001b[0;31mHTTPError\u001b[0m                                 Traceback (most recent call last)",
      "\u001b[0;32m/tmp/ipykernel_1111/3096100202.py\u001b[0m in \u001b[0;36m<module>\u001b[0;34m\u001b[0m\n\u001b[1;32m      3\u001b[0m \u001b[0mfile_url\u001b[0m \u001b[0;34m=\u001b[0m \u001b[0;34m'https://github.com/DSegebarth/dcl_stats_n_plots/raw/a4037a716556cf1080a1cb83e40130727a3e103b/test_data/independent_samples_3groups.csv'\u001b[0m\u001b[0;34m\u001b[0m\u001b[0;34m\u001b[0m\u001b[0m\n\u001b[1;32m      4\u001b[0m \u001b[0;34m\u001b[0m\u001b[0m\n\u001b[0;32m----> 5\u001b[0;31m \u001b[0mdf\u001b[0m \u001b[0;34m=\u001b[0m \u001b[0mpd\u001b[0m\u001b[0;34m.\u001b[0m\u001b[0mread_csv\u001b[0m\u001b[0;34m(\u001b[0m\u001b[0mfile_url\u001b[0m\u001b[0;34m)\u001b[0m\u001b[0;34m\u001b[0m\u001b[0;34m\u001b[0m\u001b[0m\n\u001b[0m\u001b[1;32m      6\u001b[0m \u001b[0mdf\u001b[0m\u001b[0;34m.\u001b[0m\u001b[0mhead\u001b[0m\u001b[0;34m(\u001b[0m\u001b[0;34m)\u001b[0m\u001b[0;34m\u001b[0m\u001b[0;34m\u001b[0m\u001b[0m\n",
      "\u001b[0;32m~/anaconda3/envs/DCLwidgets/lib/python3.7/site-packages/pandas/io/parsers.py\u001b[0m in \u001b[0;36mread_csv\u001b[0;34m(filepath_or_buffer, sep, delimiter, header, names, index_col, usecols, squeeze, prefix, mangle_dupe_cols, dtype, engine, converters, true_values, false_values, skipinitialspace, skiprows, skipfooter, nrows, na_values, keep_default_na, na_filter, verbose, skip_blank_lines, parse_dates, infer_datetime_format, keep_date_col, date_parser, dayfirst, cache_dates, iterator, chunksize, compression, thousands, decimal, lineterminator, quotechar, quoting, doublequote, escapechar, comment, encoding, dialect, error_bad_lines, warn_bad_lines, delim_whitespace, low_memory, memory_map, float_precision)\u001b[0m\n\u001b[1;32m    684\u001b[0m     )\n\u001b[1;32m    685\u001b[0m \u001b[0;34m\u001b[0m\u001b[0m\n\u001b[0;32m--> 686\u001b[0;31m     \u001b[0;32mreturn\u001b[0m \u001b[0m_read\u001b[0m\u001b[0;34m(\u001b[0m\u001b[0mfilepath_or_buffer\u001b[0m\u001b[0;34m,\u001b[0m \u001b[0mkwds\u001b[0m\u001b[0;34m)\u001b[0m\u001b[0;34m\u001b[0m\u001b[0;34m\u001b[0m\u001b[0m\n\u001b[0m\u001b[1;32m    687\u001b[0m \u001b[0;34m\u001b[0m\u001b[0m\n\u001b[1;32m    688\u001b[0m \u001b[0;34m\u001b[0m\u001b[0m\n",
      "\u001b[0;32m~/anaconda3/envs/DCLwidgets/lib/python3.7/site-packages/pandas/io/parsers.py\u001b[0m in \u001b[0;36m_read\u001b[0;34m(filepath_or_buffer, kwds)\u001b[0m\n\u001b[1;32m    433\u001b[0m     \u001b[0;31m# See https://github.com/python/mypy/issues/1297\u001b[0m\u001b[0;34m\u001b[0m\u001b[0;34m\u001b[0m\u001b[0;34m\u001b[0m\u001b[0m\n\u001b[1;32m    434\u001b[0m     fp_or_buf, _, compression, should_close = get_filepath_or_buffer(\n\u001b[0;32m--> 435\u001b[0;31m         \u001b[0mfilepath_or_buffer\u001b[0m\u001b[0;34m,\u001b[0m \u001b[0mencoding\u001b[0m\u001b[0;34m,\u001b[0m \u001b[0mcompression\u001b[0m\u001b[0;34m\u001b[0m\u001b[0;34m\u001b[0m\u001b[0m\n\u001b[0m\u001b[1;32m    436\u001b[0m     )\n\u001b[1;32m    437\u001b[0m     \u001b[0mkwds\u001b[0m\u001b[0;34m[\u001b[0m\u001b[0;34m\"compression\"\u001b[0m\u001b[0;34m]\u001b[0m \u001b[0;34m=\u001b[0m \u001b[0mcompression\u001b[0m\u001b[0;34m\u001b[0m\u001b[0;34m\u001b[0m\u001b[0m\n",
      "\u001b[0;32m~/anaconda3/envs/DCLwidgets/lib/python3.7/site-packages/pandas/io/common.py\u001b[0m in \u001b[0;36mget_filepath_or_buffer\u001b[0;34m(filepath_or_buffer, encoding, compression, mode, storage_options)\u001b[0m\n\u001b[1;32m    181\u001b[0m     \u001b[0;32mif\u001b[0m \u001b[0misinstance\u001b[0m\u001b[0;34m(\u001b[0m\u001b[0mfilepath_or_buffer\u001b[0m\u001b[0;34m,\u001b[0m \u001b[0mstr\u001b[0m\u001b[0;34m)\u001b[0m \u001b[0;32mand\u001b[0m \u001b[0mis_url\u001b[0m\u001b[0;34m(\u001b[0m\u001b[0mfilepath_or_buffer\u001b[0m\u001b[0;34m)\u001b[0m\u001b[0;34m:\u001b[0m\u001b[0;34m\u001b[0m\u001b[0;34m\u001b[0m\u001b[0m\n\u001b[1;32m    182\u001b[0m         \u001b[0;31m# TODO: fsspec can also handle HTTP via requests, but leaving this unchanged\u001b[0m\u001b[0;34m\u001b[0m\u001b[0;34m\u001b[0m\u001b[0;34m\u001b[0m\u001b[0m\n\u001b[0;32m--> 183\u001b[0;31m         \u001b[0mreq\u001b[0m \u001b[0;34m=\u001b[0m \u001b[0murlopen\u001b[0m\u001b[0;34m(\u001b[0m\u001b[0mfilepath_or_buffer\u001b[0m\u001b[0;34m)\u001b[0m\u001b[0;34m\u001b[0m\u001b[0;34m\u001b[0m\u001b[0m\n\u001b[0m\u001b[1;32m    184\u001b[0m         \u001b[0mcontent_encoding\u001b[0m \u001b[0;34m=\u001b[0m \u001b[0mreq\u001b[0m\u001b[0;34m.\u001b[0m\u001b[0mheaders\u001b[0m\u001b[0;34m.\u001b[0m\u001b[0mget\u001b[0m\u001b[0;34m(\u001b[0m\u001b[0;34m\"Content-Encoding\"\u001b[0m\u001b[0;34m,\u001b[0m \u001b[0;32mNone\u001b[0m\u001b[0;34m)\u001b[0m\u001b[0;34m\u001b[0m\u001b[0;34m\u001b[0m\u001b[0m\n\u001b[1;32m    185\u001b[0m         \u001b[0;32mif\u001b[0m \u001b[0mcontent_encoding\u001b[0m \u001b[0;34m==\u001b[0m \u001b[0;34m\"gzip\"\u001b[0m\u001b[0;34m:\u001b[0m\u001b[0;34m\u001b[0m\u001b[0;34m\u001b[0m\u001b[0m\n",
      "\u001b[0;32m~/anaconda3/envs/DCLwidgets/lib/python3.7/site-packages/pandas/io/common.py\u001b[0m in \u001b[0;36murlopen\u001b[0;34m(*args, **kwargs)\u001b[0m\n\u001b[1;32m    135\u001b[0m     \u001b[0;32mimport\u001b[0m \u001b[0murllib\u001b[0m\u001b[0;34m.\u001b[0m\u001b[0mrequest\u001b[0m\u001b[0;34m\u001b[0m\u001b[0;34m\u001b[0m\u001b[0m\n\u001b[1;32m    136\u001b[0m \u001b[0;34m\u001b[0m\u001b[0m\n\u001b[0;32m--> 137\u001b[0;31m     \u001b[0;32mreturn\u001b[0m \u001b[0murllib\u001b[0m\u001b[0;34m.\u001b[0m\u001b[0mrequest\u001b[0m\u001b[0;34m.\u001b[0m\u001b[0murlopen\u001b[0m\u001b[0;34m(\u001b[0m\u001b[0;34m*\u001b[0m\u001b[0margs\u001b[0m\u001b[0;34m,\u001b[0m \u001b[0;34m**\u001b[0m\u001b[0mkwargs\u001b[0m\u001b[0;34m)\u001b[0m\u001b[0;34m\u001b[0m\u001b[0;34m\u001b[0m\u001b[0m\n\u001b[0m\u001b[1;32m    138\u001b[0m \u001b[0;34m\u001b[0m\u001b[0m\n\u001b[1;32m    139\u001b[0m \u001b[0;34m\u001b[0m\u001b[0m\n",
      "\u001b[0;32m~/anaconda3/envs/DCLwidgets/lib/python3.7/urllib/request.py\u001b[0m in \u001b[0;36murlopen\u001b[0;34m(url, data, timeout, cafile, capath, cadefault, context)\u001b[0m\n\u001b[1;32m    220\u001b[0m     \u001b[0;32melse\u001b[0m\u001b[0;34m:\u001b[0m\u001b[0;34m\u001b[0m\u001b[0;34m\u001b[0m\u001b[0m\n\u001b[1;32m    221\u001b[0m         \u001b[0mopener\u001b[0m \u001b[0;34m=\u001b[0m \u001b[0m_opener\u001b[0m\u001b[0;34m\u001b[0m\u001b[0;34m\u001b[0m\u001b[0m\n\u001b[0;32m--> 222\u001b[0;31m     \u001b[0;32mreturn\u001b[0m \u001b[0mopener\u001b[0m\u001b[0;34m.\u001b[0m\u001b[0mopen\u001b[0m\u001b[0;34m(\u001b[0m\u001b[0murl\u001b[0m\u001b[0;34m,\u001b[0m \u001b[0mdata\u001b[0m\u001b[0;34m,\u001b[0m \u001b[0mtimeout\u001b[0m\u001b[0;34m)\u001b[0m\u001b[0;34m\u001b[0m\u001b[0;34m\u001b[0m\u001b[0m\n\u001b[0m\u001b[1;32m    223\u001b[0m \u001b[0;34m\u001b[0m\u001b[0m\n\u001b[1;32m    224\u001b[0m \u001b[0;32mdef\u001b[0m \u001b[0minstall_opener\u001b[0m\u001b[0;34m(\u001b[0m\u001b[0mopener\u001b[0m\u001b[0;34m)\u001b[0m\u001b[0;34m:\u001b[0m\u001b[0;34m\u001b[0m\u001b[0;34m\u001b[0m\u001b[0m\n",
      "\u001b[0;32m~/anaconda3/envs/DCLwidgets/lib/python3.7/urllib/request.py\u001b[0m in \u001b[0;36mopen\u001b[0;34m(self, fullurl, data, timeout)\u001b[0m\n\u001b[1;32m    529\u001b[0m         \u001b[0;32mfor\u001b[0m \u001b[0mprocessor\u001b[0m \u001b[0;32min\u001b[0m \u001b[0mself\u001b[0m\u001b[0;34m.\u001b[0m\u001b[0mprocess_response\u001b[0m\u001b[0;34m.\u001b[0m\u001b[0mget\u001b[0m\u001b[0;34m(\u001b[0m\u001b[0mprotocol\u001b[0m\u001b[0;34m,\u001b[0m \u001b[0;34m[\u001b[0m\u001b[0;34m]\u001b[0m\u001b[0;34m)\u001b[0m\u001b[0;34m:\u001b[0m\u001b[0;34m\u001b[0m\u001b[0;34m\u001b[0m\u001b[0m\n\u001b[1;32m    530\u001b[0m             \u001b[0mmeth\u001b[0m \u001b[0;34m=\u001b[0m \u001b[0mgetattr\u001b[0m\u001b[0;34m(\u001b[0m\u001b[0mprocessor\u001b[0m\u001b[0;34m,\u001b[0m \u001b[0mmeth_name\u001b[0m\u001b[0;34m)\u001b[0m\u001b[0;34m\u001b[0m\u001b[0;34m\u001b[0m\u001b[0m\n\u001b[0;32m--> 531\u001b[0;31m             \u001b[0mresponse\u001b[0m \u001b[0;34m=\u001b[0m \u001b[0mmeth\u001b[0m\u001b[0;34m(\u001b[0m\u001b[0mreq\u001b[0m\u001b[0;34m,\u001b[0m \u001b[0mresponse\u001b[0m\u001b[0;34m)\u001b[0m\u001b[0;34m\u001b[0m\u001b[0;34m\u001b[0m\u001b[0m\n\u001b[0m\u001b[1;32m    532\u001b[0m \u001b[0;34m\u001b[0m\u001b[0m\n\u001b[1;32m    533\u001b[0m         \u001b[0;32mreturn\u001b[0m \u001b[0mresponse\u001b[0m\u001b[0;34m\u001b[0m\u001b[0;34m\u001b[0m\u001b[0m\n",
      "\u001b[0;32m~/anaconda3/envs/DCLwidgets/lib/python3.7/urllib/request.py\u001b[0m in \u001b[0;36mhttp_response\u001b[0;34m(self, request, response)\u001b[0m\n\u001b[1;32m    639\u001b[0m         \u001b[0;32mif\u001b[0m \u001b[0;32mnot\u001b[0m \u001b[0;34m(\u001b[0m\u001b[0;36m200\u001b[0m \u001b[0;34m<=\u001b[0m \u001b[0mcode\u001b[0m \u001b[0;34m<\u001b[0m \u001b[0;36m300\u001b[0m\u001b[0;34m)\u001b[0m\u001b[0;34m:\u001b[0m\u001b[0;34m\u001b[0m\u001b[0;34m\u001b[0m\u001b[0m\n\u001b[1;32m    640\u001b[0m             response = self.parent.error(\n\u001b[0;32m--> 641\u001b[0;31m                 'http', request, response, code, msg, hdrs)\n\u001b[0m\u001b[1;32m    642\u001b[0m \u001b[0;34m\u001b[0m\u001b[0m\n\u001b[1;32m    643\u001b[0m         \u001b[0;32mreturn\u001b[0m \u001b[0mresponse\u001b[0m\u001b[0;34m\u001b[0m\u001b[0;34m\u001b[0m\u001b[0m\n",
      "\u001b[0;32m~/anaconda3/envs/DCLwidgets/lib/python3.7/urllib/request.py\u001b[0m in \u001b[0;36merror\u001b[0;34m(self, proto, *args)\u001b[0m\n\u001b[1;32m    567\u001b[0m         \u001b[0;32mif\u001b[0m \u001b[0mhttp_err\u001b[0m\u001b[0;34m:\u001b[0m\u001b[0;34m\u001b[0m\u001b[0;34m\u001b[0m\u001b[0m\n\u001b[1;32m    568\u001b[0m             \u001b[0margs\u001b[0m \u001b[0;34m=\u001b[0m \u001b[0;34m(\u001b[0m\u001b[0mdict\u001b[0m\u001b[0;34m,\u001b[0m \u001b[0;34m'default'\u001b[0m\u001b[0;34m,\u001b[0m \u001b[0;34m'http_error_default'\u001b[0m\u001b[0;34m)\u001b[0m \u001b[0;34m+\u001b[0m \u001b[0morig_args\u001b[0m\u001b[0;34m\u001b[0m\u001b[0;34m\u001b[0m\u001b[0m\n\u001b[0;32m--> 569\u001b[0;31m             \u001b[0;32mreturn\u001b[0m \u001b[0mself\u001b[0m\u001b[0;34m.\u001b[0m\u001b[0m_call_chain\u001b[0m\u001b[0;34m(\u001b[0m\u001b[0;34m*\u001b[0m\u001b[0margs\u001b[0m\u001b[0;34m)\u001b[0m\u001b[0;34m\u001b[0m\u001b[0;34m\u001b[0m\u001b[0m\n\u001b[0m\u001b[1;32m    570\u001b[0m \u001b[0;34m\u001b[0m\u001b[0m\n\u001b[1;32m    571\u001b[0m \u001b[0;31m# XXX probably also want an abstract factory that knows when it makes\u001b[0m\u001b[0;34m\u001b[0m\u001b[0;34m\u001b[0m\u001b[0;34m\u001b[0m\u001b[0m\n",
      "\u001b[0;32m~/anaconda3/envs/DCLwidgets/lib/python3.7/urllib/request.py\u001b[0m in \u001b[0;36m_call_chain\u001b[0;34m(self, chain, kind, meth_name, *args)\u001b[0m\n\u001b[1;32m    501\u001b[0m         \u001b[0;32mfor\u001b[0m \u001b[0mhandler\u001b[0m \u001b[0;32min\u001b[0m \u001b[0mhandlers\u001b[0m\u001b[0;34m:\u001b[0m\u001b[0;34m\u001b[0m\u001b[0;34m\u001b[0m\u001b[0m\n\u001b[1;32m    502\u001b[0m             \u001b[0mfunc\u001b[0m \u001b[0;34m=\u001b[0m \u001b[0mgetattr\u001b[0m\u001b[0;34m(\u001b[0m\u001b[0mhandler\u001b[0m\u001b[0;34m,\u001b[0m \u001b[0mmeth_name\u001b[0m\u001b[0;34m)\u001b[0m\u001b[0;34m\u001b[0m\u001b[0;34m\u001b[0m\u001b[0m\n\u001b[0;32m--> 503\u001b[0;31m             \u001b[0mresult\u001b[0m \u001b[0;34m=\u001b[0m \u001b[0mfunc\u001b[0m\u001b[0;34m(\u001b[0m\u001b[0;34m*\u001b[0m\u001b[0margs\u001b[0m\u001b[0;34m)\u001b[0m\u001b[0;34m\u001b[0m\u001b[0;34m\u001b[0m\u001b[0m\n\u001b[0m\u001b[1;32m    504\u001b[0m             \u001b[0;32mif\u001b[0m \u001b[0mresult\u001b[0m \u001b[0;32mis\u001b[0m \u001b[0;32mnot\u001b[0m \u001b[0;32mNone\u001b[0m\u001b[0;34m:\u001b[0m\u001b[0;34m\u001b[0m\u001b[0;34m\u001b[0m\u001b[0m\n\u001b[1;32m    505\u001b[0m                 \u001b[0;32mreturn\u001b[0m \u001b[0mresult\u001b[0m\u001b[0;34m\u001b[0m\u001b[0;34m\u001b[0m\u001b[0m\n",
      "\u001b[0;32m~/anaconda3/envs/DCLwidgets/lib/python3.7/urllib/request.py\u001b[0m in \u001b[0;36mhttp_error_default\u001b[0;34m(self, req, fp, code, msg, hdrs)\u001b[0m\n\u001b[1;32m    647\u001b[0m \u001b[0;32mclass\u001b[0m \u001b[0mHTTPDefaultErrorHandler\u001b[0m\u001b[0;34m(\u001b[0m\u001b[0mBaseHandler\u001b[0m\u001b[0;34m)\u001b[0m\u001b[0;34m:\u001b[0m\u001b[0;34m\u001b[0m\u001b[0;34m\u001b[0m\u001b[0m\n\u001b[1;32m    648\u001b[0m     \u001b[0;32mdef\u001b[0m \u001b[0mhttp_error_default\u001b[0m\u001b[0;34m(\u001b[0m\u001b[0mself\u001b[0m\u001b[0;34m,\u001b[0m \u001b[0mreq\u001b[0m\u001b[0;34m,\u001b[0m \u001b[0mfp\u001b[0m\u001b[0;34m,\u001b[0m \u001b[0mcode\u001b[0m\u001b[0;34m,\u001b[0m \u001b[0mmsg\u001b[0m\u001b[0;34m,\u001b[0m \u001b[0mhdrs\u001b[0m\u001b[0;34m)\u001b[0m\u001b[0;34m:\u001b[0m\u001b[0;34m\u001b[0m\u001b[0;34m\u001b[0m\u001b[0m\n\u001b[0;32m--> 649\u001b[0;31m         \u001b[0;32mraise\u001b[0m \u001b[0mHTTPError\u001b[0m\u001b[0;34m(\u001b[0m\u001b[0mreq\u001b[0m\u001b[0;34m.\u001b[0m\u001b[0mfull_url\u001b[0m\u001b[0;34m,\u001b[0m \u001b[0mcode\u001b[0m\u001b[0;34m,\u001b[0m \u001b[0mmsg\u001b[0m\u001b[0;34m,\u001b[0m \u001b[0mhdrs\u001b[0m\u001b[0;34m,\u001b[0m \u001b[0mfp\u001b[0m\u001b[0;34m)\u001b[0m\u001b[0;34m\u001b[0m\u001b[0;34m\u001b[0m\u001b[0m\n\u001b[0m\u001b[1;32m    650\u001b[0m \u001b[0;34m\u001b[0m\u001b[0m\n\u001b[1;32m    651\u001b[0m \u001b[0;32mclass\u001b[0m \u001b[0mHTTPRedirectHandler\u001b[0m\u001b[0;34m(\u001b[0m\u001b[0mBaseHandler\u001b[0m\u001b[0;34m)\u001b[0m\u001b[0;34m:\u001b[0m\u001b[0;34m\u001b[0m\u001b[0;34m\u001b[0m\u001b[0m\n",
      "\u001b[0;31mHTTPError\u001b[0m: HTTP Error 404: Not Found"
     ]
    }
   ],
   "source": [
    "import pandas as pd\n",
    "\n",
    "file_url = 'https://github.com/DSegebarth/dcl_stats_n_plots/raw/a4037a716556cf1080a1cb83e40130727a3e103b/test_data/independent_samples_3groups.csv'\n",
    "\n",
    "df = pd.read_csv(file_url)\n",
    "df.head()"
   ]
  },
  {
   "cell_type": "markdown",
   "id": "b5787ae1-ab4a-49b6-b131-5ae754271f0d",
   "metadata": {},
   "source": [
    "To perform the statistical analysis, all we now have to do is pass this data as Pandas DataFrame to the `independent_samples` function of the stats module.\n",
    "This will return a dictionary containing the results of the statistical analysis, but also some automatically extracted parameters that will be of use for both plotting and annotation of the data later on. For the exact details of which statistical tests are performed, please head over to the documentation of the `independent_samples` function. In brief: \n",
    "\n",
    "1. The prerequisites for parametric testing (normal distribution and equality of variances) are assessed\n",
    "2. Parametric or non-parametric tests are used accordingly\n",
    "3. If the dataset contains more than two groups, pairwise comparisons of all possible combinations are performed and the results are corrected for multiple comparisons\n",
    "\n",
    "The results of the pairwise comparisons can be accessed as follows:"
   ]
  },
  {
   "cell_type": "code",
   "execution_count": null,
   "id": "ef4f46e6-8722-4abb-a31f-874c312a8418",
   "metadata": {},
   "outputs": [],
   "source": [
    "from dcl_stats_n_plots import stats\n",
    "\n",
    "results = stats.independent_samples(df)\n",
    "\n",
    "results['summary']['pairwise_comparisons']"
   ]
  },
  {
   "cell_type": "markdown",
   "id": "682bac58-190f-421e-868d-240a24ac22f4",
   "metadata": {},
   "source": [
    "If there were more than two groups present, the results of the group level statistical test can be accessed as:"
   ]
  },
  {
   "cell_type": "code",
   "execution_count": null,
   "id": "e2e20552-f243-4e3d-bb02-37e07bf96ae2",
   "metadata": {},
   "outputs": [],
   "source": [
    "results['summary']['group_level_statistic']"
   ]
  },
  {
   "cell_type": "markdown",
   "id": "c706d1b4-209a-43b7-b4bd-d98fbb372437",
   "metadata": {},
   "source": [
    "> Note: Again, for more detailed information about the statistical tests, as well as the generated output, please have a look at the documentation of the `independent_samples` function. Here you will also find links to the corresponding functions of the python package \"pingouin\", which is used for statistical testing."
   ]
  },
  {
   "cell_type": "markdown",
   "id": "6d65f4b9-aaf9-4f38-a6db-eef2d383907b",
   "metadata": {},
   "source": [
    "### Plot the data and annotate the stats:"
   ]
  },
  {
   "cell_type": "markdown",
   "id": "34f41f5c-a4d1-425a-92f7-f6308d426f3b",
   "metadata": {},
   "source": [
    "With the `results` dictionary and our dataset as Pandas DataFrame, we have everything we need to plot the data and annotate the stats in one go."
   ]
  },
  {
   "cell_type": "code",
   "execution_count": null,
   "id": "c75ea34a-cc87-443f-b2ac-9d45e6532b1f",
   "metadata": {},
   "outputs": [],
   "source": [
    "from dcl_stats_n_plots import plots\n",
    "\n",
    "plots.plot_independent_samples(df, plot_type = 'stripplot')"
   ]
  },
  {
   "cell_type": "markdown",
   "id": "6d9d42f3-925a-40d5-85b8-b4ae277508d4",
   "metadata": {},
   "source": [
    "For all types of statistical analyses that are implemented in dcl_stats_n_plots, we also provide several options of how to visualize your data. In order to change the type of plot, simply choose from the range of currently supported plots (see `plot_independent_samples`) and change the string you pass to the function accordingly:"
   ]
  },
  {
   "cell_type": "code",
   "execution_count": null,
   "id": "6302a539-53bd-4a67-8c20-c4782bc228c9",
   "metadata": {},
   "outputs": [],
   "source": [
    "plots.plot_independent_samples(df, plot_type = 'violinplot with stripplot overlay')"
   ]
  },
  {
   "cell_type": "markdown",
   "id": "d86d4a7f-1077-4944-96d7-27dc2b901aa5",
   "metadata": {},
   "source": [
    "> Warning: The annotation of the statistical results via the API is not yet implemented. This is one of the next features that will be added within one of the following patch releases - if not *the* next."
   ]
  },
  {
   "cell_type": "markdown",
   "id": "80d7ef2b-3c64-48eb-af75-0c1b0a306bf1",
   "metadata": {},
   "source": [
    "### Customize the plot"
   ]
  },
  {
   "cell_type": "markdown",
   "id": "6b737d8a-971f-4059-b903-d196034a8d1a",
   "metadata": {},
   "source": [
    "dcl_stats_n_plots provides you with a bunch of customization options. A comprehensive list will be made available [here](https://dsegebarth.github.io/dcl_stats_n_plots/plots.html) shortly. Probably the easiest way to explore them all is by using our GUI, where you can play arround with all parameters and interactively change them back and forth until you found the perfect settings for your plot. Since the customization parameters work in the same manner for all types of analyses and plots, you can also have a look at the other provided customization examples.\n",
    "\n",
    "In order to customize your plots using our API, you have to pass a dictionary to the plotting function, which contains all parameters that you would like to change. We designed our API in such a way, that you only have to pass those parameters to the function, which you want to customize. The default settings will be used for all remaining parameters.\n",
    "\n",
    "For instance, you can specify the exact label of the x- and y-axis, change their fontsize, increase the marker size of the stripplot overlay, use a different color palette for the violin plots, and finally adjust the figure size, as per individual demand."
   ]
  },
  {
   "cell_type": "code",
   "execution_count": null,
   "id": "96e7575c-d2c0-41f3-ac74-18bfa3731008",
   "metadata": {},
   "outputs": [],
   "source": [
    "# Specify the parameters you would like to customize:\n",
    "params = {'yaxis_label_text': 'time spent in center [s]',\n",
    "          'yaxis_label_fontsize': 15,\n",
    "          'xaxis_label_text': 'genotype',\n",
    "          'xaxis_label_fontsize': 15,\n",
    "          'marker_size': 8,\n",
    "          'color_palette': 'rocket',\n",
    "          'fig_width': 20,\n",
    "          'fig_height': 15}\n",
    "          \n",
    "# Pass the dictionary as 'params' when calling the plotting function\n",
    "plots.plot_independent_samples(df, plot_type = 'violinplot with stripplot overlay', params = params)"
   ]
  },
  {
   "cell_type": "markdown",
   "id": "df272397-45f1-49df-978e-ec44f8f11eff",
   "metadata": {},
   "source": [
    "## Comparison of a single group to a fixed value"
   ]
  },
  {
   "cell_type": "markdown",
   "id": "97413367-1e2c-42df-b0a7-41f8c5071ee3",
   "metadata": {},
   "source": [
    "### Representative experiment"
   ]
  },
  {
   "cell_type": "markdown",
   "id": "7728c8ef-0932-4c0b-ae7b-9dcc805bd9d9",
   "metadata": {},
   "source": [
    "> Note: will be added soon."
   ]
  },
  {
   "cell_type": "markdown",
   "id": "d6b4b7c3-d6c5-4a63-94d6-a2795a7dd7b9",
   "metadata": {},
   "source": [
    "### Expected input data format\n",
    "\n",
    "For this analysis, you have to provide three columns. The first column must contain the data, the second column provides the corresponding group_id (see note below the image), and the third column provides the fixed value against which the group shall be compared.\n",
    "\n",
    "In Microsoft Excel, this might look like the following:\n",
    "\n",
    "![one_sample_input_schema.png](https://raw.githubusercontent.com/DSegebarth/dcl_stats_n_plots/master/media/one_sample_input_schema.png)"
   ]
  },
  {
   "cell_type": "markdown",
   "id": "02fd7a72-f2af-4b3f-9fee-8525d145464c",
   "metadata": {},
   "source": [
    "> Note: Of course, the second column ('group column') will only contain one group_id, since this is a _one sample_ analysis. However, keeping the expected input data structure consistent across functions (data, group, ..) is supposed to make the use of dcl_stats_n_plots a little easier for the user. On top, it allows the user to provide the x-axis-label (= group column header) and the corresponding x-axis-tick-label (= the group_id that is provided in the group column)."
   ]
  },
  {
   "cell_type": "markdown",
   "id": "7c44f7d7-9b65-4716-8b4e-94496cc20376",
   "metadata": {},
   "source": [
    "### Compute the stats"
   ]
  },
  {
   "cell_type": "markdown",
   "id": "3af6f42c-7393-4079-8527-894e2eebd7ca",
   "metadata": {},
   "source": [
    "In order to perform the statistical analysis, simply pass the data in a correctly structured pandas DataFrame to our `one_sample` function of the stats module. Please also check out the documentation there for more detailed information about what statistical tests are run."
   ]
  },
  {
   "cell_type": "code",
   "execution_count": null,
   "id": "28aa5242-5db1-45c6-ad6a-22c15afcdcf0",
   "metadata": {},
   "outputs": [],
   "source": [
    "import pandas as pd\n",
    "\n",
    "file_url = 'https://raw.githubusercontent.com/DSegebarth/dcl_stats_n_plots/master/test_data/one_sample_significant.csv'\n",
    "\n",
    "df = pd.read_csv(file_url)\n",
    "df.head()"
   ]
  },
  {
   "cell_type": "code",
   "execution_count": null,
   "id": "79cf8150-c37c-4772-b7d3-1ea3fe1f22a8",
   "metadata": {},
   "outputs": [],
   "source": [
    "from dcl_stats_n_plots import stats\n",
    "\n",
    "results = stats.one_sample(df)\n",
    "\n",
    "results['summary']['pairwise_comparisons']"
   ]
  },
  {
   "cell_type": "markdown",
   "id": "d9908869-fa5c-4e6e-839d-bacb33f9c666",
   "metadata": {},
   "source": [
    "### Plot the data and annotate the stats:"
   ]
  },
  {
   "cell_type": "markdown",
   "id": "5d3d6ff4-0e39-4501-a0c1-3769ddb22068",
   "metadata": {},
   "source": [
    "Using the `results` dictionary, we now have the option plot our data and annotate the results of the statistical analysis in one go."
   ]
  },
  {
   "cell_type": "code",
   "execution_count": null,
   "id": "7dd7a8a9-210f-4d2d-9e87-6b25628680d8",
   "metadata": {},
   "outputs": [],
   "source": [
    "from dcl_stats_n_plots import plots\n",
    "\n",
    "plots.plot_one_sample(df, plot_type = 'stripplot')"
   ]
  },
  {
   "cell_type": "markdown",
   "id": "2c3268de-7ce2-400a-bdaf-2a150f2c33a4",
   "metadata": {},
   "source": [
    "> Warning: The annotation of the statistical results via the API is not yet implemented. This is one of the next features that will be added within one of the following patch releases - if not *the* next."
   ]
  },
  {
   "cell_type": "markdown",
   "id": "960e166e-5c9c-45ee-b145-0feebd5ead50",
   "metadata": {},
   "source": [
    "### Customize the plot"
   ]
  },
  {
   "cell_type": "markdown",
   "id": "d328823a-b3cb-454f-9503-be91c115b869",
   "metadata": {},
   "source": [
    "You also have the chance to customize several features of the generated plot, simply by specifying the respective features in a dictionary and passing it along when you call the plotting function."
   ]
  },
  {
   "cell_type": "code",
   "execution_count": null,
   "id": "248e1e64-1705-4eae-b526-8c51907da1d2",
   "metadata": {},
   "outputs": [],
   "source": [
    "params = {'color_palette': {'group_a': 'forestgreen'},\n",
    "          'marker_size': 7,\n",
    "          'fig_width': 14,\n",
    "          'yaxis_scaling_mode': 'manual',\n",
    "          'yaxis_lower_lim_value': 0,\n",
    "          'yaxis_upper_lim_value': 100,\n",
    "          'yaxis_label_text': 'time spent in target half [%]',\n",
    "          'xaxis_label_text': ''}\n",
    "\n",
    "plots.plot_one_sample(df, plot_type = 'boxplot with stripplot overlay', params = params)"
   ]
  },
  {
   "cell_type": "markdown",
   "id": "8704d2ec-ca64-4ee8-86f5-e9808fe5cff0",
   "metadata": {},
   "source": [
    "## Mixed-Model ANOVA"
   ]
  },
  {
   "cell_type": "markdown",
   "id": "90a8aada-4955-4fb0-82a2-56607ae1d73c",
   "metadata": {},
   "source": [
    "> Warning: This function is currently only implemented in a parametric variant (there is no non-parametric equivalent available via pingouin). This affects only the group level statistics (main effects), while pairwise comparisons are again performed either using parametric or non-parametric tests, depending on the respective data."
   ]
  },
  {
   "cell_type": "markdown",
   "id": "cbca38d6-f34e-4508-9f5d-1c562a155eeb",
   "metadata": {},
   "source": [
    "### Representative experiment"
   ]
  },
  {
   "cell_type": "markdown",
   "id": "59cfaf6d-dc1b-43bb-af8f-8340b51d3a1c",
   "metadata": {},
   "source": [
    "> Note: will be added soon."
   ]
  },
  {
   "cell_type": "markdown",
   "id": "947e5631-85f3-4b3e-87a5-3bf3cdbc7270",
   "metadata": {},
   "source": [
    "### Expected input data format\n",
    "\n",
    "Now, for this analysis, things get a little bit more complicated. In total, your input data has to be structured in four columns (also have a look at the image below). First and second column are again, as for the other analyses, the columns that provide the data values (1st) and group assignment (2nd). The third column has to provide unique subject identifiers for each experimental subject. The values of the fourth column reflect the corresponding recording sessions (i.e. an identifier for each part of your experiment, in which one of the repeated measurements took place).\n",
    "\n",
    "In Microsoft Excel, this might look like the following:\n",
    "\n",
    "![mma_input_schema.png](https://raw.githubusercontent.com/DSegebarth/dcl_stats_n_plots/master/media/mma_input_schema.png)"
   ]
  },
  {
   "cell_type": "markdown",
   "id": "faaad2db-9caa-438f-bf64-dcba21bc48f6",
   "metadata": {},
   "source": [
    "### Compute the stats"
   ]
  },
  {
   "cell_type": "markdown",
   "id": "03b17c73-d186-4a6a-8890-d9097a957bd8",
   "metadata": {},
   "source": [
    "In order to perform the statistical analysis, simply pass the data in a correctly structured pandas DataFrame to the `mixed_model_ANOVA` function of the stats module. Please also check out the documentation there for more detailed information about what statistical tests are run."
   ]
  },
  {
   "cell_type": "code",
   "execution_count": null,
   "id": "046faa4e-10ac-48c3-9b45-5bdbc14d00ff",
   "metadata": {},
   "outputs": [],
   "source": [
    "import pandas as pd\n",
    "\n",
    "file_url = 'https://raw.githubusercontent.com/DSegebarth/dcl_stats_n_plots/master/test_data/mixed_model_anova_3groups.csv'\n",
    "\n",
    "df = pd.read_csv(file_url)\n",
    "df.head()"
   ]
  },
  {
   "cell_type": "markdown",
   "id": "bdf652ca-a0b5-4a6e-b211-116086a12a2e",
   "metadata": {},
   "source": [
    "Since this function is currently only implemented in a parametric variant, calling the function will prompt you with a warning about this if your data actually violate the pre-requisites for parametric testing."
   ]
  },
  {
   "cell_type": "code",
   "execution_count": null,
   "id": "6aa114e6-ef00-4d95-ab5f-6cf31dc15649",
   "metadata": {},
   "outputs": [],
   "source": [
    "from dcl_stats_n_plots import stats\n",
    "\n",
    "results = stats.mixed_model_ANOVA(df)"
   ]
  },
  {
   "cell_type": "markdown",
   "id": "b0013533-e6c5-4612-89bb-e238f0ee114d",
   "metadata": {},
   "source": [
    "To access the group level statistics of the Mixed-Model ANOVA:"
   ]
  },
  {
   "cell_type": "code",
   "execution_count": null,
   "id": "cc14e360-cce0-4446-b3f4-74c6c1ccba23",
   "metadata": {},
   "outputs": [],
   "source": [
    "results['summary']['group_level_statistic']"
   ]
  },
  {
   "cell_type": "markdown",
   "id": "81468fcc-f12a-45df-a07f-9a432529deb9",
   "metadata": {},
   "source": [
    "And to inspect the pairwise comparisons in detail:"
   ]
  },
  {
   "cell_type": "code",
   "execution_count": null,
   "id": "c6ad13bb-ec5d-4db9-9b4c-fea5f48f3f26",
   "metadata": {},
   "outputs": [],
   "source": [
    "results['summary']['pairwise_comparisons']"
   ]
  },
  {
   "cell_type": "markdown",
   "id": "02e62be3-e9d7-4731-b93d-8fa62c06fffc",
   "metadata": {},
   "source": [
    "> Note: Please note, that even though the data violated the pre-requisites for parametric testing on the group-level, they were again met for all pairwise comparisons and, thus, parametric testing was used in all these cases. "
   ]
  },
  {
   "cell_type": "markdown",
   "id": "81ca1c36-f69a-4475-b381-096b43951a48",
   "metadata": {},
   "source": [
    "### Plot the data and annotate the stats:"
   ]
  },
  {
   "cell_type": "markdown",
   "id": "7ac4f90e-b254-437f-ab0c-4ef13718bcca",
   "metadata": {},
   "source": [
    "Using the `results` dictionary, we now have the option plot our data and annotate the results of the statistical analysis in one go. The 'pointplot' option is good to visualize the progression over the course of the recorded sessions:"
   ]
  },
  {
   "cell_type": "code",
   "execution_count": null,
   "id": "c05e6071-2be6-427b-95d5-f0eac79156c9",
   "metadata": {},
   "outputs": [],
   "source": [
    "from dcl_stats_n_plots import plots\n",
    "\n",
    "plots.plot_mma(df, plot_type = 'pointplot')"
   ]
  },
  {
   "cell_type": "markdown",
   "id": "cbcc9a57-9c73-489f-b1dd-6ca5f22a371b",
   "metadata": {},
   "source": [
    "However, sometimes there may not be an immediate connection between the individual sessions (which is why the connecting lines should be avoided), or you simply want to show all individual data points, instead of the group mean with an error bar, like for the pointplot. For this, feel free to check out the other plotting options we implemented to visualize your Mixed-Model ANOVA data:"
   ]
  },
  {
   "cell_type": "code",
   "execution_count": null,
   "id": "37711310-3bae-4cd6-8381-ebbb995a9ff7",
   "metadata": {},
   "outputs": [],
   "source": [
    "plots.plot_mma(df, plot_type = 'boxplot with stripplot overlay')"
   ]
  },
  {
   "cell_type": "markdown",
   "id": "3399d902-208d-4941-902d-fd2a5ad8ea18",
   "metadata": {},
   "source": [
    "> Warning: The annotation of the statistical results via the API is not yet implemented. This is one of the next features that will be added within one of the following patch releases - if not *the* next."
   ]
  },
  {
   "cell_type": "markdown",
   "id": "325b18a1-44cc-4ad0-bf7d-bdb4cade7279",
   "metadata": {},
   "source": [
    "### Customize the plot"
   ]
  },
  {
   "cell_type": "markdown",
   "id": "598b9f97-4b06-4c4c-bb71-8174e75b8f01",
   "metadata": {},
   "source": [
    "You also have the chance to customize several features of the generated plot, simply by specifying the respective features in a dictionary and passing it along when you call the plotting function. For instance, you can also re-arrange the order of the x-axis labels or of the groups."
   ]
  },
  {
   "cell_type": "code",
   "execution_count": null,
   "id": "69a393f1-6c22-4d09-94c1-e96d6e394e4c",
   "metadata": {},
   "outputs": [],
   "source": [
    "params = {'l_xlabel_order': ['session_3', 'session_2', 'session_1', 'session_0'],\n",
    "          'l_hue_order': ['group_b', 'group_c', 'group_a'],\n",
    "          'color_palette': 'viridis'}\n",
    "\n",
    "plots.plot_mma(df, plot_type = 'violinplot with stripplot overlay', params = params)"
   ]
  },
  {
   "cell_type": "markdown",
   "id": "1c9dc45a-06fb-47f6-ba8a-b5d2c9d1cdd2",
   "metadata": {},
   "source": [
    "> Warning: To be continued..."
   ]
  }
 ],
 "metadata": {
  "kernelspec": {
   "display_name": "Python 3 (ipykernel)",
   "language": "python",
   "name": "python3"
  }
 },
 "nbformat": 4,
 "nbformat_minor": 5
}
