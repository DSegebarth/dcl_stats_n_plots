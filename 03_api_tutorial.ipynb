{
 "cells": [
  {
   "cell_type": "code",
   "execution_count": null,
   "id": "28835a20-394d-48fd-915e-1b8bda95490e",
   "metadata": {},
   "outputs": [],
   "source": [
    "# default_exp api_tutorial"
   ]
  },
  {
   "cell_type": "code",
   "execution_count": null,
   "id": "81ea011b-707d-4c3c-8597-6ece10678843",
   "metadata": {},
   "outputs": [],
   "source": [
    "#hide\n",
    "from nbdev.showdoc import *"
   ]
  },
  {
   "cell_type": "markdown",
   "id": "5a2b98a6-dd1e-4aeb-9291-869da9dcad98",
   "metadata": {},
   "source": [
    "# API tutorial\n",
    "\n",
    "> Turorial on how to interact with the dcl_stats_n_plots API"
   ]
  },
  {
   "cell_type": "code",
   "execution_count": null,
   "id": "1adae558-3dc0-4ab6-a547-d17ff227c788",
   "metadata": {},
   "outputs": [],
   "source": []
  }
 ],
 "metadata": {
  "kernelspec": {
   "display_name": "Python 3 (ipykernel)",
   "language": "python",
   "name": "python3"
  }
 },
 "nbformat": 4,
 "nbformat_minor": 5
}
