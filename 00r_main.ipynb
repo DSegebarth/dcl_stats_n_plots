{
 "cells": [
  {
   "cell_type": "code",
   "execution_count": null,
   "id": "261c69a3-8a8f-43ea-979d-321fef8e78b1",
   "metadata": {},
   "outputs": [],
   "source": [
    "# default_exp main"
   ]
  },
  {
   "cell_type": "code",
   "execution_count": null,
   "id": "61856817-0bef-4166-891a-1d8fb12c6250",
   "metadata": {},
   "outputs": [],
   "source": [
    "#hide\n",
    "from nbdev.showdoc import *"
   ]
  },
  {
   "cell_type": "markdown",
   "id": "4f1e0fec-3bde-4f29-ae44-9afac5ce6934",
   "metadata": {},
   "source": [
    "# main\n",
    "\n",
    "> This module represents the core of the `dcl_stats_n_plots` package."
   ]
  },
  {
   "cell_type": "code",
   "execution_count": null,
   "id": "ca644c3b-c117-4c4c-85a9-1879c8fedf45",
   "metadata": {},
   "outputs": [],
   "source": [
    "#export\n",
    "from typing import List, Tuple, Dict, Optional\n",
    "\n",
    "import pandas as pd\n",
    "from pathlib import Path\n",
    "\n",
    "from dcl_stats_n_plots.database import Database, Configs\n",
    "from dcl_stats_n_plots.stats import StatisticalTest\n",
    "from dcl_stats_n_plots.plots import Plot"
   ]
  },
  {
   "cell_type": "code",
   "execution_count": null,
   "id": "40b24c54-1f60-487b-828d-e263a48b2131",
   "metadata": {},
   "outputs": [],
   "source": [
    "# export\n",
    "class Session:\n",
    "    \n",
    "    def __init__(self) -> None:\n",
    "        self.database = Database()\n",
    "\n",
    "    \n",
    "    def upload_new_data(self, filepath: Path) -> None:\n",
    "        if filepath.name.endswith('.xlsx'):\n",
    "            setattr(self.database, 'data', pd.read_excel(filepath))\n",
    "            self.check_for_validity_of_data()\n",
    "        elif filepath.name.endswith('.csv'):\n",
    "            setattr(self.database, 'data', pd.read_csv(filepath))\n",
    "            self.check_for_validity_of_data()\n",
    "        else:\n",
    "            raise ValueError(f'The path you provided ({filepath}) does not correspond to a \".csv\" or \".xslx\" file!')\n",
    "\n",
    "\n",
    "    def check_for_validity_of_data(self):\n",
    "        # check if self.database.data matches required criteria\n",
    "        pass\n",
    "    \n",
    "    def calculate_stats(self, statistical_test: StatisticalTest, show: bool=True, save: bool=False) -> None:\n",
    "        self.database = statistical_test().compute(database = self.database, show = show, save = save)\n",
    "        \n",
    "    \n",
    "    def create_plot(self, plot_type: PlotType, show: bool=True, save: bool=False) -> None:\n",
    "        self.plot = plot_type()\n",
    "        self.plot.plot_data(configs = self.configs, show = show, save = save)\n",
    "        \n",
    "    \n",
    "    def export_configs(self) -> None:\n",
    "        self.configs.export_configs_to_file(filepath = filepath)\n",
    "        \n",
    "    \n",
    "    def load_configs(self, filepath: Path) -> None:\n",
    "        self.configs.load_configs_from_file(filepath = filepath)   "
   ]
  }
 ],
 "metadata": {
  "kernelspec": {
   "display_name": "Python 3 (ipykernel)",
   "language": "python",
   "name": "python3"
  }
 },
 "nbformat": 4,
 "nbformat_minor": 5
}
