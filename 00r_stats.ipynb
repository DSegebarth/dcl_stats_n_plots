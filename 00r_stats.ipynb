{
 "cells": [
  {
   "cell_type": "code",
   "execution_count": null,
   "id": "1dab0f57-f522-45af-ba3b-f950429887ae",
   "metadata": {},
   "outputs": [],
   "source": [
    "from typing import Tuple, Dict, List, Optional, Union\n",
    "from abc import ABC, abstractmethod\n",
    "\n",
    "import pandas as pd\n"
   ]
  },
  {
   "cell_type": "code",
   "execution_count": null,
   "id": "978e1f58-c598-496c-86b1-715f842faf04",
   "metadata": {},
   "outputs": [],
   "source": [
    "class StatisticalTest(ABC):\n",
    "\n",
    "    @property\n",
    "    @abstractmethod\n",
    "    def name_displayed_in_gui(self):\n",
    "        pass\n",
    "    \n",
    "    \n",
    "    @abstractmethod\n",
    "    def calculate_stats(self, data: pd.DataFrame, configs: Configs, show: bool, save: bool) -> None:\n",
    "        pass"
   ]
  },
  {
   "cell_type": "code",
   "execution_count": null,
   "id": "fa2924cb-db6f-4368-b58a-8249c72d396f",
   "metadata": {},
   "outputs": [],
   "source": [
    "class OneSample(StatisticalTest):\n",
    "    \n",
    "    @property\n",
    "    def name_displayed_in_gui(self):\n",
    "        return 'Comparison of values from one sample to a reference value'\n",
    "    \n",
    "    \n",
    "    def calculate_stats(self, database: Database, show: bool, save: bool) -> None:\n",
    "        df = data.copy()\n",
    "        \n",
    "        "
   ]
  },
  {
   "cell_type": "code",
   "execution_count": null,
   "id": "a3b88625-5845-405b-b00a-f1f891570ce8",
   "metadata": {},
   "outputs": [],
   "source": [
    "def one_sample(df):\n",
    "    data_col = df.columns[0]\n",
    "    group_col = df.columns[1]\n",
    "    fixed_val_col = df.columns[2]\n",
    "    fixed_value = df[fixed_val_col].values[0]\n",
    "    l_groups = list(df[group_col].unique())\n",
    "\n",
    "    d_results = {'data_col': data_col,\n",
    "                 'group_col': group_col,\n",
    "                 'fixed_val_col': fixed_val_col,\n",
    "                 'fixed_value': fixed_value,\n",
    "                 'l_groups': l_groups}\n",
    "\n",
    "    group_id = l_groups[0]\n",
    "    d_results[group_id] = {'data': df.loc[df[group_col] == group_id, data_col].values,\n",
    "                        'normality_full': pg.normality(df.loc[df[group_col] == group_id, data_col].values),\n",
    "                        'normality_bool': pg.normality(df.loc[df[group_col] == group_id, data_col].values)['normal'][0]}\n",
    "    parametric = d_results[group_id]['normality_bool']\n",
    "\n",
    "    d_results['summary'] = {'normality_full': pg.normality(df.loc[df[group_col] == group_id, data_col].values),\n",
    "                         'normality_bool': pg.normality(df.loc[df[group_col] == group_id, data_col].values)['normal'][0]}\n",
    "\n",
    "    if parametric == True:\n",
    "        d_results['summary']['pairwise_comparisons'] = pg.ttest(df[data_col].values, fixed_value)\n",
    "        performed_test = 'one sample t-test'\n",
    "    else:\n",
    "        d_results['summary']['pairwise_comparisons'] = pg.wilcoxon(df[data_col].values - fixed_value, correction='auto')\n",
    "        performed_test = 'one sample wilcoxon rank-sum test'\n",
    "\n",
    "    d_results['performed_test'] = performed_test\n",
    "\n",
    "    return d_results"
   ]
  }
 ],
 "metadata": {
  "kernelspec": {
   "display_name": "Python 3 (ipykernel)",
   "language": "python",
   "name": "python3"
  }
 },
 "nbformat": 4,
 "nbformat_minor": 5
}
