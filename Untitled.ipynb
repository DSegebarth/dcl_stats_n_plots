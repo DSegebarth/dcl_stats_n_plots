{
 "cells": [
  {
   "cell_type": "code",
   "execution_count": null,
   "id": "5ad9cfc7-8d0f-4c80-8669-98cb8007648e",
   "metadata": {},
   "outputs": [
    {
     "name": "stderr",
     "output_type": "stream",
     "text": [
      "/home/ds/anaconda3/envs/DCLwidgets_clone/lib/python3.7/site-packages/outdated/utils.py:18: OutdatedPackageWarning: The package pingouin is out of date. Your version is 0.5.0, the latest is 0.5.1.\n",
      "Set the environment variable OUTDATED_IGNORE=1 to disable these warnings.\n",
      "  **kwargs\n"
     ]
    }
   ],
   "source": [
    "from pathlib import Path\n",
    "\n",
    "from dcl_stats_n_plots.main_refactored import Session"
   ]
  },
  {
   "cell_type": "code",
   "execution_count": null,
   "id": "5c339a10-e2bc-4a5d-b29b-01fc04936aa0",
   "metadata": {},
   "outputs": [],
   "source": [
    "session = Session()"
   ]
  },
  {
   "cell_type": "code",
   "execution_count": null,
   "id": "597b5054-054b-4406-ac63-cf3c17064f8f",
   "metadata": {},
   "outputs": [],
   "source": [
    "session.upload_new_data(filepath = Path('/mnt/c/Users/dsege/TEMP/dcl_snp/one_sample_significant.csv'))"
   ]
  },
  {
   "cell_type": "code",
   "execution_count": null,
   "id": "bf1f8966-84ce-4f89-ab08-f1e123d3cfc6",
   "metadata": {},
   "outputs": [],
   "source": [
    "from dcl_stats_n_plots.stats_refactored import OneSampleStats"
   ]
  },
  {
   "cell_type": "code",
   "execution_count": null,
   "id": "6d715da8-2b94-4044-b613-67584a44296d",
   "metadata": {},
   "outputs": [],
   "source": [
    "session.calculate_stats(statistical_test = OneSampleStats)"
   ]
  },
  {
   "cell_type": "code",
   "execution_count": null,
   "id": "90216a98-546c-428d-8aad-9794b7281436",
   "metadata": {},
   "outputs": [],
   "source": [
    "session.database.configs.plot_type = 'stripplot'\n",
    "session.database.configs.l_xlabel_order = list(session.database.data.iloc[:, 1].unique())"
   ]
  },
  {
   "cell_type": "code",
   "execution_count": null,
   "id": "809aaa16-580e-4109-bfd0-42c8480708d5",
   "metadata": {},
   "outputs": [],
   "source": [
    "session.database.configs.l_stats_to_annotate = [8]"
   ]
  },
  {
   "cell_type": "code",
   "execution_count": null,
   "id": "f2bc9481-cda0-4f6b-8096-004fb179dd32",
   "metadata": {},
   "outputs": [
    {
     "data": {
      "image/png": "[encoded data removed]",
      "text/plain": [
       "<Figure size 793.701x453.543 with 1 Axes>"
      ]
     },
     "metadata": {},
     "output_type": "display_data"
    }
   ],
   "source": [
    "session.create_plot()"
   ]
  },
  {
   "cell_type": "code",
   "execution_count": null,
   "id": "8fb84592-fa1c-4165-bca1-b2bbdfaf25ef",
   "metadata": {},
   "outputs": [
    {
     "data": {
      "text/plain": [
       "1"
      ]
     },
     "execution_count": null,
     "metadata": {},
     "output_type": "execute_result"
    }
   ],
   "source": [
    "row_wise_differences_excluding_first.unique().shape[0]"
   ]
  },
  {
   "cell_type": "code",
   "execution_count": null,
   "id": "e427c6e4-74b1-4c2c-8271-d3ac904934ac",
   "metadata": {},
   "outputs": [],
   "source": [
    "row_wise_differences_excluding_first = df['Unnamed: 0'].diff(1)[1:]\n",
    "if (row_wise_differences_excluding_first.unique().shape[0] == 1) and (row_wise_differences_excluding_first.unique()[0] == 1):\n",
    "    df = df.drop('Unnamed: 0', axis = 1)"
   ]
  },
  {
   "cell_type": "code",
   "execution_count": null,
   "id": "74d4239c-e22c-4fa6-82f4-246bdb60b27d",
   "metadata": {},
   "outputs": [
    {
     "data": {
      "text/html": [
       "<div>\n",
       "<style scoped>\n",
       "    .dataframe tbody tr th:only-of-type {\n",
       "        vertical-align: middle;\n",
       "    }\n",
       "\n",
       "    .dataframe tbody tr th {\n",
       "        vertical-align: top;\n",
       "    }\n",
       "\n",
       "    .dataframe thead th {\n",
       "        text-align: right;\n",
       "    }\n",
       "</style>\n",
       "<table border=\"1\" class=\"dataframe\">\n",
       "  <thead>\n",
       "    <tr style=\"text-align: right;\">\n",
       "      <th></th>\n",
       "      <th>data</th>\n",
       "      <th>group_id</th>\n",
       "      <th>50_percent</th>\n",
       "    </tr>\n",
       "  </thead>\n",
       "  <tbody>\n",
       "    <tr>\n",
       "      <th>0</th>\n",
       "      <td>20.803300</td>\n",
       "      <td>group_a</td>\n",
       "      <td>50.0</td>\n",
       "    </tr>\n",
       "    <tr>\n",
       "      <th>1</th>\n",
       "      <td>38.016262</td>\n",
       "      <td>group_a</td>\n",
       "      <td>NaN</td>\n",
       "    </tr>\n",
       "    <tr>\n",
       "      <th>2</th>\n",
       "      <td>49.724380</td>\n",
       "      <td>group_a</td>\n",
       "      <td>NaN</td>\n",
       "    </tr>\n",
       "    <tr>\n",
       "      <th>3</th>\n",
       "      <td>35.418847</td>\n",
       "      <td>group_a</td>\n",
       "      <td>NaN</td>\n",
       "    </tr>\n",
       "    <tr>\n",
       "      <th>4</th>\n",
       "      <td>36.050618</td>\n",
       "      <td>group_a</td>\n",
       "      <td>NaN</td>\n",
       "    </tr>\n",
       "    <tr>\n",
       "      <th>5</th>\n",
       "      <td>43.497907</td>\n",
       "      <td>group_a</td>\n",
       "      <td>NaN</td>\n",
       "    </tr>\n",
       "    <tr>\n",
       "      <th>6</th>\n",
       "      <td>4.230532</td>\n",
       "      <td>group_a</td>\n",
       "      <td>NaN</td>\n",
       "    </tr>\n",
       "    <tr>\n",
       "      <th>7</th>\n",
       "      <td>58.013666</td>\n",
       "      <td>group_a</td>\n",
       "      <td>NaN</td>\n",
       "    </tr>\n",
       "    <tr>\n",
       "      <th>8</th>\n",
       "      <td>22.610381</td>\n",
       "      <td>group_a</td>\n",
       "      <td>NaN</td>\n",
       "    </tr>\n",
       "    <tr>\n",
       "      <th>9</th>\n",
       "      <td>52.170157</td>\n",
       "      <td>group_a</td>\n",
       "      <td>NaN</td>\n",
       "    </tr>\n",
       "  </tbody>\n",
       "</table>\n",
       "</div>"
      ],
      "text/plain": [
       "        data group_id  50_percent\n",
       "0  20.803300  group_a        50.0\n",
       "1  38.016262  group_a         NaN\n",
       "2  49.724380  group_a         NaN\n",
       "3  35.418847  group_a         NaN\n",
       "4  36.050618  group_a         NaN\n",
       "5  43.497907  group_a         NaN\n",
       "6   4.230532  group_a         NaN\n",
       "7  58.013666  group_a         NaN\n",
       "8  22.610381  group_a         NaN\n",
       "9  52.170157  group_a         NaN"
      ]
     },
     "execution_count": null,
     "metadata": {},
     "output_type": "execute_result"
    }
   ],
   "source": [
    "df"
   ]
  },
  {
   "cell_type": "code",
   "execution_count": null,
   "id": "68b9d2e2-237b-4a3d-a287-545b4bf4be2b",
   "metadata": {},
   "outputs": [],
   "source": []
  }
 ],
 "metadata": {
  "kernelspec": {
   "display_name": "Python 3 (ipykernel)",
   "language": "python",
   "name": "python3"
  }
 },
 "nbformat": 4,
 "nbformat_minor": 5
}
