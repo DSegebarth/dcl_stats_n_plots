{
 "cells": [
  {
   "cell_type": "code",
   "execution_count": null,
   "id": "c635d1fb-8fda-4188-ba7e-ceba8c13ad25",
   "metadata": {},
   "outputs": [],
   "source": [
    "# default_exp downloads\n"
   ]
  },
  {
   "cell_type": "code",
   "execution_count": null,
   "id": "1f7ce2b9-350d-42dd-ae34-211bb9ee8945",
   "metadata": {},
   "outputs": [],
   "source": [
    "#hide\n",
    "from nbdev.showdoc import *"
   ]
  },
  {
   "cell_type": "markdown",
   "id": "3998b66d-a17a-4a08-be68-c9aa668f1fee",
   "metadata": {},
   "source": [
    "# downloads\n",
    "\n",
    "> This module contains all functions to write the results of the statistical analysis and/or the plot to disk."
   ]
  },
  {
   "cell_type": "code",
   "execution_count": null,
   "id": "f4f04ad6-bc2e-49bc-974f-0fdf3c836fc7",
   "metadata": {},
   "outputs": [],
   "source": []
  }
 ],
 "metadata": {
  "kernelspec": {
   "display_name": "Python 3 (ipykernel)",
   "language": "python",
   "name": "python3"
  }
 },
 "nbformat": 4,
 "nbformat_minor": 5
}
