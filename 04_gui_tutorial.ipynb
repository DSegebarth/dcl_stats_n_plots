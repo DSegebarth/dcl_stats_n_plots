{
 "cells": [
  {
   "cell_type": "code",
   "execution_count": null,
   "id": "c635d1fb-8fda-4188-ba7e-ceba8c13ad25",
   "metadata": {},
   "outputs": [],
   "source": [
    "# default_exp gui_tutorial\n"
   ]
  },
  {
   "cell_type": "code",
   "execution_count": null,
   "id": "1f7ce2b9-350d-42dd-ae34-211bb9ee8945",
   "metadata": {},
   "outputs": [],
   "source": [
    "#hide\n",
    "from nbdev.showdoc import *"
   ]
  },
  {
   "cell_type": "markdown",
   "id": "3998b66d-a17a-4a08-be68-c9aa668f1fee",
   "metadata": {},
   "source": [
    "# gui_tutorial\n",
    "\n",
    "> This module contains a tutorial of how to use dcl_stats_n_plots as GUI"
   ]
  },
  {
   "cell_type": "markdown",
   "id": "5ef0e16c-4e0e-48ab-a4af-d79e2f63b9ca",
   "metadata": {},
   "source": [
    "This tutorial is designed for users with little to no coding expertise or who are not familiar with the use of Jupyter Notebooks. More experienced users can also have a look at the api_tutorial on how to use the API."
   ]
  },
  {
   "cell_type": "markdown",
   "id": "27af8db5-33ce-415d-b899-1fd7780ca367",
   "metadata": {},
   "source": [
    "## Getting started"
   ]
  },
  {
   "cell_type": "markdown",
   "id": "93fafe9d-c0a8-4c77-aaba-7456b361c3f6",
   "metadata": {},
   "source": [
    "### Install"
   ]
  },
  {
   "cell_type": "markdown",
   "id": "f0efb4f3-23ca-4211-89b8-0066cb4278b6",
   "metadata": {},
   "source": [
    "asdf"
   ]
  },
  {
   "cell_type": "markdown",
   "id": "ab8cf7f1-9dd1-4de8-bcfa-3d1c0f0a35b8",
   "metadata": {},
   "source": [
    "### Install 2"
   ]
  },
  {
   "cell_type": "markdown",
   "id": "91e42007-50ee-4968-8f06-7d4a6afa464d",
   "metadata": {},
   "source": [
    "asdfasdf"
   ]
  },
  {
   "cell_type": "markdown",
   "id": "62b30da5-77c1-4cf1-aa46-759e13cc60d7",
   "metadata": {},
   "source": [
    "## Launch the GUI"
   ]
  },
  {
   "cell_type": "markdown",
   "id": "11c2bbb1-6b62-4577-8f10-996501067382",
   "metadata": {},
   "source": [
    "run 'lalala'"
   ]
  },
  {
   "cell_type": "markdown",
   "id": "273e0232-2c7d-48c7-965a-0f2cff08fbda",
   "metadata": {},
   "source": [
    "aösdlj"
   ]
  },
  {
   "cell_type": "code",
   "execution_count": null,
   "id": "26ef6329-46b7-4f0b-a402-c91260702915",
   "metadata": {},
   "outputs": [],
   "source": []
  }
 ],
 "metadata": {
  "kernelspec": {
   "display_name": "Python 3 (ipykernel)",
   "language": "python",
   "name": "python3"
  }
 },
 "nbformat": 4,
 "nbformat_minor": 5
}
