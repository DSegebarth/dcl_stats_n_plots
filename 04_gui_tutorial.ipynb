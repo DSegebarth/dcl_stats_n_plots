{
 "cells": [
  {
   "cell_type": "code",
   "execution_count": null,
   "id": "c635d1fb-8fda-4188-ba7e-ceba8c13ad25",
   "metadata": {},
   "outputs": [],
   "source": [
    "# default_exp gui_tutorial\n"
   ]
  },
  {
   "cell_type": "code",
   "execution_count": null,
   "id": "1f7ce2b9-350d-42dd-ae34-211bb9ee8945",
   "metadata": {},
   "outputs": [],
   "source": [
    "#hide\n",
    "from nbdev.showdoc import *"
   ]
  },
  {
   "cell_type": "markdown",
   "id": "3998b66d-a17a-4a08-be68-c9aa668f1fee",
   "metadata": {},
   "source": [
    "# gui_tutorial\n",
    "\n",
    "> This module contains a tutorial of how to use dcl_stats_n_plots as GUI"
   ]
  },
  {
   "cell_type": "markdown",
   "id": "5ef0e16c-4e0e-48ab-a4af-d79e2f63b9ca",
   "metadata": {},
   "source": [
    "This tutorial is designed for users with little to no coding expertise or who are not familiar with the use of Jupyter Notebooks. More experienced users can also have a look at the [API tutorial](https://dsegebarth.github.io/dcl_stats_n_plots/api_tutorial.html) on how to use the API."
   ]
  },
  {
   "cell_type": "markdown",
   "id": "1e13db21-b2e7-45ea-b9da-f69bb90ea97f",
   "metadata": {},
   "source": [
    "## Overview"
   ]
  },
  {
   "cell_type": "markdown",
   "id": "ee3cfab6-c787-46be-9aa9-020b6f23fa11",
   "metadata": {},
   "source": [
    "If you are new to python and/or the jupyter interface and want a more detailed guide on how to use the dcl_stats_n_plot GUI, this tutorial is for you.\n",
    "\n",
    "At first, please have a look at our [installation guide](https://dsegebarth.github.io/dcl_stats_n_plots/#Install). It will take you through the entire process of setting up your computer in the right way so that you can use our interactive GUI - no worries, there is absolutely no programming expertise needed.\n",
    "\n",
    "Once you successfully completed the [installation guide](https://dsegebarth.github.io/dcl_stats_n_plots/#Install), please make sure the data you would like to analyze and plot does actually follow the correct format. For this, you will find a \"Expected input data format\" section for each type of analysis that can be done with dcl_stats_n_plots. We also provide examples of typical experiments for which the respective types of analyses are commonly used and provide GIFs to showcase the usage of the dcl_stats_n_plots GUI for each type of analysis. Currently, these implemented analyses are:\n",
    "\n",
    "1. Comparison of two or more independent samples\n",
    "2. Comparison of one group to a reference value\n",
    "3. Mixed-Model ANOVA (comparison of two or more groups with repeated measures)"
   ]
  },
  {
   "cell_type": "markdown",
   "id": "95e0460d-2848-4080-b54d-91bc98bbdea3",
   "metadata": {},
   "source": [
    "## Comparison of two or more independent samples"
   ]
  },
  {
   "cell_type": "markdown",
   "id": "2bfe843a-2df9-44c9-ac4f-adf0dbea6583",
   "metadata": {},
   "source": [
    "### Representative experiment"
   ]
  },
  {
   "cell_type": "markdown",
   "id": "8023fed5-1ca8-4402-8fdd-20d458dafdc0",
   "metadata": {},
   "source": [
    "The comparison of two or more independent samples is probably one of the most frequently performed analyses in the lab. You can use this type of analysis if you:\n",
    "\n",
    "- have multiple experimental subjects (>3) \n",
    "- that belong to at least two different groups\n",
    "- and the given experiment is perfomed only once with each experimental subject (no repeated measurements)\n",
    "\n",
    "For instance, if you recorded a single open field session of each mouse in a experimental cohort of 36 mice, which represent three different genotypes (12 homozygous transgenic mice \\[tg/tg\\], 12 heterozygous transgenic mice \\[tg/+\\], and 12 wildtype mice \\[+/+\\]). After you analyzed the videos, you now want to test for significant differences in the time the mice spent in the center of the open field - based on their genotype."
   ]
  },
  {
   "cell_type": "markdown",
   "id": "dcac0e48-def9-465c-9cbb-249c1a97cb1a",
   "metadata": {},
   "source": [
    "> Note: Equal samples sizes per group is ideal, yet no prerequisite for this analysis."
   ]
  },
  {
   "cell_type": "markdown",
   "id": "c2b1f470-dc35-47af-bc35-b2d86be7926c",
   "metadata": {},
   "source": [
    "### Expected input data format\n",
    "\n",
    "For this analysis, you only have to provide two columns. The first one that contains the actual data values, and the second column that specifies to which group the respective data value belongs. In Microsoft Excel, this might look like the following:"
   ]
  },
  {
   "cell_type": "markdown",
   "id": "8fa9906c-bd98-4cee-b645-e39af034ddcb",
   "metadata": {},
   "source": [
    "![independent_samples_input_schema.png](https://raw.githubusercontent.com/DSegebarth/dcl_stats_n_plots/master/media/independent_samples_input_schema.png)"
   ]
  },
  {
   "cell_type": "markdown",
   "id": "c2aa574f-82bd-4bee-b9c6-ef87e0d0442c",
   "metadata": {},
   "source": [
    "Where the first two data values belong to the group called \"group_a\", the third and fourth to a second group called \"group_b\", and the sixth and seventh value belong to a third group called \"group_c\". You probably got the idea ;-)\n",
    "\n",
    "You are entirely free to choose any column names (for instance \"time spent in center \\[s\\]\" instead of \"data\", or \"genotype\" instead of \"group_id\") and also to provide your favorite group names (e.g. \"+/+\" instead of \"group_a\" and \"tg/+\" for \"group_b\"). \n",
    "\n",
    "> Note: The column name of your data column will be used as the default y-axis label, but you will still be able to modify that on demand.\n",
    "\n",
    "> Note: The order of appearance of the groups in the group column (top to bottom) will be used as the default x-axis order, but you will still be able to modify that on demand."
   ]
  },
  {
   "cell_type": "markdown",
   "id": "62b30da5-77c1-4cf1-aa46-759e13cc60d7",
   "metadata": {},
   "source": [
    "### Perform the analysis of independent samples using our GUI:"
   ]
  },
  {
   "cell_type": "markdown",
   "id": "11c2bbb1-6b62-4577-8f10-996501067382",
   "metadata": {},
   "source": [
    "For this showcase, we have used a dummy dataset, which is freely available via our GitHub repository (click here to download the csv file) and can be used until you have your own input data to analyze. Below the animated GIF, you will find the code to launch the GUI. Simply copy-paste it into a Code cell of a Jupyter Notebook and run the cell."
   ]
  },
  {
   "cell_type": "markdown",
   "id": "e85c5f40-a916-468f-a537-44ed2156e5ee",
   "metadata": {},
   "source": [
    "Gif here"
   ]
  },
  {
   "cell_type": "code",
   "execution_count": null,
   "id": "26ef6329-46b7-4f0b-a402-c91260702915",
   "metadata": {},
   "outputs": [
    {
     "data": {
      "application/vnd.jupyter.widget-view+json": {
       "model_id": "5e9d053792b84208a7363bb90dff14b0",
       "version_major": 2,
       "version_minor": 0
      },
      "text/plain": [
       "VBox(children=(FileUpload(value={}, accept='.xlsx, .csv', description='Upload'), HBox(children=(Dropdown(descr…"
      ]
     },
     "metadata": {},
     "output_type": "display_data"
    }
   ],
   "source": [
    "#hide_output\n",
    "from dcl_stats_n_plots import gui\n",
    "\n",
    "gui.launch()"
   ]
  },
  {
   "cell_type": "markdown",
   "id": "97e313e9-258c-46b7-ada9-2d0638953aad",
   "metadata": {},
   "source": [
    "## Comparison of a single group to a fixed value"
   ]
  },
  {
   "cell_type": "markdown",
   "id": "fe3b5e54-d177-41f4-ae68-343eab0e22ce",
   "metadata": {},
   "source": [
    "### Representative experiment"
   ]
  },
  {
   "cell_type": "markdown",
   "id": "c32db4db-3926-425f-a5a9-9ea10f79f0d1",
   "metadata": {},
   "source": [
    "> Note: will be added soon."
   ]
  },
  {
   "cell_type": "markdown",
   "id": "ee6d748b-13d1-4a24-b538-9f6725f6b139",
   "metadata": {},
   "source": [
    "### Expected input data format\n",
    "\n",
    "For this analysis, you have to provide three columns. The first column must contain the data, the second column provides the corresponding group_id (see note below the image), and the third column provides the fixed value against which the group shall be compared.\n",
    "\n",
    "In Microsoft Excel, this might look like the following:\n",
    "\n",
    "![one_sample_input_schema.png](https://raw.githubusercontent.com/DSegebarth/dcl_stats_n_plots/master/media/one_sample_input_schema.png)"
   ]
  },
  {
   "cell_type": "markdown",
   "id": "0775f84d-7ddf-4e00-904a-9490a913a484",
   "metadata": {},
   "source": [
    "> Note: Of course, the second column ('group column') will only contain one group_id, since this is a _one sample_ analysis. However, keeping the expected input data structure consistent across functions (data, group, ..) is supposed to make the use of dcl_stats_n_plots a little easier for the user. On top, it allows the user to provide the x-axis-label (= group column header) and the corresponding x-axis-tick-label (= the group_id that is provided in the group column)."
   ]
  },
  {
   "cell_type": "markdown",
   "id": "e7ac9a09-27b6-45c4-ac85-6a7e6588196a",
   "metadata": {},
   "source": [
    "### Perform the analysis of one sample using our GUI:"
   ]
  },
  {
   "cell_type": "markdown",
   "id": "d902a203-21b1-4f0d-bd04-fc96e3d00a41",
   "metadata": {},
   "source": [
    "For this showcase, we have used a dummy dataset, which is freely available via our GitHub repository (click here to download the csv file) and can be used until you have your own input data to analyze. Below the animated GIF, you will find the code to launch the GUI. Simply copy-paste it into a Code cell of a Jupyter Notebook and run the cell."
   ]
  },
  {
   "cell_type": "markdown",
   "id": "0d736610-56de-45a2-bc42-9a1399a5eebe",
   "metadata": {},
   "source": [
    "Gif here"
   ]
  },
  {
   "cell_type": "code",
   "execution_count": null,
   "id": "913c1465-70c6-4b57-a6df-543d29a5887d",
   "metadata": {},
   "outputs": [
    {
     "data": {
      "application/vnd.jupyter.widget-view+json": {
       "model_id": "5e9d053792b84208a7363bb90dff14b0",
       "version_major": 2,
       "version_minor": 0
      },
      "text/plain": [
       "VBox(children=(FileUpload(value={}, accept='.xlsx, .csv', description='Upload'), HBox(children=(Dropdown(descr…"
      ]
     },
     "metadata": {},
     "output_type": "display_data"
    }
   ],
   "source": [
    "#hide_output\n",
    "from dcl_stats_n_plots import gui\n",
    "\n",
    "gui.launch()"
   ]
  },
  {
   "cell_type": "markdown",
   "id": "2f3a92b4-f9ae-43cc-a3f7-939ea50dc6f8",
   "metadata": {},
   "source": [
    "## Mixed-Model ANOVA"
   ]
  },
  {
   "cell_type": "markdown",
   "id": "2182c7ef-dec2-4759-b7b0-d3250552f5ed",
   "metadata": {},
   "source": [
    "> Warning: This function is currently only implemented in a parametric variant (there is no non-parametric equivalent available via pingouin). This affects only the group level statistics (main effects), while pairwise comparisons are again performed either using parametric or non-parametric tests, depending on the respective data."
   ]
  },
  {
   "cell_type": "markdown",
   "id": "e0cb1ce9-3a7b-44c4-b35f-c9c966d9c0a2",
   "metadata": {},
   "source": [
    "### Representative experiment"
   ]
  },
  {
   "cell_type": "markdown",
   "id": "eb6a2f7c-a086-4039-b8ac-cbb39a031a5a",
   "metadata": {},
   "source": [
    "> Note: will be added soon."
   ]
  },
  {
   "cell_type": "markdown",
   "id": "382a21a4-57fa-4872-9b98-d700f4d65a16",
   "metadata": {},
   "source": [
    "### Expected input data format\n",
    "\n",
    "Now, for this analysis, things get a little bit more complicated. In total, your input data has to be structured in four columns (also have a look at the image below). First and second column are again, as for the other analyses, the columns that provide the data values (1st) and group assignment (2nd). The third column has to provide unique subject identifiers for each experimental subject. The values of the fourth column reflect the corresponding recording sessions (i.e. an identifier for each part of your experiment, in which one of the repeated measurements took place).\n",
    "\n",
    "In Microsoft Excel, this might look like the following:\n",
    "\n",
    "![mma_input_schema.png](https://raw.githubusercontent.com/DSegebarth/dcl_stats_n_plots/master/media/mma_input_schema.png)"
   ]
  },
  {
   "cell_type": "markdown",
   "id": "8eb4ee44-ce28-4298-a0eb-977f867eea09",
   "metadata": {},
   "source": [
    "### Perform a Mixed-Model ANOVA using our GUI:"
   ]
  },
  {
   "cell_type": "markdown",
   "id": "d4a54832-b9f2-47d1-95be-f9be021891ef",
   "metadata": {},
   "source": [
    "For this showcase, we have used a dummy dataset, which is freely available via our GitHub repository (click here to download the csv file) and can be used until you have your own input data to analyze. Below the animated GIF, you will find the code to launch the GUI. Simply copy-paste it into a Code cell of a Jupyter Notebook and run the cell."
   ]
  },
  {
   "cell_type": "markdown",
   "id": "40b16a88-b014-403e-9aa2-a91852d56db0",
   "metadata": {},
   "source": [
    "Gif here"
   ]
  },
  {
   "cell_type": "code",
   "execution_count": null,
   "id": "57f3d63e-a06b-47bf-8f33-2aabc231092e",
   "metadata": {},
   "outputs": [
    {
     "data": {
      "application/vnd.jupyter.widget-view+json": {
       "model_id": "5e9d053792b84208a7363bb90dff14b0",
       "version_major": 2,
       "version_minor": 0
      },
      "text/plain": [
       "VBox(children=(FileUpload(value={}, accept='.xlsx, .csv', description='Upload'), HBox(children=(Dropdown(descr…"
      ]
     },
     "metadata": {},
     "output_type": "display_data"
    }
   ],
   "source": [
    "#hide_output\n",
    "from dcl_stats_n_plots import gui\n",
    "\n",
    "gui.launch()"
   ]
  }
 ],
 "metadata": {
  "kernelspec": {
   "display_name": "Python 3 (ipykernel)",
   "language": "python",
   "name": "python3"
  }
 },
 "nbformat": 4,
 "nbformat_minor": 5
}
