{
 "cells": [
  {
   "cell_type": "code",
   "execution_count": null,
   "id": "75a32507-8142-4605-a1c0-ed63cea67ade",
   "metadata": {},
   "outputs": [],
   "source": [
    "# default_exp annotations"
   ]
  },
  {
   "cell_type": "code",
   "execution_count": null,
   "id": "7fd28ead-d355-40fa-9941-8a865c144d3c",
   "metadata": {},
   "outputs": [],
   "source": [
    "#hide\n",
    "from nbdev.showdoc import *"
   ]
  },
  {
   "cell_type": "markdown",
   "id": "436ddea7-1407-4f9d-ae90-431654855eaa",
   "metadata": {},
   "source": [
    "# annotations\n",
    "\n",
    "> This module contains all functions to annotate the statistics in the generated plots."
   ]
  },
  {
   "cell_type": "code",
   "execution_count": null,
   "id": "d9a0af9a-bb7b-477e-9f70-1b836cc8e52f",
   "metadata": {},
   "outputs": [],
   "source": []
  }
 ],
 "metadata": {
  "kernelspec": {
   "display_name": "Python 3 (ipykernel)",
   "language": "python",
   "name": "python3"
  }
 },
 "nbformat": 4,
 "nbformat_minor": 5
}
