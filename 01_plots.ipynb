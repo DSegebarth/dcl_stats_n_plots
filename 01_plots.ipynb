{
 "cells": [
  {
   "cell_type": "code",
   "execution_count": null,
   "id": "f35fa96b-8d01-405c-aeae-ee65e787503c",
   "metadata": {},
   "outputs": [],
   "source": [
    "# default_exp plots"
   ]
  },
  {
   "cell_type": "code",
   "execution_count": null,
   "id": "9947376a-934f-4d45-82fe-a05a20558325",
   "metadata": {},
   "outputs": [],
   "source": [
    "#hide\n",
    "from nbdev.showdoc import *"
   ]
  },
  {
   "cell_type": "markdown",
   "id": "509c90c1-0f8d-4f3b-b2ca-afc28b822e92",
   "metadata": {},
   "source": [
    "# plots\n",
    "\n",
    "> This module contains all functions to plot the data."
   ]
  },
  {
   "cell_type": "code",
   "execution_count": null,
   "id": "49405566-d7d0-4e19-96f0-2a7fe731c93f",
   "metadata": {},
   "outputs": [],
   "source": []
  }
 ],
 "metadata": {
  "kernelspec": {
   "display_name": "Python 3 (ipykernel)",
   "language": "python",
   "name": "python3"
  }
 },
 "nbformat": 4,
 "nbformat_minor": 5
}
