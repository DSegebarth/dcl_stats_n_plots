{
 "cells": [
  {
   "cell_type": "code",
   "execution_count": null,
   "id": "8ae682f8-e0ab-41ba-bbe2-a70afc4fa13d",
   "metadata": {},
   "outputs": [],
   "source": [
    "# default_exp database"
   ]
  },
  {
   "cell_type": "code",
   "execution_count": null,
   "id": "2c7d5035-e9b1-4c48-90b0-971bdcec0ea0",
   "metadata": {},
   "outputs": [],
   "source": [
    "#hide\n",
    "from nbdev.showdoc import *"
   ]
  },
  {
   "cell_type": "markdown",
   "id": "c6a75698-2746-4a6a-a1df-fc36dfc9f46b",
   "metadata": {},
   "source": [
    "# database\n",
    "\n",
    "> This module is used to collect, maintain, and export all relevant information (= the _database_)."
   ]
  },
  {
   "cell_type": "code",
   "execution_count": null,
   "id": "78065257-9684-4135-b797-c58825be4238",
   "metadata": {},
   "outputs": [],
   "source": [
    "#export\n",
    "import pandas as pd\n",
    "from pathlib import Path\n",
    "from typing import List, Tuple, Dict, Optional"
   ]
  },
  {
   "cell_type": "code",
   "execution_count": null,
   "id": "752b4846-7718-4897-8822-0e3fdc154182",
   "metadata": {},
   "outputs": [],
   "source": [
    "class Database:\n",
    "    \n",
    "    def __init__(self) -> None:\n",
    "        self.configs = Configs()\n"
   ]
  },
  {
   "cell_type": "code",
   "execution_count": null,
   "id": "836cf579-df6d-40e7-9b34-f08f08cc4b3b",
   "metadata": {},
   "outputs": [],
   "source": []
  },
  {
   "cell_type": "code",
   "execution_count": null,
   "id": "c0caa8b8-1e2f-41ae-9b89-0ea2abbdec15",
   "metadata": {},
   "outputs": [],
   "source": [
    "class Configs:\n",
    "    \n",
    "    def __init__(self) -> None:\n",
    "        self.set_default_configs()\n",
    "        \n",
    "    def set_default_configs(self) \n",
    "        \n",
    "    "
   ]
  }
 ],
 "metadata": {
  "kernelspec": {
   "display_name": "Python 3 (ipykernel)",
   "language": "python",
   "name": "python3"
  }
 },
 "nbformat": 4,
 "nbformat_minor": 5
}
