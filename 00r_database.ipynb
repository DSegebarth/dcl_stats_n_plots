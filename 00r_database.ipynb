{
 "cells": [
  {
   "cell_type": "code",
   "execution_count": null,
   "id": "8ae682f8-e0ab-41ba-bbe2-a70afc4fa13d",
   "metadata": {},
   "outputs": [],
   "source": [
    "# default_exp database"
   ]
  },
  {
   "cell_type": "code",
   "execution_count": null,
   "id": "2c7d5035-e9b1-4c48-90b0-971bdcec0ea0",
   "metadata": {},
   "outputs": [],
   "source": [
    "#hide\n",
    "from nbdev.showdoc import *"
   ]
  },
  {
   "cell_type": "markdown",
   "id": "c6a75698-2746-4a6a-a1df-fc36dfc9f46b",
   "metadata": {},
   "source": [
    "# database\n",
    "\n",
    "> This module is used to collect, maintain, and export all relevant information (= the _database_)."
   ]
  },
  {
   "cell_type": "code",
   "execution_count": null,
   "id": "78065257-9684-4135-b797-c58825be4238",
   "metadata": {},
   "outputs": [],
   "source": [
    "#export\n",
    "import pandas as pd\n",
    "from pathlib import Path\n",
    "from typing import List, Tuple, Dict, Optional"
   ]
  },
  {
   "cell_type": "code",
   "execution_count": null,
   "id": "1d850524-b2b9-4b4b-b3e5-6fe995d774f8",
   "metadata": {},
   "outputs": [],
   "source": [
    "#export\n",
    "DEFAULT_CONFIGS = {# General features:\n",
    "                  'fig_width': 28,\n",
    "                  'fig_height': 16,\n",
    "                  'show_legend': True,\n",
    "                  'marker_size': 5,\n",
    "                  'color_palette': 'colorblind',\n",
    "                  'save_plot': False,\n",
    "\n",
    "                  # Axes of the plot:\n",
    "                  'axes_linewidth': 1,\n",
    "                  'axes_color': '#000000',\n",
    "                  'axes_tick_size': 10,\n",
    "                  'yaxis_label_text': 'data',\n",
    "                  'yaxis_label_fontsize': 12,\n",
    "                  'yaxis_label_color': '#000000',\n",
    "                  'xaxis_label_text': 'groups',\n",
    "                  'xaxis_label_fontsize': 12,\n",
    "                  'xaxis_label_color': '#000000',\n",
    "                  'yaxis_scaling_mode': 'auto',\n",
    "                  'yaxis_lower_lim_value': 0,\n",
    "                  'yaxis_upper_lim_value': 1,\n",
    "\n",
    "                  # Annotations:\n",
    "                  'distance_brackets_to_data': 0.1,\n",
    "                  'annotation_brackets_factor': 1,\n",
    "                  'distance_stars_to_brackets': 0.5,\n",
    "                  'linewidth_annotations': 1.5,\n",
    "                  'fontsize_stars': 10,\n",
    "                  'fontweight_stars': 'bold',\n",
    "                  'l_stats_to_annotate': []\n",
    "                 }"
   ]
  },
  {
   "cell_type": "code",
   "execution_count": null,
   "id": "f0d6c182-2034-42ef-912f-6d5cf5a7bf1e",
   "metadata": {},
   "outputs": [],
   "source": [
    "# export\n",
    "class Configs:\n",
    "    \n",
    "    def __init__(self):\n",
    "        self.update(updates = DEFAULT_CONFIGS)\n",
    "\n",
    "\n",
    "    def update(self, updates: Dict) -> None:\n",
    "        for key, value in updates:\n",
    "                setattr(self, key, value)\n",
    "\n",
    "            "
   ]
  },
  {
   "cell_type": "code",
   "execution_count": null,
   "id": "752b4846-7718-4897-8822-0e3fdc154182",
   "metadata": {},
   "outputs": [],
   "source": [
    "class Database:\n",
    "    \n",
    "    def __init__(self) -> None:\n",
    "        self.configs = Configs()\n",
    "        self.undo_configs_version = Configs()\n",
    "        self.redo_configs_version = Configs()\n",
    "    \n",
    "    \n",
    "    def update_configs(self, updates: Dict) -> None:\n",
    "        self.undo_configs_version = self.configs.copy()\n",
    "        self.configs.update(updates = updates)\n",
    "        self.redo_configs_version = self.configs.copy()\n",
    "\n",
    "        \n",
    "    def undo_configs_changes(self) -> None:\n",
    "        self.configs = self.undo_configs_version.copy()\n",
    "        \n",
    "    \n",
    "    def redo_configs_changes(self) -> None:\n",
    "        self.configs = self.redo_configs_version.copy()\n",
    "        \n",
    "\n",
    "    \n",
    "    \n",
    "    \n"
   ]
  }
 ],
 "metadata": {
  "kernelspec": {
   "display_name": "Python 3 (ipykernel)",
   "language": "python",
   "name": "python3"
  }
 },
 "nbformat": 4,
 "nbformat_minor": 5
}
